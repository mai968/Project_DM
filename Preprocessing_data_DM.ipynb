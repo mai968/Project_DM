{
  "nbformat": 4,
  "nbformat_minor": 0,
  "metadata": {
    "colab": {
      "provenance": [],
      "toc_visible": true,
      "include_colab_link": true
    },
    "kernelspec": {
      "name": "python3",
      "display_name": "Python 3"
    },
    "language_info": {
      "name": "python"
    }
  },
  "cells": [
    {
      "cell_type": "markdown",
      "metadata": {
        "id": "view-in-github",
        "colab_type": "text"
      },
      "source": [
        "<a href=\"https://colab.research.google.com/github/mai968/Project_DM/blob/Hong/Preprocessing_data_DM.ipynb\" target=\"_parent\"><img src=\"https://colab.research.google.com/assets/colab-badge.svg\" alt=\"Open In Colab\"/></a>"
      ]
    },
    {
      "cell_type": "markdown",
      "source": [
        "# Convert csv -> arff"
      ],
      "metadata": {
        "id": "_sHJ9ZyT81e6"
      }
    },
    {
      "cell_type": "code",
      "source": [
        "!pip install liac-arff"
      ],
      "metadata": {
        "colab": {
          "base_uri": "https://localhost:8080/"
        },
        "id": "nK8P4R3-fpXq",
        "outputId": "c3d7fc8a-e441-4ead-8124-ed94d0cf6f73"
      },
      "execution_count": null,
      "outputs": [
        {
          "output_type": "stream",
          "name": "stdout",
          "text": [
            "Collecting liac-arff\n",
            "  Downloading liac-arff-2.5.0.tar.gz (13 kB)\n",
            "  Preparing metadata (setup.py) ... \u001b[?25l\u001b[?25hdone\n",
            "Building wheels for collected packages: liac-arff\n",
            "  Building wheel for liac-arff (setup.py) ... \u001b[?25l\u001b[?25hdone\n",
            "  Created wheel for liac-arff: filename=liac_arff-2.5.0-py3-none-any.whl size=11716 sha256=dd229b1b09c5a25ac7d42b9928805cbff2dfe4248fd0a8ddfd2b1d2f487f8b3c\n",
            "  Stored in directory: /root/.cache/pip/wheels/5d/2a/9c/3895d9617f8f49a0883ba686326d598e78a1c2f54fe3cae86d\n",
            "Successfully built liac-arff\n",
            "Installing collected packages: liac-arff\n",
            "Successfully installed liac-arff-2.5.0\n"
          ]
        }
      ]
    },
    {
      "cell_type": "code",
      "source": [
        "!pip install pandas liac-arff\n"
      ],
      "metadata": {
        "colab": {
          "base_uri": "https://localhost:8080/"
        },
        "id": "FMtlMEyrgEWl",
        "outputId": "ca2b3d70-3bb8-437e-8353-bc4028fc88c4"
      },
      "execution_count": null,
      "outputs": [
        {
          "output_type": "stream",
          "name": "stdout",
          "text": [
            "Requirement already satisfied: pandas in /usr/local/lib/python3.10/dist-packages (2.2.2)\n",
            "Requirement already satisfied: liac-arff in /usr/local/lib/python3.10/dist-packages (2.5.0)\n",
            "Requirement already satisfied: numpy>=1.22.4 in /usr/local/lib/python3.10/dist-packages (from pandas) (1.26.4)\n",
            "Requirement already satisfied: python-dateutil>=2.8.2 in /usr/local/lib/python3.10/dist-packages (from pandas) (2.8.2)\n",
            "Requirement already satisfied: pytz>=2020.1 in /usr/local/lib/python3.10/dist-packages (from pandas) (2024.2)\n",
            "Requirement already satisfied: tzdata>=2022.7 in /usr/local/lib/python3.10/dist-packages (from pandas) (2024.2)\n",
            "Requirement already satisfied: six>=1.5 in /usr/local/lib/python3.10/dist-packages (from python-dateutil>=2.8.2->pandas) (1.16.0)\n"
          ]
        }
      ]
    },
    {
      "cell_type": "code",
      "execution_count": null,
      "metadata": {
        "collapsed": true,
        "id": "Go4UxXRSeCLe"
      },
      "outputs": [],
      "source": [
        "import pandas as pd\n",
        "import arff\n",
        "\n",
        "# Đọc dữ liệu từ file CSV\n",
        "data = pd.read_csv('cleaned_data.csv')\n",
        "\n",
        "# Chuẩn bị dữ liệu cho file ARFF\n",
        "arff_data = {\n",
        "    'description': '',\n",
        "    'relation': 'dataset',\n",
        "    'attributes': [(col, 'NUMERIC') for col in data.columns],  # Giả sử tất cả cột là kiểu số\n",
        "    'data': data.values.tolist()  # Chuyển DataFrame thành danh sách để tương thích với ARFF\n",
        "}\n",
        "\n",
        "# Ghi file ARFF\n",
        "with open('cleaned_data.arff', 'w') as f:\n",
        "    arff.dump(arff_data, f)\n"
      ]
    },
    {
      "cell_type": "markdown",
      "source": [
        "# CODE mẫu"
      ],
      "metadata": {
        "id": "Un0jbu_dbwKp"
      }
    },
    {
      "cell_type": "code",
      "source": [
        "import pandas as pd\n",
        "from sklearn.model_selection import train_test_split\n",
        "from sklearn.preprocessing import StandardScaler, OneHotEncoder\n",
        "from sklearn.impute import SimpleImputer\n",
        "from sklearn.compose import ColumnTransformer\n",
        "from sklearn.pipeline import Pipeline\n",
        "\n",
        "# Load the dataset\n",
        "file_path = 'auto-mpg.csv'\n",
        "data = pd.read_csv(file_path)\n",
        "\n",
        "# Step 1: Data Cleaning\n",
        "# Convert 'horsepower' to numeric, coerce errors, and check for missing values\n",
        "data['horsepower'] = pd.to_numeric(data['horsepower'], errors='coerce')\n",
        "\n",
        "# Handle missing values by imputing with median for numerical columns\n",
        "imputer = SimpleImputer(strategy='median')\n",
        "data[['horsepower']] = imputer.fit_transform(data[['horsepower']])\n",
        "\n",
        "# Step 2: Feature Engineering\n",
        "# Drop 'car_name' as it may not contribute directly to the analysis\n",
        "data = data.drop(columns=['car_name'])\n",
        "\n",
        "# Step 3: Encoding Categorical Variables\n",
        "# Encode 'origin' column (assuming it represents categories like region or country)\n",
        "data['origin'] = data['origin'].astype(str)  # Convert to string for one-hot encoding\n",
        "\n",
        "# Step 4: Splitting Data\n",
        "X = data.drop('mpg', axis=1)  # Features\n",
        "y = data['mpg']               # Target\n",
        "\n",
        "# Train-test split\n",
        "X_train, X_test, y_train, y_test = train_test_split(X, y, test_size=0.2, random_state=42)\n",
        "\n",
        "# Step 5: Data Transformation Pipeline\n",
        "# Set up preprocessing pipeline\n",
        "numerical_features = ['cylinders', 'displacement', 'horsepower', 'weight', 'acceleration', 'model_year']\n",
        "categorical_features = ['origin']\n",
        "\n",
        "# Numerical pipeline with StandardScaler\n",
        "numerical_pipeline = Pipeline([\n",
        "    ('scaler', StandardScaler())\n",
        "])\n",
        "\n",
        "# Categorical pipeline with OneHotEncoder\n",
        "categorical_pipeline = Pipeline([\n",
        "    ('onehot', OneHotEncoder(drop='first'))\n",
        "])\n",
        "\n",
        "# Combine both pipelines\n",
        "preprocessor = ColumnTransformer([\n",
        "    ('num', numerical_pipeline, numerical_features),\n",
        "    ('cat', categorical_pipeline, categorical_features)\n",
        "])\n",
        "\n",
        "# Fit the pipeline on the training data and transform the test data\n",
        "X_train_processed = preprocessor.fit_transform(X_train)\n",
        "X_test_processed = preprocessor.transform(X_test)\n",
        "\n",
        "# The dataset is now preprocessed and ready for analysis or modeling\n",
        "print(\"Preprocessing complete.\")\n"
      ],
      "metadata": {
        "id": "i09RXImhbzBT"
      },
      "execution_count": null,
      "outputs": []
    },
    {
      "cell_type": "markdown",
      "source": [
        "# Preprocessing dataset"
      ],
      "metadata": {
        "id": "l9Zm0Q2_aPsz"
      }
    },
    {
      "cell_type": "code",
      "source": [
        "import pandas as pd\n",
        "import numpy as np\n",
        "# import arff\n",
        "\n",
        "# Load the dataset to inspect its structure\n",
        "file_path = 'auto-mpg.csv'\n",
        "data = pd.read_csv(file_path)\n",
        "\n",
        "# Display the first few rows and some basic info about the dataset\n",
        "data_info = data.info()\n",
        "data_head = data.head()\n",
        "\n",
        "data_info, data_head\n"
      ],
      "metadata": {
        "colab": {
          "base_uri": "https://localhost:8080/"
        },
        "id": "uInyEY93aTcb",
        "outputId": "774b1fc0-21ac-4340-9cba-46c03aa642ff"
      },
      "execution_count": 1,
      "outputs": [
        {
          "output_type": "stream",
          "name": "stdout",
          "text": [
            "<class 'pandas.core.frame.DataFrame'>\n",
            "RangeIndex: 398 entries, 0 to 397\n",
            "Data columns (total 9 columns):\n",
            " #   Column        Non-Null Count  Dtype  \n",
            "---  ------        --------------  -----  \n",
            " 0   mpg           398 non-null    float64\n",
            " 1   cylinders     398 non-null    int64  \n",
            " 2   displacement  398 non-null    float64\n",
            " 3   horsepower    398 non-null    object \n",
            " 4   weight        398 non-null    float64\n",
            " 5   acceleration  398 non-null    float64\n",
            " 6   model_year    398 non-null    int64  \n",
            " 7   origin        398 non-null    int64  \n",
            " 8   car_name      398 non-null    object \n",
            "dtypes: float64(4), int64(3), object(2)\n",
            "memory usage: 28.1+ KB\n"
          ]
        },
        {
          "output_type": "execute_result",
          "data": {
            "text/plain": [
              "(None,\n",
              "     mpg  cylinders  displacement horsepower  weight  acceleration  model_year  \\\n",
              " 0  18.0          8         307.0      130.0  3504.0          12.0          70   \n",
              " 1  15.0          8         350.0      165.0  3693.0          11.5          70   \n",
              " 2  18.0          8         318.0      150.0  3436.0          11.0          70   \n",
              " 3  16.0          8         304.0      150.0  3433.0          12.0          70   \n",
              " 4  17.0          8         302.0      140.0  3449.0          10.5          70   \n",
              " \n",
              "    origin                   car_name  \n",
              " 0       1  chevrolet chevelle malibu  \n",
              " 1       1          buick skylark 320  \n",
              " 2       1         plymouth satellite  \n",
              " 3       1              amc rebel sst  \n",
              " 4       1                ford torino  )"
            ]
          },
          "metadata": {},
          "execution_count": 1
        }
      ]
    },
    {
      "cell_type": "markdown",
      "source": [
        "## **Data Cleaning**\n"
      ],
      "metadata": {
        "id": "Q1Fi6DcQai41"
      }
    },
    {
      "cell_type": "code",
      "source": [
        "df = data.copy()\n",
        "df.info()"
      ],
      "metadata": {
        "colab": {
          "base_uri": "https://localhost:8080/"
        },
        "id": "xFP_KaTxbBgE",
        "outputId": "f50ea605-88c6-42ba-a21d-30419d256122"
      },
      "execution_count": null,
      "outputs": [
        {
          "output_type": "stream",
          "name": "stdout",
          "text": [
            "<class 'pandas.core.frame.DataFrame'>\n",
            "RangeIndex: 398 entries, 0 to 397\n",
            "Data columns (total 9 columns):\n",
            " #   Column        Non-Null Count  Dtype  \n",
            "---  ------        --------------  -----  \n",
            " 0   mpg           398 non-null    float64\n",
            " 1   cylinders     398 non-null    int64  \n",
            " 2   displacement  398 non-null    float64\n",
            " 3   horsepower    398 non-null    object \n",
            " 4   weight        398 non-null    float64\n",
            " 5   acceleration  398 non-null    float64\n",
            " 6   model_year    398 non-null    int64  \n",
            " 7   origin        398 non-null    int64  \n",
            " 8   car_name      398 non-null    object \n",
            "dtypes: float64(4), int64(3), object(2)\n",
            "memory usage: 28.1+ KB\n"
          ]
        }
      ]
    },
    {
      "cell_type": "markdown",
      "source": [
        "**Correct Inconsistencies:**\n",
        "Check for inconsistent data entries and correct them (e.g., standardizing text formats)."
      ],
      "metadata": {
        "id": "vvkuuzFXbTTB"
      }
    },
    {
      "cell_type": "code",
      "source": [
        "# Step 1: Data Cleaning\n",
        "# Convert 'horsepower' to numeric, coerce errors, and check for missing values\n",
        "df['horsepower'] = pd.to_numeric(df['horsepower'], errors='coerce')\n",
        "df.info()"
      ],
      "metadata": {
        "colab": {
          "base_uri": "https://localhost:8080/"
        },
        "id": "jK5Ur8pYayO1",
        "outputId": "3f8065a7-6736-4b60-bc79-4609afb9bf02"
      },
      "execution_count": null,
      "outputs": [
        {
          "output_type": "stream",
          "name": "stdout",
          "text": [
            "<class 'pandas.core.frame.DataFrame'>\n",
            "RangeIndex: 398 entries, 0 to 397\n",
            "Data columns (total 9 columns):\n",
            " #   Column        Non-Null Count  Dtype  \n",
            "---  ------        --------------  -----  \n",
            " 0   mpg           398 non-null    float64\n",
            " 1   cylinders     398 non-null    int64  \n",
            " 2   displacement  398 non-null    float64\n",
            " 3   horsepower    392 non-null    float64\n",
            " 4   weight        398 non-null    float64\n",
            " 5   acceleration  398 non-null    float64\n",
            " 6   model_year    398 non-null    int64  \n",
            " 7   origin        398 non-null    int64  \n",
            " 8   car_name      398 non-null    object \n",
            "dtypes: float64(5), int64(3), object(1)\n",
            "memory usage: 28.1+ KB\n"
          ]
        }
      ]
    },
    {
      "cell_type": "markdown",
      "source": [
        "**Handle Missing Values:**\n",
        "Decide on appropriate methods to handle missing data (e.g., removal, mean/mode/median imputation, forward/backward fill)."
      ],
      "metadata": {
        "id": "wV7Z3GaparYN"
      }
    },
    {
      "cell_type": "code",
      "source": [
        "# Display the positions of missing values\n",
        "missing_positions = df[df.isnull().any(axis=1)].isnull()\n",
        "\n",
        "# Show the row and column indices with missing values\n",
        "missing_positions = missing_positions[missing_positions.any(axis=1)]\n",
        "missing_indices = missing_positions[missing_positions == True].stack().index.tolist()\n",
        "\n",
        "print(\"Positions of missing values (row, column):\")\n",
        "for index in missing_indices:\n",
        "    print(index)"
      ],
      "metadata": {
        "colab": {
          "base_uri": "https://localhost:8080/"
        },
        "id": "DqEG7Itbb4u8",
        "outputId": "fe29599a-2cd3-408d-ab71-55e404c22aba"
      },
      "execution_count": null,
      "outputs": [
        {
          "output_type": "stream",
          "name": "stdout",
          "text": [
            "Positions of missing values (row, column):\n",
            "(32, 'horsepower')\n",
            "(126, 'horsepower')\n",
            "(330, 'horsepower')\n",
            "(336, 'horsepower')\n",
            "(354, 'horsepower')\n",
            "(374, 'horsepower')\n"
          ]
        }
      ]
    },
    {
      "cell_type": "code",
      "source": [
        "# Calculate the total number of missing values\n",
        "total_missing = len(missing_indices)\n",
        "\n",
        "# Calculate the total number of entries (rows) in the dataset\n",
        "total_entries = 398\n",
        "\n",
        "# Calculate the percentage of missing values\n",
        "missing_percentage = (total_missing / total_entries) * 100\n",
        "\n",
        "print(f\"Percentage of missing values: {missing_percentage}%\")\n"
      ],
      "metadata": {
        "colab": {
          "base_uri": "https://localhost:8080/"
        },
        "id": "sXO-ehyJcReq",
        "outputId": "2f26e155-bb6e-4f79-b1de-eb457f67d011"
      },
      "execution_count": null,
      "outputs": [
        {
          "output_type": "stream",
          "name": "stdout",
          "text": [
            "Percentage of missing values: 1.507537688442211%\n"
          ]
        }
      ]
    },
    {
      "cell_type": "markdown",
      "source": [
        "Nếu dữ liệu của bạn không có ngoại lệ lớn và là biến số liên tục, hãy xem xét sử dụng mean.\n",
        "\n",
        "Nếu dữ liệu có ngoại lệ hoặc không phân phối chuẩn, hãy chọn median.\n",
        "\n",
        "Nếu bạn đang làm việc với biến phân loại, hãy sử dụng mode.\n",
        "\n",
        "mean ~ median => phân phối chuẩn\n",
        "\n",
        "mean =! median => ko chuẩn"
      ],
      "metadata": {
        "id": "ol53K4Greex6"
      }
    },
    {
      "cell_type": "code",
      "source": [
        "print(df.describe())"
      ],
      "metadata": {
        "colab": {
          "base_uri": "https://localhost:8080/"
        },
        "id": "92QmUpEdeRGv",
        "outputId": "b49f01a4-dae4-4f3f-cc1e-480d9fe159fb"
      },
      "execution_count": null,
      "outputs": [
        {
          "output_type": "stream",
          "name": "stdout",
          "text": [
            "              mpg   cylinders  displacement  horsepower       weight  \\\n",
            "count  398.000000  398.000000    398.000000  392.000000   398.000000   \n",
            "mean    23.514573    5.454774    193.425879  104.469388  2970.424623   \n",
            "std      7.815984    1.701004    104.269838   38.491160   846.841774   \n",
            "min      9.000000    3.000000     68.000000   46.000000  1613.000000   \n",
            "25%     17.500000    4.000000    104.250000   75.000000  2223.750000   \n",
            "50%     23.000000    4.000000    148.500000   93.500000  2803.500000   \n",
            "75%     29.000000    8.000000    262.000000  126.000000  3608.000000   \n",
            "max     46.600000    8.000000    455.000000  230.000000  5140.000000   \n",
            "\n",
            "       acceleration  model_year      origin  \n",
            "count    398.000000  398.000000  398.000000  \n",
            "mean      15.568090   76.010050    1.572864  \n",
            "std        2.757689    3.697627    0.802055  \n",
            "min        8.000000   70.000000    1.000000  \n",
            "25%       13.825000   73.000000    1.000000  \n",
            "50%       15.500000   76.000000    1.000000  \n",
            "75%       17.175000   79.000000    2.000000  \n",
            "max       24.800000   82.000000    3.000000  \n"
          ]
        }
      ]
    },
    {
      "cell_type": "code",
      "source": [
        "# Step 2: Handle Missing Values by Dropping Rows with Missing Data\n",
        "# Drop rows with any missing values\n",
        "df_cleaned = df.dropna()\n",
        "\n",
        "# Verify that there are no more missing values\n",
        "df_cleaned.info()\n",
        "\n",
        "print(\"Preprocessing complete.\")\n"
      ],
      "metadata": {
        "colab": {
          "base_uri": "https://localhost:8080/"
        },
        "id": "oNygLOuYbbAe",
        "outputId": "7ada4565-436c-4658-9d43-79bb9ebd9c49"
      },
      "execution_count": null,
      "outputs": [
        {
          "output_type": "stream",
          "name": "stdout",
          "text": [
            "<class 'pandas.core.frame.DataFrame'>\n",
            "Index: 392 entries, 0 to 397\n",
            "Data columns (total 9 columns):\n",
            " #   Column        Non-Null Count  Dtype  \n",
            "---  ------        --------------  -----  \n",
            " 0   mpg           392 non-null    float64\n",
            " 1   cylinders     392 non-null    int64  \n",
            " 2   displacement  392 non-null    float64\n",
            " 3   horsepower    392 non-null    float64\n",
            " 4   weight        392 non-null    float64\n",
            " 5   acceleration  392 non-null    float64\n",
            " 6   model_year    392 non-null    int64  \n",
            " 7   origin        392 non-null    int64  \n",
            " 8   car_name      392 non-null    object \n",
            "dtypes: float64(5), int64(3), object(1)\n",
            "memory usage: 30.6+ KB\n",
            "Preprocessing complete.\n"
          ]
        }
      ]
    },
    {
      "cell_type": "code",
      "source": [
        "print(df_cleaned)"
      ],
      "metadata": {
        "colab": {
          "base_uri": "https://localhost:8080/"
        },
        "id": "31TGNV_ZswNi",
        "outputId": "ce751f43-4368-46d1-9e49-bd1ca20dd7ff"
      },
      "execution_count": null,
      "outputs": [
        {
          "output_type": "stream",
          "name": "stdout",
          "text": [
            "      mpg  cylinders  displacement  horsepower  weight  acceleration  \\\n",
            "0    18.0          8         307.0       130.0  3504.0          12.0   \n",
            "1    15.0          8         350.0       165.0  3693.0          11.5   \n",
            "2    18.0          8         318.0       150.0  3436.0          11.0   \n",
            "3    16.0          8         304.0       150.0  3433.0          12.0   \n",
            "4    17.0          8         302.0       140.0  3449.0          10.5   \n",
            "..    ...        ...           ...         ...     ...           ...   \n",
            "393  27.0          4         140.0        86.0  2790.0          15.6   \n",
            "394  44.0          4          97.0        52.0  2130.0          24.6   \n",
            "395  32.0          4         135.0        84.0  2295.0          11.6   \n",
            "396  28.0          4         120.0        79.0  2625.0          18.6   \n",
            "397  31.0          4         119.0        82.0  2720.0          19.4   \n",
            "\n",
            "     model_year  origin                   car_name  \n",
            "0            70       1  chevrolet chevelle malibu  \n",
            "1            70       1          buick skylark 320  \n",
            "2            70       1         plymouth satellite  \n",
            "3            70       1              amc rebel sst  \n",
            "4            70       1                ford torino  \n",
            "..          ...     ...                        ...  \n",
            "393          82       1            ford mustang gl  \n",
            "394          82       2                  vw pickup  \n",
            "395          82       1              dodge rampage  \n",
            "396          82       1                ford ranger  \n",
            "397          82       1                 chevy s-10  \n",
            "\n",
            "[392 rows x 9 columns]\n"
          ]
        }
      ]
    },
    {
      "cell_type": "code",
      "source": [
        "df1 = df_cleaned.copy()\n",
        "# df1"
      ],
      "metadata": {
        "id": "elJy2KTiiMRl"
      },
      "execution_count": null,
      "outputs": []
    },
    {
      "cell_type": "markdown",
      "source": [
        "**Outlier Detection and Treatment:**\n",
        "Identify outliers that might impact analysis, and either remove or transform them as needed."
      ],
      "metadata": {
        "id": "abNiGPnDiTN3"
      }
    },
    {
      "cell_type": "markdown",
      "source": [
        "Step 1: Outlier Detection using IQR\n",
        "The Interquartile Range (IQR) method is commonly used to detect outliers. For each numeric column, data points that fall below Q1 - 1.5 * IQR or above Q3 + 1.5 * IQR are considered outliers."
      ],
      "metadata": {
        "id": "QmlfYSvjjXIX"
      }
    },
    {
      "cell_type": "code",
      "source": [
        "import pandas as pd\n",
        "import numpy as np\n",
        "\n",
        "# Step 1: Identify Outliers using the IQR method\n",
        "def detect_outliers_iqr(df):\n",
        "    outliers = {}\n",
        "    outlier_percentages = {}\n",
        "    for col in df.select_dtypes(include=[np.number]).columns:  # Select numeric columns only\n",
        "        Q1 = df[col].quantile(0.25)\n",
        "        Q3 = df[col].quantile(0.75)\n",
        "        IQR = Q3 - Q1\n",
        "        lower_bound = Q1 - 1.5 * IQR\n",
        "        upper_bound = Q3 + 1.5 * IQR\n",
        "        outlier_rows = df[(df[col] < lower_bound) | (df[col] > upper_bound)]\n",
        "\n",
        "        # Add index list of outliers to dictionary\n",
        "        outliers[col] = outlier_rows.index.tolist()\n",
        "\n",
        "        # Calculate the percentage of outliers compared to the total number of rows\n",
        "        outlier_percentage = (len(outlier_rows) / len(df)) * 100\n",
        "        outlier_percentages[col] = outlier_percentage\n",
        "\n",
        "    return outliers, outlier_percentages\n",
        "\n",
        "outliers, outlier_percentages = detect_outliers_iqr(df1)\n",
        "\n",
        "# Display outlier positions by column\n",
        "print(\"Outliers detected by column:\")\n",
        "for col, indices in outliers.items():\n",
        "    print(f\"{col}: {indices}\")"
      ],
      "metadata": {
        "colab": {
          "base_uri": "https://localhost:8080/"
        },
        "id": "GGDBwPpwiRle",
        "outputId": "429bfca1-083c-40a0-9552-fb7f11e22db3"
      },
      "execution_count": null,
      "outputs": [
        {
          "output_type": "stream",
          "name": "stdout",
          "text": [
            "Outliers detected by column:\n",
            "mpg: []\n",
            "cylinders: []\n",
            "displacement: []\n",
            "horsepower: [6, 7, 8, 13, 25, 27, 67, 94, 95, 116]\n",
            "weight: []\n",
            "acceleration: [7, 9, 11, 59, 195, 196, 209, 299, 300, 326, 394]\n",
            "model_year: []\n",
            "origin: []\n"
          ]
        }
      ]
    },
    {
      "cell_type": "code",
      "source": [
        "# Hiển thị kết quả cho 'horsepower' (hoặc bạn có thể làm cho code này linh hoạt hơn)\n",
        "column = 'horsepower'\n",
        "num_outliers_horsepower = len(outliers.get(column, []))\n",
        "outlier_percentage_horsepower = outlier_percentages.get(column, 0)\n",
        "\n",
        "print(f\"Number of outliers in {column}: {num_outliers_horsepower}\")\n",
        "print(f\"Percentage of outliers in {column}: {outlier_percentage_horsepower:.2f}%\")\n"
      ],
      "metadata": {
        "colab": {
          "base_uri": "https://localhost:8080/"
        },
        "id": "ILRk6xfHohmp",
        "outputId": "c8bbc3fe-b85e-4d85-e928-d8140a8eb781"
      },
      "execution_count": null,
      "outputs": [
        {
          "output_type": "stream",
          "name": "stdout",
          "text": [
            "Number of outliers in horsepower: 10\n",
            "Percentage of outliers in horsepower: 2.55%\n"
          ]
        }
      ]
    },
    {
      "cell_type": "code",
      "source": [
        "# Hiển thị kết quả cho 'acceleration' (hoặc bạn có thể làm cho code này linh hoạt hơn)\n",
        "column = 'acceleration'\n",
        "num_outliers_acceleration = len(outliers.get(column, []))\n",
        "outlier_percentage_acceleration = outlier_percentages.get(column, 0)\n",
        "\n",
        "print(f\"Number of outliers in {column}: {num_outliers_acceleration}\")\n",
        "print(f\"Percentage of outliers in {column}: {outlier_percentage_acceleration:.2f}%\")\n"
      ],
      "metadata": {
        "colab": {
          "base_uri": "https://localhost:8080/"
        },
        "id": "RL2q66z0qP54",
        "outputId": "cf20cbcc-080e-4c4e-9dde-4358aafae157"
      },
      "execution_count": null,
      "outputs": [
        {
          "output_type": "stream",
          "name": "stdout",
          "text": [
            "Number of outliers in acceleration: 11\n",
            "Percentage of outliers in acceleration: 2.81%\n"
          ]
        }
      ]
    },
    {
      "cell_type": "code",
      "source": [
        "import pandas as pd\n",
        "import numpy as np\n",
        "\n",
        "\n",
        "# Identify and remove outliers in all columns using IQR method\n",
        "def remove_outliers_iqr(df):\n",
        "    # Create an initial mask that is True for all rows\n",
        "    mask = np.ones(len(df), dtype=bool)\n",
        "\n",
        "    for col in df.select_dtypes(include=[np.number]).columns:\n",
        "        Q1 = df[col].quantile(0.25)\n",
        "        Q3 = df[col].quantile(0.75)\n",
        "        IQR = Q3 - Q1\n",
        "        lower_bound = Q1 - 1.5 * IQR\n",
        "        upper_bound = Q3 + 1.5 * IQR\n",
        "\n",
        "        # Update mask for lines containing outliers (outliers = False)\n",
        "        mask = mask & (df[col] >= lower_bound) & (df[col] <= upper_bound)\n",
        "\n",
        "    # Filter non-outlier rows based on mask\n",
        "    df_clean = df[mask]\n",
        "    return df_clean\n",
        "\n",
        "# Remove outliers from df1\n",
        "df1_clean1 = remove_outliers_iqr(df1)\n",
        "\n",
        "print(df1_clean1)\n"
      ],
      "metadata": {
        "colab": {
          "base_uri": "https://localhost:8080/"
        },
        "id": "f3v1rDlhtbe_",
        "outputId": "bd5fec18-ab7e-4bb5-f7ec-16e8d0f96ab3"
      },
      "execution_count": null,
      "outputs": [
        {
          "output_type": "stream",
          "name": "stdout",
          "text": [
            "      mpg  cylinders  displacement  horsepower  weight  acceleration  \\\n",
            "0    18.0          8         307.0       130.0  3504.0          12.0   \n",
            "1    15.0          8         350.0       165.0  3693.0          11.5   \n",
            "2    18.0          8         318.0       150.0  3436.0          11.0   \n",
            "3    16.0          8         304.0       150.0  3433.0          12.0   \n",
            "4    17.0          8         302.0       140.0  3449.0          10.5   \n",
            "..    ...        ...           ...         ...     ...           ...   \n",
            "392  27.0          4         151.0        90.0  2950.0          17.3   \n",
            "393  27.0          4         140.0        86.0  2790.0          15.6   \n",
            "395  32.0          4         135.0        84.0  2295.0          11.6   \n",
            "396  28.0          4         120.0        79.0  2625.0          18.6   \n",
            "397  31.0          4         119.0        82.0  2720.0          19.4   \n",
            "\n",
            "     model_year  origin                   car_name  \n",
            "0            70       1  chevrolet chevelle malibu  \n",
            "1            70       1          buick skylark 320  \n",
            "2            70       1         plymouth satellite  \n",
            "3            70       1              amc rebel sst  \n",
            "4            70       1                ford torino  \n",
            "..          ...     ...                        ...  \n",
            "392          82       1           chevrolet camaro  \n",
            "393          82       1            ford mustang gl  \n",
            "395          82       1              dodge rampage  \n",
            "396          82       1                ford ranger  \n",
            "397          82       1                 chevy s-10  \n",
            "\n",
            "[372 rows x 9 columns]\n"
          ]
        }
      ]
    },
    {
      "cell_type": "code",
      "source": [
        "df_after_handle_outlier = df1_clean1.copy()\n",
        "df2 = df_after_handle_outlier.copy()\n",
        "print(df2)"
      ],
      "metadata": {
        "id": "9Nt383LBwV9S",
        "colab": {
          "base_uri": "https://localhost:8080/"
        },
        "outputId": "7107813b-4539-48a3-b66a-f5e7421f5415"
      },
      "execution_count": null,
      "outputs": [
        {
          "output_type": "stream",
          "name": "stdout",
          "text": [
            "      mpg  cylinders  displacement  horsepower  weight  acceleration  \\\n",
            "0    18.0          8         307.0       130.0  3504.0          12.0   \n",
            "1    15.0          8         350.0       165.0  3693.0          11.5   \n",
            "2    18.0          8         318.0       150.0  3436.0          11.0   \n",
            "3    16.0          8         304.0       150.0  3433.0          12.0   \n",
            "4    17.0          8         302.0       140.0  3449.0          10.5   \n",
            "..    ...        ...           ...         ...     ...           ...   \n",
            "392  27.0          4         151.0        90.0  2950.0          17.3   \n",
            "393  27.0          4         140.0        86.0  2790.0          15.6   \n",
            "395  32.0          4         135.0        84.0  2295.0          11.6   \n",
            "396  28.0          4         120.0        79.0  2625.0          18.6   \n",
            "397  31.0          4         119.0        82.0  2720.0          19.4   \n",
            "\n",
            "     model_year  origin                   car_name  \n",
            "0            70       1  chevrolet chevelle malibu  \n",
            "1            70       1          buick skylark 320  \n",
            "2            70       1         plymouth satellite  \n",
            "3            70       1              amc rebel sst  \n",
            "4            70       1                ford torino  \n",
            "..          ...     ...                        ...  \n",
            "392          82       1           chevrolet camaro  \n",
            "393          82       1            ford mustang gl  \n",
            "395          82       1              dodge rampage  \n",
            "396          82       1                ford ranger  \n",
            "397          82       1                 chevy s-10  \n",
            "\n",
            "[372 rows x 9 columns]\n"
          ]
        }
      ]
    },
    {
      "cell_type": "markdown",
      "source": [
        "**Feature Engineering**"
      ],
      "metadata": {
        "id": "yfw7wPAzutcF"
      }
    },
    {
      "cell_type": "markdown",
      "source": [
        "**Feature Selection:**\n",
        "Feature selection is the process of identifying and choosing the most important features that significantly contribute to predicting the target variable. The goal is to reduce the number of features by eliminating irrelevant or redundant ones, which can lead to more efficient models with better generalization, faster training times, and reduced risk of overfitting.\n"
      ],
      "metadata": {
        "id": "ig7MIz3iwKCv"
      }
    },
    {
      "cell_type": "code",
      "source": [
        "# Step 2: Feature Engineering\n",
        "# Drop 'car_name' as it may not contribute directly to the analysis\n",
        "df2 = df2.drop(columns=['car_name'])\n",
        "df2.info()"
      ],
      "metadata": {
        "colab": {
          "base_uri": "https://localhost:8080/"
        },
        "id": "Gv3NPdpAxiwA",
        "outputId": "08338ac4-84a3-440b-c4d9-ea45be51c94c"
      },
      "execution_count": null,
      "outputs": [
        {
          "output_type": "stream",
          "name": "stdout",
          "text": [
            "<class 'pandas.core.frame.DataFrame'>\n",
            "Index: 372 entries, 0 to 397\n",
            "Data columns (total 8 columns):\n",
            " #   Column        Non-Null Count  Dtype  \n",
            "---  ------        --------------  -----  \n",
            " 0   mpg           372 non-null    float64\n",
            " 1   cylinders     372 non-null    int64  \n",
            " 2   displacement  372 non-null    float64\n",
            " 3   horsepower    372 non-null    float64\n",
            " 4   weight        372 non-null    float64\n",
            " 5   acceleration  372 non-null    float64\n",
            " 6   model_year    372 non-null    int64  \n",
            " 7   origin        372 non-null    int64  \n",
            "dtypes: float64(5), int64(3)\n",
            "memory usage: 26.2 KB\n"
          ]
        }
      ]
    },
    {
      "cell_type": "code",
      "source": [
        "correlation_matrix = df2.corr()\n",
        "print(correlation_matrix)"
      ],
      "metadata": {
        "colab": {
          "base_uri": "https://localhost:8080/"
        },
        "id": "zdwuE6nRx_ki",
        "outputId": "ae52c8e8-d116-49a2-b7ff-fcd87ed41a59"
      },
      "execution_count": null,
      "outputs": [
        {
          "output_type": "stream",
          "name": "stdout",
          "text": [
            "                   mpg  cylinders  displacement  horsepower    weight  \\\n",
            "mpg           1.000000  -0.773752     -0.807124   -0.791483 -0.832137   \n",
            "cylinders    -0.773752   1.000000      0.955883    0.857902  0.898313   \n",
            "displacement -0.807124   0.955883      1.000000    0.888231  0.940350   \n",
            "horsepower   -0.791483   0.857902      0.888231    1.000000  0.882085   \n",
            "weight       -0.832137   0.898313      0.940350    0.882085  1.000000   \n",
            "acceleration  0.375479  -0.474818     -0.489523   -0.652216 -0.382518   \n",
            "model_year    0.552155  -0.305033     -0.315537   -0.354527 -0.268218   \n",
            "origin        0.563733  -0.561826     -0.622121   -0.464135 -0.586258   \n",
            "\n",
            "              acceleration  model_year    origin  \n",
            "mpg               0.375479    0.552155  0.563733  \n",
            "cylinders        -0.474818   -0.305033 -0.561826  \n",
            "displacement     -0.489523   -0.315537 -0.622121  \n",
            "horsepower       -0.652216   -0.354527 -0.464135  \n",
            "weight           -0.382518   -0.268218 -0.586258  \n",
            "acceleration      1.000000    0.225736  0.196334  \n",
            "model_year        0.225736    1.000000  0.156953  \n",
            "origin            0.196334    0.156953  1.000000  \n"
          ]
        }
      ]
    },
    {
      "cell_type": "markdown",
      "source": [
        "## Choose mpg for predict"
      ],
      "metadata": {
        "id": "BAdCr4TgF3si"
      }
    },
    {
      "cell_type": "code",
      "source": [
        "import statsmodels.api as sm\n",
        "\n",
        "# Chọn biến phụ thuộc (y) và biến độc lập (X)\n",
        "y = df2['mpg']  # Ví dụ chọn mpg làm biến phụ thuộc\n",
        "X = df2.drop('mpg', axis=1)  # Các biến còn lại là biến độc lập\n",
        "\n",
        "# Thêm một cột 1 vào X để tính toán hệ số chặn (intercept)\n",
        "X = sm.add_constant(X)\n",
        "\n",
        "# Chạy hồi quy OLS lại sau khi đã loại bỏ cột 'acceleration'\n",
        "model = sm.OLS(y, X).fit()\n",
        "\n",
        "# In kết quả tóm tắt\n",
        "print(model.summary())"
      ],
      "metadata": {
        "colab": {
          "base_uri": "https://localhost:8080/"
        },
        "id": "PG4zEVnYyJ4T",
        "outputId": "58b77bdd-08bf-44a5-8abc-33d6a10af88c",
        "collapsed": true
      },
      "execution_count": null,
      "outputs": [
        {
          "output_type": "stream",
          "name": "stdout",
          "text": [
            "                            OLS Regression Results                            \n",
            "==============================================================================\n",
            "Dep. Variable:                    mpg   R-squared:                       0.822\n",
            "Model:                            OLS   Adj. R-squared:                  0.819\n",
            "Method:                 Least Squares   F-statistic:                     240.7\n",
            "Date:                Tue, 19 Nov 2024   Prob (F-statistic):          2.23e-132\n",
            "Time:                        09:06:16   Log-Likelihood:                -962.00\n",
            "No. Observations:                 372   AIC:                             1940.\n",
            "Df Residuals:                     364   BIC:                             1971.\n",
            "Df Model:                           7                                         \n",
            "Covariance Type:            nonrobust                                         \n",
            "================================================================================\n",
            "                   coef    std err          t      P>|t|      [0.025      0.975]\n",
            "--------------------------------------------------------------------------------\n",
            "const          -12.5317      4.731     -2.649      0.008     -21.834      -3.229\n",
            "cylinders       -0.2533      0.347     -0.730      0.466      -0.936       0.429\n",
            "displacement     0.0139      0.008      1.685      0.093      -0.002       0.030\n",
            "horsepower      -0.0400      0.016     -2.466      0.014      -0.072      -0.008\n",
            "weight          -0.0058      0.001     -7.666      0.000      -0.007      -0.004\n",
            "acceleration    -0.0764      0.114     -0.672      0.502      -0.300       0.147\n",
            "model_year       0.7231      0.051     14.312      0.000       0.624       0.822\n",
            "origin           1.3590      0.275      4.937      0.000       0.818       1.900\n",
            "==============================================================================\n",
            "Omnibus:                       28.579   Durbin-Watson:                   1.364\n",
            "Prob(Omnibus):                  0.000   Jarque-Bera (JB):               48.337\n",
            "Skew:                           0.493   Prob(JB):                     3.19e-11\n",
            "Kurtosis:                       4.465   Cond. No.                     8.62e+04\n",
            "==============================================================================\n",
            "\n",
            "Notes:\n",
            "[1] Standard Errors assume that the covariance matrix of the errors is correctly specified.\n",
            "[2] The condition number is large, 8.62e+04. This might indicate that there are\n",
            "strong multicollinearity or other numerical problems.\n"
          ]
        }
      ]
    },
    {
      "cell_type": "markdown",
      "source": [
        "Drop acceleration    "
      ],
      "metadata": {
        "id": "v0t4OeePzwzg"
      }
    },
    {
      "cell_type": "code",
      "source": [
        "import statsmodels.api as sm\n",
        "\n",
        "# Loại bỏ cột 'acceleration' vì p-value > 0.05\n",
        "df2 = df2.drop('acceleration', axis=1)\n",
        "print(df2)\n",
        "\n",
        "# Chọn biến phụ thuộc (y) và biến độc lập (X)\n",
        "y = df2['mpg']  # Ví dụ chọn mpg làm biến phụ thuộc\n",
        "X = df2.drop('mpg', axis=1)  # Các biến còn lại là biến độc lập\n",
        "\n",
        "# Thêm một cột 1 vào X để tính toán hệ số chặn (intercept)\n",
        "X = sm.add_constant(X)\n",
        "\n",
        "# Chạy hồi quy OLS lại sau khi đã loại bỏ cột 'acceleration'\n",
        "model = sm.OLS(y, X).fit()\n",
        "\n",
        "# In kết quả tóm tắt\n",
        "print(model.summary())\n"
      ],
      "metadata": {
        "colab": {
          "base_uri": "https://localhost:8080/"
        },
        "id": "cGJEoV5Pzy5p",
        "outputId": "2ea716be-9023-41f7-add1-b91700be9b07"
      },
      "execution_count": null,
      "outputs": [
        {
          "output_type": "stream",
          "name": "stdout",
          "text": [
            "      mpg  cylinders  displacement  horsepower  weight  model_year  origin\n",
            "0    18.0          8         307.0       130.0  3504.0          70       1\n",
            "1    15.0          8         350.0       165.0  3693.0          70       1\n",
            "2    18.0          8         318.0       150.0  3436.0          70       1\n",
            "3    16.0          8         304.0       150.0  3433.0          70       1\n",
            "4    17.0          8         302.0       140.0  3449.0          70       1\n",
            "..    ...        ...           ...         ...     ...         ...     ...\n",
            "392  27.0          4         151.0        90.0  2950.0          82       1\n",
            "393  27.0          4         140.0        86.0  2790.0          82       1\n",
            "395  32.0          4         135.0        84.0  2295.0          82       1\n",
            "396  28.0          4         120.0        79.0  2625.0          82       1\n",
            "397  31.0          4         119.0        82.0  2720.0          82       1\n",
            "\n",
            "[372 rows x 7 columns]\n",
            "                            OLS Regression Results                            \n",
            "==============================================================================\n",
            "Dep. Variable:                    mpg   R-squared:                       0.822\n",
            "Model:                            OLS   Adj. R-squared:                  0.819\n",
            "Method:                 Least Squares   F-statistic:                     281.2\n",
            "Date:                Tue, 19 Nov 2024   Prob (F-statistic):          1.59e-133\n",
            "Time:                        09:15:35   Log-Likelihood:                -962.23\n",
            "No. Observations:                 372   AIC:                             1938.\n",
            "Df Residuals:                     365   BIC:                             1966.\n",
            "Df Model:                           6                                         \n",
            "Covariance Type:            nonrobust                                         \n",
            "================================================================================\n",
            "                   coef    std err          t      P>|t|      [0.025      0.975]\n",
            "--------------------------------------------------------------------------------\n",
            "const          -14.0739      4.134     -3.405      0.001     -22.203      -5.945\n",
            "cylinders       -0.2597      0.347     -0.749      0.454      -0.941       0.422\n",
            "displacement     0.0149      0.008      1.835      0.067      -0.001       0.031\n",
            "horsepower      -0.0327      0.012     -2.711      0.007      -0.056      -0.009\n",
            "weight          -0.0061      0.001     -9.524      0.000      -0.007      -0.005\n",
            "model_year       0.7265      0.050     14.469      0.000       0.628       0.825\n",
            "origin           1.3565      0.275      4.933      0.000       0.816       1.897\n",
            "==============================================================================\n",
            "Omnibus:                       26.969   Durbin-Watson:                   1.361\n",
            "Prob(Omnibus):                  0.000   Jarque-Bera (JB):               44.045\n",
            "Skew:                           0.480   Prob(JB):                     2.73e-10\n",
            "Kurtosis:                       4.385   Cond. No.                     7.54e+04\n",
            "==============================================================================\n",
            "\n",
            "Notes:\n",
            "[1] Standard Errors assume that the covariance matrix of the errors is correctly specified.\n",
            "[2] The condition number is large, 7.54e+04. This might indicate that there are\n",
            "strong multicollinearity or other numerical problems.\n"
          ]
        }
      ]
    },
    {
      "cell_type": "markdown",
      "source": [
        "Drop cylinders"
      ],
      "metadata": {
        "id": "roI3liO7z_bK"
      }
    },
    {
      "cell_type": "code",
      "source": [
        "import statsmodels.api as sm\n",
        "\n",
        "# Loại bỏ cột 'acceleration' vì p-value > 0.05\n",
        "df2 = df2.drop('cylinders', axis=1)\n",
        "\n",
        "# Chọn biến phụ thuộc (y) và biến độc lập (X)\n",
        "y = df2['mpg']  # Ví dụ chọn mpg làm biến phụ thuộc\n",
        "X = df2.drop('mpg', axis=1)  # Các biến còn lại là biến độc lập\n",
        "\n",
        "# Thêm một cột 1 vào X để tính toán hệ số chặn (intercept)\n",
        "X = sm.add_constant(X)\n",
        "\n",
        "# Chạy hồi quy OLS lại sau khi đã loại bỏ cột 'acceleration'\n",
        "model = sm.OLS(y, X).fit()\n",
        "\n",
        "# In kết quả tóm tắt\n",
        "print(model.summary())\n"
      ],
      "metadata": {
        "colab": {
          "base_uri": "https://localhost:8080/"
        },
        "id": "UWpTKGS60B47",
        "outputId": "1cf70154-dd4b-44a0-d9f0-39e9f8620db8"
      },
      "execution_count": null,
      "outputs": [
        {
          "output_type": "stream",
          "name": "stdout",
          "text": [
            "                            OLS Regression Results                            \n",
            "==============================================================================\n",
            "Dep. Variable:                    mpg   R-squared:                       0.822\n",
            "Model:                            OLS   Adj. R-squared:                  0.819\n",
            "Method:                 Least Squares   F-statistic:                     337.7\n",
            "Date:                Tue, 19 Nov 2024   Prob (F-statistic):          1.09e-134\n",
            "Time:                        09:23:24   Log-Likelihood:                -962.52\n",
            "No. Observations:                 372   AIC:                             1937.\n",
            "Df Residuals:                     366   BIC:                             1961.\n",
            "Df Model:                           5                                         \n",
            "Covariance Type:            nonrobust                                         \n",
            "================================================================================\n",
            "                   coef    std err          t      P>|t|      [0.025      0.975]\n",
            "--------------------------------------------------------------------------------\n",
            "const          -14.6047      4.070     -3.588      0.000     -22.608      -6.601\n",
            "displacement     0.0106      0.006      1.847      0.066      -0.001       0.022\n",
            "horsepower      -0.0331      0.012     -2.740      0.006      -0.057      -0.009\n",
            "weight          -0.0060      0.001     -9.519      0.000      -0.007      -0.005\n",
            "model_year       0.7264      0.050     14.475      0.000       0.628       0.825\n",
            "origin           1.3299      0.273      4.880      0.000       0.794       1.866\n",
            "==============================================================================\n",
            "Omnibus:                       26.440   Durbin-Watson:                   1.356\n",
            "Prob(Omnibus):                  0.000   Jarque-Bera (JB):               42.547\n",
            "Skew:                           0.477   Prob(JB):                     5.77e-10\n",
            "Kurtosis:                       4.354   Cond. No.                     7.43e+04\n",
            "==============================================================================\n",
            "\n",
            "Notes:\n",
            "[1] Standard Errors assume that the covariance matrix of the errors is correctly specified.\n",
            "[2] The condition number is large, 7.43e+04. This might indicate that there are\n",
            "strong multicollinearity or other numerical problems.\n"
          ]
        }
      ]
    },
    {
      "cell_type": "markdown",
      "source": [
        "Drop displacement     "
      ],
      "metadata": {
        "id": "C8CM5UHB0Ipj"
      }
    },
    {
      "cell_type": "code",
      "source": [
        "import statsmodels.api as sm\n",
        "\n",
        "# Loại bỏ cột 'acceleration' vì p-value > 0.05\n",
        "df2 = df2.drop('displacement', axis=1)\n",
        "\n",
        "# Chọn biến phụ thuộc (y) và biến độc lập (X)\n",
        "y = df2['mpg']  # Ví dụ chọn mpg làm biến phụ thuộc\n",
        "X = df2.drop('mpg', axis=1)  # Các biến còn lại là biến độc lập\n",
        "\n",
        "# Thêm một cột 1 vào X để tính toán hệ số chặn (intercept)\n",
        "X = sm.add_constant(X)\n",
        "\n",
        "# Chạy hồi quy OLS lại sau khi đã loại bỏ cột 'acceleration'\n",
        "model = sm.OLS(y, X).fit()\n",
        "\n",
        "# In kết quả tóm tắt\n",
        "print(model.summary())\n"
      ],
      "metadata": {
        "colab": {
          "base_uri": "https://localhost:8080/"
        },
        "id": "26FQDEB50MGu",
        "outputId": "db101765-3be3-459b-9508-1a90b7ce225a"
      },
      "execution_count": null,
      "outputs": [
        {
          "output_type": "stream",
          "name": "stdout",
          "text": [
            "                            OLS Regression Results                            \n",
            "==============================================================================\n",
            "Dep. Variable:                    mpg   R-squared:                       0.820\n",
            "Model:                            OLS   Adj. R-squared:                  0.818\n",
            "Method:                 Least Squares   F-statistic:                     418.5\n",
            "Date:                Tue, 19 Nov 2024   Prob (F-statistic):          2.73e-135\n",
            "Time:                        09:31:00   Log-Likelihood:                -964.25\n",
            "No. Observations:                 372   AIC:                             1938.\n",
            "Df Residuals:                     367   BIC:                             1958.\n",
            "Df Model:                           4                                         \n",
            "Covariance Type:            nonrobust                                         \n",
            "==============================================================================\n",
            "                 coef    std err          t      P>|t|      [0.025      0.975]\n",
            "------------------------------------------------------------------------------\n",
            "const        -14.7600      4.082     -3.615      0.000     -22.788      -6.732\n",
            "horsepower    -0.0244      0.011     -2.187      0.029      -0.046      -0.002\n",
            "weight        -0.0053      0.000    -10.980      0.000      -0.006      -0.004\n",
            "model_year     0.7169      0.050     14.315      0.000       0.618       0.815\n",
            "origin         1.1626      0.258      4.508      0.000       0.655       1.670\n",
            "==============================================================================\n",
            "Omnibus:                       29.552   Durbin-Watson:                   1.337\n",
            "Prob(Omnibus):                  0.000   Jarque-Bera (JB):               50.492\n",
            "Skew:                           0.504   Prob(JB):                     1.09e-11\n",
            "Kurtosis:                       4.497   Cond. No.                     7.41e+04\n",
            "==============================================================================\n",
            "\n",
            "Notes:\n",
            "[1] Standard Errors assume that the covariance matrix of the errors is correctly specified.\n",
            "[2] The condition number is large, 7.41e+04. This might indicate that there are\n",
            "strong multicollinearity or other numerical problems.\n"
          ]
        }
      ]
    },
    {
      "cell_type": "code",
      "source": [
        "df3 = df2.copy()\n",
        "df3.info()"
      ],
      "metadata": {
        "colab": {
          "base_uri": "https://localhost:8080/"
        },
        "id": "HOtCZpOG0XI2",
        "outputId": "4fd7cc9d-1dcd-492a-cd3f-0b67aa61e111"
      },
      "execution_count": null,
      "outputs": [
        {
          "output_type": "stream",
          "name": "stdout",
          "text": [
            "<class 'pandas.core.frame.DataFrame'>\n",
            "Index: 372 entries, 0 to 397\n",
            "Data columns (total 5 columns):\n",
            " #   Column      Non-Null Count  Dtype  \n",
            "---  ------      --------------  -----  \n",
            " 0   mpg         372 non-null    float64\n",
            " 1   horsepower  372 non-null    float64\n",
            " 2   weight      372 non-null    float64\n",
            " 3   model_year  372 non-null    int64  \n",
            " 4   origin      372 non-null    int64  \n",
            "dtypes: float64(3), int64(2)\n",
            "memory usage: 17.4 KB\n"
          ]
        }
      ]
    },
    {
      "cell_type": "markdown",
      "source": [
        "**Convert data from continuous to discrete form**"
      ],
      "metadata": {
        "id": "wZJiuDLi6hzA"
      }
    },
    {
      "cell_type": "code",
      "source": [
        "df3"
      ],
      "metadata": {
        "colab": {
          "base_uri": "https://localhost:8080/",
          "height": 424
        },
        "id": "W1rZ4N0_2NlC",
        "outputId": "608068f0-598d-4b05-de2e-fb2b339889b7"
      },
      "execution_count": null,
      "outputs": [
        {
          "output_type": "execute_result",
          "data": {
            "text/plain": [
              "      mpg  horsepower  weight  model_year  origin\n",
              "0    18.0       130.0  3504.0          70       1\n",
              "1    15.0       165.0  3693.0          70       1\n",
              "2    18.0       150.0  3436.0          70       1\n",
              "3    16.0       150.0  3433.0          70       1\n",
              "4    17.0       140.0  3449.0          70       1\n",
              "..    ...         ...     ...         ...     ...\n",
              "392  27.0        90.0  2950.0          82       1\n",
              "393  27.0        86.0  2790.0          82       1\n",
              "395  32.0        84.0  2295.0          82       1\n",
              "396  28.0        79.0  2625.0          82       1\n",
              "397  31.0        82.0  2720.0          82       1\n",
              "\n",
              "[372 rows x 5 columns]"
            ],
            "text/html": [
              "\n",
              "  <div id=\"df-b81361e2-ea05-4331-9529-937cac4d88db\" class=\"colab-df-container\">\n",
              "    <div>\n",
              "<style scoped>\n",
              "    .dataframe tbody tr th:only-of-type {\n",
              "        vertical-align: middle;\n",
              "    }\n",
              "\n",
              "    .dataframe tbody tr th {\n",
              "        vertical-align: top;\n",
              "    }\n",
              "\n",
              "    .dataframe thead th {\n",
              "        text-align: right;\n",
              "    }\n",
              "</style>\n",
              "<table border=\"1\" class=\"dataframe\">\n",
              "  <thead>\n",
              "    <tr style=\"text-align: right;\">\n",
              "      <th></th>\n",
              "      <th>mpg</th>\n",
              "      <th>horsepower</th>\n",
              "      <th>weight</th>\n",
              "      <th>model_year</th>\n",
              "      <th>origin</th>\n",
              "    </tr>\n",
              "  </thead>\n",
              "  <tbody>\n",
              "    <tr>\n",
              "      <th>0</th>\n",
              "      <td>18.0</td>\n",
              "      <td>130.0</td>\n",
              "      <td>3504.0</td>\n",
              "      <td>70</td>\n",
              "      <td>1</td>\n",
              "    </tr>\n",
              "    <tr>\n",
              "      <th>1</th>\n",
              "      <td>15.0</td>\n",
              "      <td>165.0</td>\n",
              "      <td>3693.0</td>\n",
              "      <td>70</td>\n",
              "      <td>1</td>\n",
              "    </tr>\n",
              "    <tr>\n",
              "      <th>2</th>\n",
              "      <td>18.0</td>\n",
              "      <td>150.0</td>\n",
              "      <td>3436.0</td>\n",
              "      <td>70</td>\n",
              "      <td>1</td>\n",
              "    </tr>\n",
              "    <tr>\n",
              "      <th>3</th>\n",
              "      <td>16.0</td>\n",
              "      <td>150.0</td>\n",
              "      <td>3433.0</td>\n",
              "      <td>70</td>\n",
              "      <td>1</td>\n",
              "    </tr>\n",
              "    <tr>\n",
              "      <th>4</th>\n",
              "      <td>17.0</td>\n",
              "      <td>140.0</td>\n",
              "      <td>3449.0</td>\n",
              "      <td>70</td>\n",
              "      <td>1</td>\n",
              "    </tr>\n",
              "    <tr>\n",
              "      <th>...</th>\n",
              "      <td>...</td>\n",
              "      <td>...</td>\n",
              "      <td>...</td>\n",
              "      <td>...</td>\n",
              "      <td>...</td>\n",
              "    </tr>\n",
              "    <tr>\n",
              "      <th>392</th>\n",
              "      <td>27.0</td>\n",
              "      <td>90.0</td>\n",
              "      <td>2950.0</td>\n",
              "      <td>82</td>\n",
              "      <td>1</td>\n",
              "    </tr>\n",
              "    <tr>\n",
              "      <th>393</th>\n",
              "      <td>27.0</td>\n",
              "      <td>86.0</td>\n",
              "      <td>2790.0</td>\n",
              "      <td>82</td>\n",
              "      <td>1</td>\n",
              "    </tr>\n",
              "    <tr>\n",
              "      <th>395</th>\n",
              "      <td>32.0</td>\n",
              "      <td>84.0</td>\n",
              "      <td>2295.0</td>\n",
              "      <td>82</td>\n",
              "      <td>1</td>\n",
              "    </tr>\n",
              "    <tr>\n",
              "      <th>396</th>\n",
              "      <td>28.0</td>\n",
              "      <td>79.0</td>\n",
              "      <td>2625.0</td>\n",
              "      <td>82</td>\n",
              "      <td>1</td>\n",
              "    </tr>\n",
              "    <tr>\n",
              "      <th>397</th>\n",
              "      <td>31.0</td>\n",
              "      <td>82.0</td>\n",
              "      <td>2720.0</td>\n",
              "      <td>82</td>\n",
              "      <td>1</td>\n",
              "    </tr>\n",
              "  </tbody>\n",
              "</table>\n",
              "<p>372 rows × 5 columns</p>\n",
              "</div>\n",
              "    <div class=\"colab-df-buttons\">\n",
              "\n",
              "  <div class=\"colab-df-container\">\n",
              "    <button class=\"colab-df-convert\" onclick=\"convertToInteractive('df-b81361e2-ea05-4331-9529-937cac4d88db')\"\n",
              "            title=\"Convert this dataframe to an interactive table.\"\n",
              "            style=\"display:none;\">\n",
              "\n",
              "  <svg xmlns=\"http://www.w3.org/2000/svg\" height=\"24px\" viewBox=\"0 -960 960 960\">\n",
              "    <path d=\"M120-120v-720h720v720H120Zm60-500h600v-160H180v160Zm220 220h160v-160H400v160Zm0 220h160v-160H400v160ZM180-400h160v-160H180v160Zm440 0h160v-160H620v160ZM180-180h160v-160H180v160Zm440 0h160v-160H620v160Z\"/>\n",
              "  </svg>\n",
              "    </button>\n",
              "\n",
              "  <style>\n",
              "    .colab-df-container {\n",
              "      display:flex;\n",
              "      gap: 12px;\n",
              "    }\n",
              "\n",
              "    .colab-df-convert {\n",
              "      background-color: #E8F0FE;\n",
              "      border: none;\n",
              "      border-radius: 50%;\n",
              "      cursor: pointer;\n",
              "      display: none;\n",
              "      fill: #1967D2;\n",
              "      height: 32px;\n",
              "      padding: 0 0 0 0;\n",
              "      width: 32px;\n",
              "    }\n",
              "\n",
              "    .colab-df-convert:hover {\n",
              "      background-color: #E2EBFA;\n",
              "      box-shadow: 0px 1px 2px rgba(60, 64, 67, 0.3), 0px 1px 3px 1px rgba(60, 64, 67, 0.15);\n",
              "      fill: #174EA6;\n",
              "    }\n",
              "\n",
              "    .colab-df-buttons div {\n",
              "      margin-bottom: 4px;\n",
              "    }\n",
              "\n",
              "    [theme=dark] .colab-df-convert {\n",
              "      background-color: #3B4455;\n",
              "      fill: #D2E3FC;\n",
              "    }\n",
              "\n",
              "    [theme=dark] .colab-df-convert:hover {\n",
              "      background-color: #434B5C;\n",
              "      box-shadow: 0px 1px 3px 1px rgba(0, 0, 0, 0.15);\n",
              "      filter: drop-shadow(0px 1px 2px rgba(0, 0, 0, 0.3));\n",
              "      fill: #FFFFFF;\n",
              "    }\n",
              "  </style>\n",
              "\n",
              "    <script>\n",
              "      const buttonEl =\n",
              "        document.querySelector('#df-b81361e2-ea05-4331-9529-937cac4d88db button.colab-df-convert');\n",
              "      buttonEl.style.display =\n",
              "        google.colab.kernel.accessAllowed ? 'block' : 'none';\n",
              "\n",
              "      async function convertToInteractive(key) {\n",
              "        const element = document.querySelector('#df-b81361e2-ea05-4331-9529-937cac4d88db');\n",
              "        const dataTable =\n",
              "          await google.colab.kernel.invokeFunction('convertToInteractive',\n",
              "                                                    [key], {});\n",
              "        if (!dataTable) return;\n",
              "\n",
              "        const docLinkHtml = 'Like what you see? Visit the ' +\n",
              "          '<a target=\"_blank\" href=https://colab.research.google.com/notebooks/data_table.ipynb>data table notebook</a>'\n",
              "          + ' to learn more about interactive tables.';\n",
              "        element.innerHTML = '';\n",
              "        dataTable['output_type'] = 'display_data';\n",
              "        await google.colab.output.renderOutput(dataTable, element);\n",
              "        const docLink = document.createElement('div');\n",
              "        docLink.innerHTML = docLinkHtml;\n",
              "        element.appendChild(docLink);\n",
              "      }\n",
              "    </script>\n",
              "  </div>\n",
              "\n",
              "\n",
              "<div id=\"df-c95d4729-122c-48b0-8216-bee363139e63\">\n",
              "  <button class=\"colab-df-quickchart\" onclick=\"quickchart('df-c95d4729-122c-48b0-8216-bee363139e63')\"\n",
              "            title=\"Suggest charts\"\n",
              "            style=\"display:none;\">\n",
              "\n",
              "<svg xmlns=\"http://www.w3.org/2000/svg\" height=\"24px\"viewBox=\"0 0 24 24\"\n",
              "     width=\"24px\">\n",
              "    <g>\n",
              "        <path d=\"M19 3H5c-1.1 0-2 .9-2 2v14c0 1.1.9 2 2 2h14c1.1 0 2-.9 2-2V5c0-1.1-.9-2-2-2zM9 17H7v-7h2v7zm4 0h-2V7h2v10zm4 0h-2v-4h2v4z\"/>\n",
              "    </g>\n",
              "</svg>\n",
              "  </button>\n",
              "\n",
              "<style>\n",
              "  .colab-df-quickchart {\n",
              "      --bg-color: #E8F0FE;\n",
              "      --fill-color: #1967D2;\n",
              "      --hover-bg-color: #E2EBFA;\n",
              "      --hover-fill-color: #174EA6;\n",
              "      --disabled-fill-color: #AAA;\n",
              "      --disabled-bg-color: #DDD;\n",
              "  }\n",
              "\n",
              "  [theme=dark] .colab-df-quickchart {\n",
              "      --bg-color: #3B4455;\n",
              "      --fill-color: #D2E3FC;\n",
              "      --hover-bg-color: #434B5C;\n",
              "      --hover-fill-color: #FFFFFF;\n",
              "      --disabled-bg-color: #3B4455;\n",
              "      --disabled-fill-color: #666;\n",
              "  }\n",
              "\n",
              "  .colab-df-quickchart {\n",
              "    background-color: var(--bg-color);\n",
              "    border: none;\n",
              "    border-radius: 50%;\n",
              "    cursor: pointer;\n",
              "    display: none;\n",
              "    fill: var(--fill-color);\n",
              "    height: 32px;\n",
              "    padding: 0;\n",
              "    width: 32px;\n",
              "  }\n",
              "\n",
              "  .colab-df-quickchart:hover {\n",
              "    background-color: var(--hover-bg-color);\n",
              "    box-shadow: 0 1px 2px rgba(60, 64, 67, 0.3), 0 1px 3px 1px rgba(60, 64, 67, 0.15);\n",
              "    fill: var(--button-hover-fill-color);\n",
              "  }\n",
              "\n",
              "  .colab-df-quickchart-complete:disabled,\n",
              "  .colab-df-quickchart-complete:disabled:hover {\n",
              "    background-color: var(--disabled-bg-color);\n",
              "    fill: var(--disabled-fill-color);\n",
              "    box-shadow: none;\n",
              "  }\n",
              "\n",
              "  .colab-df-spinner {\n",
              "    border: 2px solid var(--fill-color);\n",
              "    border-color: transparent;\n",
              "    border-bottom-color: var(--fill-color);\n",
              "    animation:\n",
              "      spin 1s steps(1) infinite;\n",
              "  }\n",
              "\n",
              "  @keyframes spin {\n",
              "    0% {\n",
              "      border-color: transparent;\n",
              "      border-bottom-color: var(--fill-color);\n",
              "      border-left-color: var(--fill-color);\n",
              "    }\n",
              "    20% {\n",
              "      border-color: transparent;\n",
              "      border-left-color: var(--fill-color);\n",
              "      border-top-color: var(--fill-color);\n",
              "    }\n",
              "    30% {\n",
              "      border-color: transparent;\n",
              "      border-left-color: var(--fill-color);\n",
              "      border-top-color: var(--fill-color);\n",
              "      border-right-color: var(--fill-color);\n",
              "    }\n",
              "    40% {\n",
              "      border-color: transparent;\n",
              "      border-right-color: var(--fill-color);\n",
              "      border-top-color: var(--fill-color);\n",
              "    }\n",
              "    60% {\n",
              "      border-color: transparent;\n",
              "      border-right-color: var(--fill-color);\n",
              "    }\n",
              "    80% {\n",
              "      border-color: transparent;\n",
              "      border-right-color: var(--fill-color);\n",
              "      border-bottom-color: var(--fill-color);\n",
              "    }\n",
              "    90% {\n",
              "      border-color: transparent;\n",
              "      border-bottom-color: var(--fill-color);\n",
              "    }\n",
              "  }\n",
              "</style>\n",
              "\n",
              "  <script>\n",
              "    async function quickchart(key) {\n",
              "      const quickchartButtonEl =\n",
              "        document.querySelector('#' + key + ' button');\n",
              "      quickchartButtonEl.disabled = true;  // To prevent multiple clicks.\n",
              "      quickchartButtonEl.classList.add('colab-df-spinner');\n",
              "      try {\n",
              "        const charts = await google.colab.kernel.invokeFunction(\n",
              "            'suggestCharts', [key], {});\n",
              "      } catch (error) {\n",
              "        console.error('Error during call to suggestCharts:', error);\n",
              "      }\n",
              "      quickchartButtonEl.classList.remove('colab-df-spinner');\n",
              "      quickchartButtonEl.classList.add('colab-df-quickchart-complete');\n",
              "    }\n",
              "    (() => {\n",
              "      let quickchartButtonEl =\n",
              "        document.querySelector('#df-c95d4729-122c-48b0-8216-bee363139e63 button');\n",
              "      quickchartButtonEl.style.display =\n",
              "        google.colab.kernel.accessAllowed ? 'block' : 'none';\n",
              "    })();\n",
              "  </script>\n",
              "</div>\n",
              "\n",
              "  <div id=\"id_44046d78-c1f6-4ccd-9487-3a9105ffade2\">\n",
              "    <style>\n",
              "      .colab-df-generate {\n",
              "        background-color: #E8F0FE;\n",
              "        border: none;\n",
              "        border-radius: 50%;\n",
              "        cursor: pointer;\n",
              "        display: none;\n",
              "        fill: #1967D2;\n",
              "        height: 32px;\n",
              "        padding: 0 0 0 0;\n",
              "        width: 32px;\n",
              "      }\n",
              "\n",
              "      .colab-df-generate:hover {\n",
              "        background-color: #E2EBFA;\n",
              "        box-shadow: 0px 1px 2px rgba(60, 64, 67, 0.3), 0px 1px 3px 1px rgba(60, 64, 67, 0.15);\n",
              "        fill: #174EA6;\n",
              "      }\n",
              "\n",
              "      [theme=dark] .colab-df-generate {\n",
              "        background-color: #3B4455;\n",
              "        fill: #D2E3FC;\n",
              "      }\n",
              "\n",
              "      [theme=dark] .colab-df-generate:hover {\n",
              "        background-color: #434B5C;\n",
              "        box-shadow: 0px 1px 3px 1px rgba(0, 0, 0, 0.15);\n",
              "        filter: drop-shadow(0px 1px 2px rgba(0, 0, 0, 0.3));\n",
              "        fill: #FFFFFF;\n",
              "      }\n",
              "    </style>\n",
              "    <button class=\"colab-df-generate\" onclick=\"generateWithVariable('df3')\"\n",
              "            title=\"Generate code using this dataframe.\"\n",
              "            style=\"display:none;\">\n",
              "\n",
              "  <svg xmlns=\"http://www.w3.org/2000/svg\" height=\"24px\"viewBox=\"0 0 24 24\"\n",
              "       width=\"24px\">\n",
              "    <path d=\"M7,19H8.4L18.45,9,17,7.55,7,17.6ZM5,21V16.75L18.45,3.32a2,2,0,0,1,2.83,0l1.4,1.43a1.91,1.91,0,0,1,.58,1.4,1.91,1.91,0,0,1-.58,1.4L9.25,21ZM18.45,9,17,7.55Zm-12,3A5.31,5.31,0,0,0,4.9,8.1,5.31,5.31,0,0,0,1,6.5,5.31,5.31,0,0,0,4.9,4.9,5.31,5.31,0,0,0,6.5,1,5.31,5.31,0,0,0,8.1,4.9,5.31,5.31,0,0,0,12,6.5,5.46,5.46,0,0,0,6.5,12Z\"/>\n",
              "  </svg>\n",
              "    </button>\n",
              "    <script>\n",
              "      (() => {\n",
              "      const buttonEl =\n",
              "        document.querySelector('#id_44046d78-c1f6-4ccd-9487-3a9105ffade2 button.colab-df-generate');\n",
              "      buttonEl.style.display =\n",
              "        google.colab.kernel.accessAllowed ? 'block' : 'none';\n",
              "\n",
              "      buttonEl.onclick = () => {\n",
              "        google.colab.notebook.generateWithVariable('df3');\n",
              "      }\n",
              "      })();\n",
              "    </script>\n",
              "  </div>\n",
              "\n",
              "    </div>\n",
              "  </div>\n"
            ],
            "application/vnd.google.colaboratory.intrinsic+json": {
              "type": "dataframe",
              "variable_name": "df3",
              "summary": "{\n  \"name\": \"df3\",\n  \"rows\": 372,\n  \"fields\": [\n    {\n      \"column\": \"mpg\",\n      \"properties\": {\n        \"dtype\": \"number\",\n        \"std\": 7.632496723310284,\n        \"min\": 9.0,\n        \"max\": 46.6,\n        \"num_unique_values\": 125,\n        \"samples\": [\n          30.0,\n          43.1,\n          25.5\n        ],\n        \"semantic_type\": \"\",\n        \"description\": \"\"\n      }\n    },\n    {\n      \"column\": \"horsepower\",\n      \"properties\": {\n        \"dtype\": \"number\",\n        \"std\": 33.66168915222715,\n        \"min\": 46.0,\n        \"max\": 200.0,\n        \"num_unique_values\": 86,\n        \"samples\": [\n          138.0,\n          130.0,\n          66.0\n        ],\n        \"semantic_type\": \"\",\n        \"description\": \"\"\n      }\n    },\n    {\n      \"column\": \"weight\",\n      \"properties\": {\n        \"dtype\": \"number\",\n        \"std\": 829.283502359738,\n        \"min\": 1613.0,\n        \"max\": 5140.0,\n        \"num_unique_values\": 328,\n        \"samples\": [\n          2515.0,\n          2451.0,\n          3605.0\n        ],\n        \"semantic_type\": \"\",\n        \"description\": \"\"\n      }\n    },\n    {\n      \"column\": \"model_year\",\n      \"properties\": {\n        \"dtype\": \"number\",\n        \"std\": 3,\n        \"min\": 70,\n        \"max\": 82,\n        \"num_unique_values\": 13,\n        \"samples\": [\n          81,\n          79,\n          70\n        ],\n        \"semantic_type\": \"\",\n        \"description\": \"\"\n      }\n    },\n    {\n      \"column\": \"origin\",\n      \"properties\": {\n        \"dtype\": \"number\",\n        \"std\": 0,\n        \"min\": 1,\n        \"max\": 3,\n        \"num_unique_values\": 3,\n        \"samples\": [\n          1,\n          3,\n          2\n        ],\n        \"semantic_type\": \"\",\n        \"description\": \"\"\n      }\n    }\n  ]\n}"
            }
          },
          "metadata": {},
          "execution_count": 27
        }
      ]
    },
    {
      "cell_type": "markdown",
      "source": [
        "## Choose origin for predict"
      ],
      "metadata": {
        "id": "34IX1_wHGBXa"
      }
    },
    {
      "cell_type": "code",
      "source": [
        "import statsmodels.api as sm\n",
        "\n",
        "# Giả sử df_after_handle_outlier là DataFrame đã xử lý outlier\n",
        "# Chọn các cột số từ DataFrame\n",
        "\n",
        "# Chọn biến phụ thuộc (y) và biến độc lập (X)\n",
        "y = df2['origin']  # Ví dụ chọn mpg làm biến phụ thuộc\n",
        "X = df2.drop('origin', axis=1)  # Các biến còn lại là biến độc lập\n",
        "\n",
        "# Thêm một cột 1 vào X để tính toán hệ số chặn (intercept)\n",
        "X = sm.add_constant(X)\n",
        "\n",
        "# Chạy hồi quy OLS\n",
        "model = sm.OLS(y, X).fit()\n",
        "\n",
        "# In kết quả tóm tắt\n",
        "print(model.summary())\n"
      ],
      "metadata": {
        "colab": {
          "base_uri": "https://localhost:8080/"
        },
        "id": "ccCRA_-5GGp4",
        "outputId": "e80e26f3-81c7-4c57-bd71-3cec2df94897"
      },
      "execution_count": null,
      "outputs": [
        {
          "output_type": "stream",
          "name": "stdout",
          "text": [
            "                            OLS Regression Results                            \n",
            "==============================================================================\n",
            "Dep. Variable:                 origin   R-squared:                       0.391\n",
            "Model:                            OLS   Adj. R-squared:                  0.384\n",
            "Method:                 Least Squares   F-statistic:                     58.90\n",
            "Date:                Fri, 15 Nov 2024   Prob (F-statistic):           2.20e-38\n",
            "Time:                        14:05:38   Log-Likelihood:                -359.97\n",
            "No. Observations:                 372   AIC:                             729.9\n",
            "Df Residuals:                     367   BIC:                             749.5\n",
            "Df Model:                           4                                         \n",
            "Covariance Type:            nonrobust                                         \n",
            "==============================================================================\n",
            "                 coef    std err          t      P>|t|      [0.025      0.975]\n",
            "------------------------------------------------------------------------------\n",
            "const          3.2620      0.801      4.074      0.000       1.688       4.837\n",
            "mpg            0.0451      0.010      4.508      0.000       0.025       0.065\n",
            "horsepower     0.0070      0.002      3.204      0.001       0.003       0.011\n",
            "weight        -0.0005      0.000     -4.843      0.000      -0.001      -0.000\n",
            "model_year    -0.0255      0.012     -2.081      0.038      -0.050      -0.001\n",
            "==============================================================================\n",
            "Omnibus:                        7.612   Durbin-Watson:                   1.769\n",
            "Prob(Omnibus):                  0.022   Jarque-Bera (JB):                5.739\n",
            "Skew:                           0.192   Prob(JB):                       0.0567\n",
            "Kurtosis:                       2.529   Cond. No.                     7.37e+04\n",
            "==============================================================================\n",
            "\n",
            "Notes:\n",
            "[1] Standard Errors assume that the covariance matrix of the errors is correctly specified.\n",
            "[2] The condition number is large, 7.37e+04. This might indicate that there are\n",
            "strong multicollinearity or other numerical problems.\n"
          ]
        }
      ]
    },
    {
      "cell_type": "markdown",
      "source": [
        "Drop acceleration"
      ],
      "metadata": {
        "id": "LLCDI1AmGtuh"
      }
    },
    {
      "cell_type": "code",
      "source": [
        "import statsmodels.api as sm\n",
        "\n",
        "# Loại bỏ cột 'acceleration' vì p-value > 0.05\n",
        "df2 = df2.drop('acceleration', axis=1)\n",
        "\n",
        "# Chọn biến phụ thuộc (y) và biến độc lập (X)\n",
        "y = df2['origin']  # Ví dụ chọn mpg làm biến phụ thuộc\n",
        "X = df2.drop('origin', axis=1)  # Các biến còn lại là biến độc lập\n",
        "\n",
        "# Thêm một cột 1 vào X để tính toán hệ số chặn (intercept)\n",
        "X = sm.add_constant(X)\n",
        "\n",
        "# Chạy hồi quy OLS lại sau khi đã loại bỏ cột 'acceleration'\n",
        "model = sm.OLS(y, X).fit()\n",
        "\n",
        "# In kết quả tóm tắt\n",
        "print(model.summary())\n"
      ],
      "metadata": {
        "colab": {
          "base_uri": "https://localhost:8080/"
        },
        "id": "SIg0YUe8Gyuf",
        "outputId": "cb6423b1-d740-49d2-fb13-c1c93464374d"
      },
      "execution_count": null,
      "outputs": [
        {
          "output_type": "stream",
          "name": "stdout",
          "text": [
            "                            OLS Regression Results                            \n",
            "==============================================================================\n",
            "Dep. Variable:                 origin   R-squared:                       0.473\n",
            "Model:                            OLS   Adj. R-squared:                  0.464\n",
            "Method:                 Least Squares   F-statistic:                     54.58\n",
            "Date:                Thu, 14 Nov 2024   Prob (F-statistic):           6.68e-48\n",
            "Time:                        09:58:03   Log-Likelihood:                -333.09\n",
            "No. Observations:                 372   AIC:                             680.2\n",
            "Df Residuals:                     365   BIC:                             707.6\n",
            "Df Model:                           6                                         \n",
            "Covariance Type:            nonrobust                                         \n",
            "================================================================================\n",
            "                   coef    std err          t      P>|t|      [0.025      0.975]\n",
            "--------------------------------------------------------------------------------\n",
            "const            2.4881      0.763      3.262      0.001       0.988       3.988\n",
            "mpg              0.0461      0.009      4.933      0.000       0.028       0.064\n",
            "cylinders        0.1647      0.063      2.600      0.010       0.040       0.289\n",
            "displacement    -0.0097      0.001     -6.829      0.000      -0.012      -0.007\n",
            "horsepower       0.0117      0.002      5.406      0.000       0.007       0.016\n",
            "weight           0.0001      0.000      0.787      0.432      -0.000       0.000\n",
            "model_year      -0.0334      0.011     -2.907      0.004      -0.056      -0.011\n",
            "==============================================================================\n",
            "Omnibus:                        6.812   Durbin-Watson:                   1.857\n",
            "Prob(Omnibus):                  0.033   Jarque-Bera (JB):                4.159\n",
            "Skew:                           0.034   Prob(JB):                        0.125\n",
            "Kurtosis:                       2.486   Cond. No.                     7.55e+04\n",
            "==============================================================================\n",
            "\n",
            "Notes:\n",
            "[1] Standard Errors assume that the covariance matrix of the errors is correctly specified.\n",
            "[2] The condition number is large, 7.55e+04. This might indicate that there are\n",
            "strong multicollinearity or other numerical problems.\n"
          ]
        }
      ]
    },
    {
      "cell_type": "markdown",
      "source": [
        "## **convert csv -> arff**\n"
      ],
      "metadata": {
        "id": "wv56PQ2C8hxi"
      }
    },
    {
      "cell_type": "markdown",
      "source": [
        "Order mpg from first column to last column .\n"
      ],
      "metadata": {
        "id": "NIZbeBl8Q_KZ"
      }
    },
    {
      "cell_type": "code",
      "source": [
        "from google.colab import drive\n",
        "drive.mount('/content/drive')"
      ],
      "metadata": {
        "id": "g_OCq_Umxyed"
      },
      "execution_count": null,
      "outputs": []
    },
    {
      "cell_type": "code",
      "source": [
        "# Giả sử df là DataFrame đã được làm sạch\n",
        "df3.to_csv('cleaned_data.csv', index=False)\n",
        "import pandas as pd\n",
        "\n",
        "# Đọc file CSV\n",
        "file_path = 'cleaned_data.csv'  # Thay bằng đường dẫn tới file của bạn\n",
        "df = pd.read_csv(file_path)\n",
        "\n",
        "# Đưa cột 'mpg' về cuối DataFrame\n",
        "columns = [col for col in df.columns if col != 'mpg'] + ['mpg']\n",
        "df_reordered = df[columns]\n",
        "\n",
        "# Lưu lại DataFrame đã thay đổi\n",
        "output_path = 'cleaned_data_reordered.csv'  # Đường dẫn để lưu file mới\n",
        "df_reordered.to_csv(output_path, index=False)\n",
        "\n",
        "print(f\"File đã được lưu tại: {output_path}\")\n",
        "\n"
      ],
      "metadata": {
        "id": "HXvIB5M16tQb",
        "colab": {
          "base_uri": "https://localhost:8080/"
        },
        "outputId": "3e17f7cc-1fd5-4d9a-8a30-184d3e3dee81"
      },
      "execution_count": null,
      "outputs": [
        {
          "output_type": "stream",
          "name": "stdout",
          "text": [
            "File đã được lưu tại: cleaned_data_reordered.csv\n"
          ]
        }
      ]
    },
    {
      "cell_type": "code",
      "source": [
        "from scipy.io import arff\n",
        "import pandas as pd\n",
        "\n",
        "# Giả sử df là DataFrame đã làm sạch\n",
        "df = pd.read_csv('/content/cleaned_data_reordered.csv')  # Đọc dữ liệu từ CSV (hoặc sử dụng df của bạn)\n",
        "\n",
        "# Lấy tên cột và các giá trị trong DataFrame\n",
        "attributes = [(col, 'REAL') if df[col].dtype in ['float64', 'int64'] else (col, 'STRING') for col in df.columns]\n",
        "\n",
        "# Chuyển dữ liệu của DataFrame thành một list\n",
        "data = df.values.tolist()\n",
        "\n",
        "# Ghi dữ liệu vào file ARFF\n",
        "with open('auto-mpg-cleaned.arff', 'w') as f:\n",
        "    # Định nghĩa header ARFF\n",
        "    f.write('@RELATION auto-mpg\\n')\n",
        "    for attribute in attributes:\n",
        "        f.write(f'@ATTRIBUTE {attribute[0]} {attribute[1]}\\n')\n",
        "\n",
        "    f.write('@DATA\\n')\n",
        "    for row in data:\n",
        "        f.write(','.join(map(str, row)) + '\\n')\n",
        "\n",
        "print(\"ARFF file saved successfully!\")\n"
      ],
      "metadata": {
        "colab": {
          "base_uri": "https://localhost:8080/"
        },
        "id": "qgPU2AwL8hSO",
        "outputId": "e34c35da-a283-4713-f3ff-f2dde2d41c34"
      },
      "execution_count": null,
      "outputs": [
        {
          "output_type": "stream",
          "name": "stdout",
          "text": [
            "ARFF file saved successfully!\n"
          ]
        }
      ]
    },
    {
      "cell_type": "code",
      "source": [
        "# Đếm số giá trị khác nhau trong cột 'mpg'\n",
        "unique_mpg_count = df3['mpg'].nunique()\n",
        "\n",
        "# In kết quả\n",
        "print(f\"Số giá trị khác nhau trong cột 'mpg': {unique_mpg_count}\")"
      ],
      "metadata": {
        "colab": {
          "base_uri": "https://localhost:8080/"
        },
        "id": "nQzd3zMj90HW",
        "outputId": "d3d20868-4763-4a03-f537-48644af09f80"
      },
      "execution_count": null,
      "outputs": [
        {
          "output_type": "stream",
          "name": "stdout",
          "text": [
            "Số giá trị khác nhau trong cột 'mpg': 125\n"
          ]
        }
      ]
    },
    {
      "cell_type": "code",
      "source": [
        "import pandas as pd\n",
        "\n",
        "# Giả sử df là DataFrame của bạn\n",
        "# df = pd.read_csv('auto-mpg.csv')  # Đọc dữ liệu nếu chưa có DataFrame\n",
        "\n",
        "# Đếm số lượng giá trị giống nhau trong cột 'mpg'\n",
        "value_counts = df3['mpg'].value_counts()\n",
        "\n",
        "# In kết quả\n",
        "print(f\"Số lượng giá trị giống nhau trong cột 'mpg':\\n\")\n",
        "print(value_counts.head())\n"
      ],
      "metadata": {
        "colab": {
          "base_uri": "https://localhost:8080/"
        },
        "id": "R1Yy8WkZB8Qs",
        "outputId": "f63e35af-4da7-4924-abac-56b3745a009f"
      },
      "execution_count": null,
      "outputs": [
        {
          "output_type": "stream",
          "name": "stdout",
          "text": [
            "Số lượng giá trị giống nhau trong cột 'mpg':\n",
            "\n",
            "mpg\n",
            "13.0    19\n",
            "18.0    17\n",
            "15.0    15\n",
            "14.0    14\n",
            "26.0    14\n",
            "Name: count, dtype: int64\n"
          ]
        }
      ]
    },
    {
      "cell_type": "markdown",
      "source": [
        "Count frequency for mpg\n"
      ],
      "metadata": {
        "id": "vIXbZ8e-Whos"
      }
    },
    {
      "cell_type": "code",
      "source": [
        "import pandas as pd\n",
        "\n",
        "# Đọc dữ liệu từ file CSV (thay 'your_file.csv' bằng tên file của bạn)\n",
        "df = pd.read_csv('/content/cleaned_data_reordered.csv')\n",
        "\n",
        "# Đếm tần suất của mỗi giá trị trong cột 'mpg'\n",
        "mpg_frequency = df['mpg'].value_counts().sort_index()\n",
        "\n",
        "# In kết quả\n",
        "print(\"Frequency của cột 'mpg':\")\n",
        "print(df.describe())\n"
      ],
      "metadata": {
        "colab": {
          "base_uri": "https://localhost:8080/"
        },
        "id": "66CzkaNDWkN_",
        "outputId": "8179f52e-4585-4801-f5a7-a101ff74860f"
      },
      "execution_count": null,
      "outputs": [
        {
          "output_type": "stream",
          "name": "stdout",
          "text": [
            "Frequency của cột 'mpg':\n",
            "       horsepower       weight  model_year      origin         mpg\n",
            "count  372.000000   372.000000  372.000000  372.000000  372.000000\n",
            "mean   101.879032  2944.045699   76.110215    1.594086   23.652688\n",
            "std     33.661689   829.283502    3.628459    0.817113    7.632497\n",
            "min     46.000000  1613.000000   70.000000    1.000000    9.000000\n",
            "25%     75.750000  2220.000000   73.000000    1.000000   17.600000\n",
            "50%     92.000000  2764.500000   76.000000    1.000000   23.000000\n",
            "75%    120.000000  3542.000000   79.000000    2.000000   29.125000\n",
            "max    200.000000  5140.000000   82.000000    3.000000   46.600000\n"
          ]
        }
      ]
    },
    {
      "cell_type": "code",
      "source": [
        "pd.set_option('display.max_rows', None)\n",
        "\n",
        "print(mpg_frequency)"
      ],
      "metadata": {
        "colab": {
          "base_uri": "https://localhost:8080/"
        },
        "id": "ThSYPD2LW-Cp",
        "outputId": "f7552322-359f-4b39-df84-d45e4d8b7061"
      },
      "execution_count": null,
      "outputs": [
        {
          "output_type": "stream",
          "name": "stdout",
          "text": [
            "mpg\n",
            "9.0      1\n",
            "10.0     1\n",
            "11.0     2\n",
            "12.0     5\n",
            "13.0    19\n",
            "14.0    14\n",
            "14.5     1\n",
            "15.0    15\n",
            "15.5     5\n",
            "16.0    12\n",
            "16.2     1\n",
            "16.5     3\n",
            "16.9     1\n",
            "17.0     7\n",
            "17.5     5\n",
            "17.6     2\n",
            "17.7     1\n",
            "18.0    17\n",
            "18.1     2\n",
            "18.2     1\n",
            "18.5     3\n",
            "18.6     1\n",
            "19.0    11\n",
            "19.1     1\n",
            "19.2     3\n",
            "19.4     2\n",
            "19.8     1\n",
            "19.9     1\n",
            "20.0     9\n",
            "20.2     4\n",
            "20.3     1\n",
            "20.5     3\n",
            "20.6     2\n",
            "20.8     1\n",
            "21.0     7\n",
            "21.1     1\n",
            "21.5     3\n",
            "21.6     1\n",
            "22.0    10\n",
            "22.3     1\n",
            "22.4     1\n",
            "22.5     1\n",
            "23.0     8\n",
            "23.2     1\n",
            "23.5     1\n",
            "23.7     1\n",
            "23.8     1\n",
            "23.9     1\n",
            "24.0    11\n",
            "24.2     1\n",
            "24.3     1\n",
            "24.5     1\n",
            "25.0    10\n",
            "25.1     1\n",
            "25.4     2\n",
            "25.5     2\n",
            "25.8     1\n",
            "26.0    14\n",
            "26.4     1\n",
            "26.5     1\n",
            "26.6     2\n",
            "26.8     1\n",
            "27.0     9\n",
            "27.2     2\n",
            "27.4     1\n",
            "27.5     1\n",
            "27.9     1\n",
            "28.0    10\n",
            "28.1     1\n",
            "28.4     1\n",
            "28.8     1\n",
            "29.0     7\n",
            "29.5     2\n",
            "29.8     2\n",
            "29.9     1\n",
            "30.0     7\n",
            "30.5     2\n",
            "30.7     1\n",
            "30.9     1\n",
            "31.0     7\n",
            "31.3     1\n",
            "31.5     2\n",
            "31.6     1\n",
            "31.8     1\n",
            "31.9     1\n",
            "32.0     6\n",
            "32.1     1\n",
            "32.2     1\n",
            "32.3     1\n",
            "32.4     2\n",
            "32.7     1\n",
            "32.8     1\n",
            "32.9     1\n",
            "33.0     3\n",
            "33.5     3\n",
            "33.7     1\n",
            "33.8     1\n",
            "34.0     2\n",
            "34.1     2\n",
            "34.2     1\n",
            "34.3     1\n",
            "34.4     1\n",
            "34.5     1\n",
            "34.7     1\n",
            "35.0     2\n",
            "35.1     1\n",
            "35.7     1\n",
            "36.0     6\n",
            "36.1     2\n",
            "36.4     1\n",
            "37.0     3\n",
            "37.2     1\n",
            "37.3     1\n",
            "37.7     1\n",
            "38.0     4\n",
            "38.1     1\n",
            "39.0     1\n",
            "39.1     1\n",
            "39.4     1\n",
            "40.8     1\n",
            "41.5     1\n",
            "43.1     1\n",
            "44.3     1\n",
            "44.6     1\n",
            "46.6     1\n",
            "Name: count, dtype: int64\n"
          ]
        }
      ]
    },
    {
      "cell_type": "code",
      "source": [
        "print(mpg_frequency.head(42))"
      ],
      "metadata": {
        "colab": {
          "base_uri": "https://localhost:8080/"
        },
        "id": "-0AmWX4QXzwI",
        "outputId": "5be77a65-a085-4a7c-ea77-060334070ae3"
      },
      "execution_count": null,
      "outputs": [
        {
          "output_type": "stream",
          "name": "stdout",
          "text": [
            "mpg\n",
            "9.0      1\n",
            "10.0     1\n",
            "11.0     2\n",
            "12.0     5\n",
            "13.0    19\n",
            "14.0    14\n",
            "14.5     1\n",
            "15.0    15\n",
            "15.5     5\n",
            "16.0    12\n",
            "16.2     1\n",
            "16.5     3\n",
            "16.9     1\n",
            "17.0     7\n",
            "17.5     5\n",
            "17.6     2\n",
            "17.7     1\n",
            "18.0    17\n",
            "18.1     2\n",
            "18.2     1\n",
            "18.5     3\n",
            "18.6     1\n",
            "19.0    11\n",
            "19.1     1\n",
            "19.2     3\n",
            "19.4     2\n",
            "19.8     1\n",
            "19.9     1\n",
            "20.0     9\n",
            "20.2     4\n",
            "20.3     1\n",
            "20.5     3\n",
            "20.6     2\n",
            "20.8     1\n",
            "21.0     7\n",
            "21.1     1\n",
            "21.5     3\n",
            "21.6     1\n",
            "22.0    10\n",
            "22.3     1\n",
            "22.4     1\n",
            "22.5     1\n",
            "Name: count, dtype: int64\n"
          ]
        }
      ]
    },
    {
      "cell_type": "code",
      "source": [
        "print(mpg_frequency.tail(43))"
      ],
      "metadata": {
        "colab": {
          "base_uri": "https://localhost:8080/"
        },
        "id": "-LLPeiSdX_gC",
        "outputId": "77c15f2f-ac81-4487-d1d9-116a1c0d0b4a"
      },
      "execution_count": null,
      "outputs": [
        {
          "output_type": "stream",
          "name": "stdout",
          "text": [
            "mpg\n",
            "31.6    1\n",
            "31.8    1\n",
            "31.9    1\n",
            "32.0    6\n",
            "32.1    1\n",
            "32.2    1\n",
            "32.3    1\n",
            "32.4    2\n",
            "32.7    1\n",
            "32.8    1\n",
            "32.9    1\n",
            "33.0    3\n",
            "33.5    3\n",
            "33.7    1\n",
            "33.8    1\n",
            "34.0    2\n",
            "34.1    2\n",
            "34.2    1\n",
            "34.3    1\n",
            "34.4    1\n",
            "34.5    1\n",
            "34.7    1\n",
            "35.0    2\n",
            "35.1    1\n",
            "35.7    1\n",
            "36.0    6\n",
            "36.1    2\n",
            "36.4    1\n",
            "37.0    3\n",
            "37.2    1\n",
            "37.3    1\n",
            "37.7    1\n",
            "38.0    4\n",
            "38.1    1\n",
            "39.0    1\n",
            "39.1    1\n",
            "39.4    1\n",
            "40.8    1\n",
            "41.5    1\n",
            "43.1    1\n",
            "44.3    1\n",
            "44.6    1\n",
            "46.6    1\n",
            "Name: count, dtype: int64\n"
          ]
        }
      ]
    },
    {
      "cell_type": "markdown",
      "source": [
        "Change data type from numeric to Ordinal Data (MPG)"
      ],
      "metadata": {
        "id": "r7AmWRP-RM8F"
      }
    },
    {
      "cell_type": "code",
      "source": [
        "import pandas as pd\n",
        "\n",
        "# Đọc dữ liệu từ file CSV\n",
        "df = pd.read_csv('/content/cleaned_data_reordered.csv')\n",
        "\n",
        "# Xác định giá trị nhỏ nhất và lớn nhất trong cột 'mpg'\n",
        "min_mpg = df['mpg'].min()\n",
        "max_mpg = df['mpg'].max()\n",
        "\n",
        "# Tính khoảng chia\n",
        "range_mpg = max_mpg - min_mpg\n",
        "step = range_mpg / 3  # Chia thành 3 khoảng đều nhau\n",
        "\n",
        "# Xác định các ngưỡng chia mức độ\n",
        "level_1 = min_mpg + step\n",
        "level_2 = min_mpg + 2 * step\n",
        "\n",
        "print(f\"Khoảng chia: {min_mpg:.2f} - {level_1:.2f}, {level_1:.2f} - {level_2:.2f}, {level_2:.2f} - {max_mpg:.2f}\")\n"
      ],
      "metadata": {
        "colab": {
          "base_uri": "https://localhost:8080/"
        },
        "id": "4-B-l0d8Oi1Y",
        "outputId": "3995cf97-6866-422b-bcbe-8bdf04ffeba0"
      },
      "execution_count": null,
      "outputs": [
        {
          "output_type": "stream",
          "name": "stdout",
          "text": [
            "Khoảng chia: 9.00 - 21.53, 21.53 - 34.07, 34.07 - 46.60\n"
          ]
        }
      ]
    },
    {
      "cell_type": "code",
      "source": [
        "# Hàm gán mức độ dựa trên giá trị 'mpg'\n",
        "def assign_level(mpg):\n",
        "    if mpg <= level_1:\n",
        "        return \"Low\"\n",
        "    elif mpg <= level_2:\n",
        "        return \"Medium\"\n",
        "    else:\n",
        "        return \"High\"\n",
        "\n",
        "# Thay thế giá trị trong cột 'mpg' bằng mức độ tương ứng\n",
        "df['mpg'] = df['mpg'].apply(assign_level)\n",
        "\n",
        "# Kiểm tra kết quả\n",
        "print(df.head())\n"
      ],
      "metadata": {
        "colab": {
          "base_uri": "https://localhost:8080/"
        },
        "id": "3DYs_C5nO_ca",
        "outputId": "708f1876-999d-4856-e7e5-378cf7960e7a"
      },
      "execution_count": null,
      "outputs": [
        {
          "output_type": "stream",
          "name": "stdout",
          "text": [
            "   cylinders  displacement  horsepower  weight  acceleration  model_year  \\\n",
            "0          8         307.0       130.0  3504.0          12.0          70   \n",
            "1          8         350.0       165.0  3693.0          11.5          70   \n",
            "2          8         318.0       150.0  3436.0          11.0          70   \n",
            "3          8         304.0       150.0  3433.0          12.0          70   \n",
            "4          8         302.0       140.0  3449.0          10.5          70   \n",
            "\n",
            "   origin  mpg  \n",
            "0       1  Low  \n",
            "1       1  Low  \n",
            "2       1  Low  \n",
            "3       1  Low  \n",
            "4       1  Low  \n"
          ]
        }
      ]
    },
    {
      "cell_type": "code",
      "source": [
        "# Lưu DataFrame đã thay đổi vào file CSV mới\n",
        "output_path = '/content/cleaned_data_mpglevel.csv'\n",
        "df.to_csv(output_path, index=False)\n",
        "\n",
        "print(f\"File đã được lưu tại: {output_path}\")\n",
        "\n",
        "\n"
      ],
      "metadata": {
        "colab": {
          "base_uri": "https://localhost:8080/"
        },
        "id": "INRLlcusPHEU",
        "outputId": "6b7e412b-b631-45bf-c7d1-dfd6a275c2c1"
      },
      "execution_count": null,
      "outputs": [
        {
          "output_type": "stream",
          "name": "stdout",
          "text": [
            "File đã được lưu tại: /content/cleaned_data_mpglevel.csv\n"
          ]
        }
      ]
    },
    {
      "cell_type": "markdown",
      "source": [
        "Check Data type of mpg\n"
      ],
      "metadata": {
        "id": "_fNdNPbRR79g"
      }
    },
    {
      "cell_type": "code",
      "source": [
        "df = pd.read_csv('/content/cleaned_data_mpglevel.csv')  # Đọc dữ liệu từ CSV (hoặc sử dụng df của bạn)\n",
        "df.info()"
      ],
      "metadata": {
        "colab": {
          "base_uri": "https://localhost:8080/"
        },
        "id": "fSU95KuteWw-",
        "outputId": "eddc8158-9dd8-4aa9-caa6-3cd5d152bcdc"
      },
      "execution_count": null,
      "outputs": [
        {
          "output_type": "stream",
          "name": "stdout",
          "text": [
            "<class 'pandas.core.frame.DataFrame'>\n",
            "RangeIndex: 372 entries, 0 to 371\n",
            "Data columns (total 8 columns):\n",
            " #   Column        Non-Null Count  Dtype  \n",
            "---  ------        --------------  -----  \n",
            " 0   cylinders     372 non-null    int64  \n",
            " 1   displacement  372 non-null    float64\n",
            " 2   horsepower    372 non-null    float64\n",
            " 3   weight        372 non-null    float64\n",
            " 4   acceleration  372 non-null    float64\n",
            " 5   model_year    372 non-null    int64  \n",
            " 6   origin        372 non-null    int64  \n",
            " 7   mpg           372 non-null    object \n",
            "dtypes: float64(4), int64(3), object(1)\n",
            "memory usage: 23.4+ KB\n"
          ]
        }
      ]
    },
    {
      "cell_type": "code",
      "source": [
        "from scipy.io import arff\n",
        "import pandas as pd\n",
        "\n",
        "# Giả sử df là DataFrame đã làm sạch\n",
        "df = pd.read_csv('/content/cleaned_data_mpglevel.csv')  # Đọc dữ liệu từ CSV (hoặc sử dụng df của bạn)\n",
        "\n",
        "# Lấy tên cột và các giá trị trong DataFrame\n",
        "attributes = [(col, 'Numeric') if df[col].dtype in ['float64', 'int64'] else (col, 'String') for col in df.columns]\n",
        "\n",
        "# Chuyển dữ liệu của DataFrame thành một list\n",
        "data = df.values.tolist()\n",
        "\n",
        "# Ghi dữ liệu vào file ARFF\n",
        "with open('cleaned_data_mpglevel_arff', 'w') as f:\n",
        "    # Định nghĩa header ARFF\n",
        "    f.write('@RELATION auto-mpg\\n')\n",
        "    for attribute in attributes:\n",
        "        f.write(f'@ATTRIBUTE {attribute[0]} {attribute[1]}\\n')\n",
        "\n",
        "    f.write('@DATA\\n')\n",
        "    for row in data:\n",
        "        f.write(','.join(map(str, row)) + '\\n')\n",
        "\n",
        "print(\"ARFF file saved successfully!\")\n"
      ],
      "metadata": {
        "colab": {
          "base_uri": "https://localhost:8080/"
        },
        "id": "yG8DfegmeIT8",
        "outputId": "011dccce-4ce4-4b05-8dd1-c1544717fb3d"
      },
      "execution_count": null,
      "outputs": [
        {
          "output_type": "stream",
          "name": "stdout",
          "text": [
            "ARFF file saved successfully!\n"
          ]
        }
      ]
    },
    {
      "cell_type": "markdown",
      "source": [
        "Count for Origin\n"
      ],
      "metadata": {
        "id": "KEFsFwcmTkXh"
      }
    },
    {
      "cell_type": "code",
      "source": [
        "# Đếm tần suất xuất hiện của các giá trị trong cột 'origin'\n",
        "origin_counts = df['origin'].value_counts()\n",
        "\n",
        "# Hiển thị kết quả\n",
        "print(\"Tần suất của cột 'origin':\")\n",
        "print(origin_counts)\n"
      ],
      "metadata": {
        "id": "ntK1qm-nefQw",
        "colab": {
          "base_uri": "https://localhost:8080/"
        },
        "outputId": "175d6dfb-50f1-48a0-dbec-b204b0fb96e6"
      },
      "execution_count": null,
      "outputs": [
        {
          "output_type": "stream",
          "name": "stdout",
          "text": [
            "Tần suất của cột 'origin':\n",
            "origin\n",
            "1    230\n",
            "3     79\n",
            "2     63\n",
            "Name: count, dtype: int64\n"
          ]
        }
      ]
    },
    {
      "cell_type": "code",
      "source": [
        "import pandas as pd\n",
        "\n",
        "# Đọc dữ liệu từ file CSV\n",
        "df = pd.read_csv('/content/cleaned_data_mpglevel.csv')\n",
        "\n",
        "# Hiển thị dữ liệu ban đầu của cột 'origin'\n",
        "print(\"Dữ liệu ban đầu của cột 'origin':\")\n",
        "print(df['origin'].head())\n"
      ],
      "metadata": {
        "colab": {
          "base_uri": "https://localhost:8080/"
        },
        "id": "cbHBhZ92TjgM",
        "outputId": "675fc85c-59a8-4f59-de01-21c1bd16c256"
      },
      "execution_count": null,
      "outputs": [
        {
          "output_type": "stream",
          "name": "stdout",
          "text": [
            "Dữ liệu ban đầu của cột 'origin':\n",
            "0    1\n",
            "1    1\n",
            "2    1\n",
            "3    1\n",
            "4    1\n",
            "Name: origin, dtype: int64\n"
          ]
        }
      ]
    },
    {
      "cell_type": "code",
      "source": [
        "# Tạo mapping: giá trị ban đầu -> giá trị mới\n",
        "origin_mapping = {\n",
        "    1: 'North_America', 2: 'Europe', 3: 'Asia'\n",
        "}\n",
        "\n",
        "# Thay thế giá trị trong cột 'origin' bằng mapping\n",
        "df['origin'] = df['origin'].map(origin_mapping)\n",
        "\n",
        "# Hiển thị kết quả sau khi thay đổi\n",
        "print(\"Dữ liệu sau khi thay đổi:\")\n",
        "print(df['origin'].head())\n"
      ],
      "metadata": {
        "colab": {
          "base_uri": "https://localhost:8080/"
        },
        "id": "kt8nWSvOTsP4",
        "outputId": "934d3d70-b13a-403d-e710-edd68c42cb80"
      },
      "execution_count": null,
      "outputs": [
        {
          "output_type": "stream",
          "name": "stdout",
          "text": [
            "Dữ liệu sau khi thay đổi:\n",
            "0    North_America\n",
            "1    North_America\n",
            "2    North_America\n",
            "3    North_America\n",
            "4    North_America\n",
            "Name: origin, dtype: object\n"
          ]
        }
      ]
    },
    {
      "cell_type": "code",
      "source": [
        "# Lưu DataFrame đã thay đổi vào file CSV mới\n",
        "output_path = '/content/cleaned_data_originchange.csv'\n",
        "df.to_csv(output_path, index=False)\n",
        "\n",
        "print(f\"File đã được lưu tại: {output_path}\")\n"
      ],
      "metadata": {
        "colab": {
          "base_uri": "https://localhost:8080/"
        },
        "id": "rsQaUkZdTvOG",
        "outputId": "dfb31450-23f3-4aa5-d3de-4a87b935eb3f"
      },
      "execution_count": null,
      "outputs": [
        {
          "output_type": "stream",
          "name": "stdout",
          "text": [
            "File đã được lưu tại: /content/cleaned_data_originchange.csv\n"
          ]
        }
      ]
    },
    {
      "cell_type": "code",
      "source": [
        "import pandas as pd\n",
        "\n",
        "def csv_to_arff(csv_file, arff_file, relation_name=\"relation_name\"):\n",
        "    # Đọc dữ liệu từ file CSV\n",
        "    df = pd.read_csv(csv_file)\n",
        "\n",
        "    # Mở file ARFF để ghi dữ liệu\n",
        "    with open(arff_file, 'w') as f:\n",
        "        # Ghi phần header của ARFF\n",
        "        f.write(f\"@RELATION {relation_name}\\n\\n\")\n",
        "\n",
        "        # Ghi định nghĩa thuộc tính (@ATTRIBUTE)\n",
        "        for column in df.columns:\n",
        "            # Kiểm tra kiểu dữ liệu\n",
        "            if df[column].dtype == 'object' or df[column].dtype.name == 'category':\n",
        "                # Nếu là chuỗi/categorical, liệt kê các giá trị\n",
        "                unique_values = ','.join(df[column].dropna().unique())\n",
        "                f.write(f\"@ATTRIBUTE {column} {{{unique_values}}}\\n\")\n",
        "            elif df[column].dtype in ['int64', 'float64']:\n",
        "                # Nếu là số, đặt kiểu là NUMERIC\n",
        "                f.write(f\"@ATTRIBUTE {column} NUMERIC\\n\")\n",
        "\n",
        "        f.write(\"\\n@DATA\\n\")\n",
        "\n",
        "        # Ghi dữ liệu (@DATA)\n",
        "        for _, row in df.iterrows():\n",
        "            # Chuyển từng hàng thành chuỗi, phân tách bởi dấu phẩy\n",
        "            row_str = ','.join(\n",
        "                f\"'{value}'\" if isinstance(value, str) else str(value)\n",
        "                for value in row\n",
        "            )\n",
        "            f.write(f\"{row_str}\\n\")\n",
        "\n",
        "# Đường dẫn file CSV và file ARFF\n",
        "csv_file = '/content/cleaned_data_originchange.csv'  # Thay bằng đường dẫn file CSV của bạn\n",
        "arff_file = '/content/cleaned_data_originchange.arff'  # Tên file ARFF đầu ra\n",
        "\n",
        "# Chuyển đổi CSV sang ARFF\n",
        "csv_to_arff(csv_file, arff_file, relation_name=\"origin_data\")\n",
        "\n",
        "print(f\"File ARFF đã được tạo tại: {arff_file}\")\n"
      ],
      "metadata": {
        "colab": {
          "base_uri": "https://localhost:8080/"
        },
        "id": "JdGW0ev9UASo",
        "outputId": "c398ba6c-7ccd-43b2-c29b-2c1d7f6d388d"
      },
      "execution_count": null,
      "outputs": [
        {
          "output_type": "stream",
          "name": "stdout",
          "text": [
            "File ARFF đã được tạo tại: /content/cleaned_data_originchange.arff\n"
          ]
        }
      ]
    },
    {
      "cell_type": "markdown",
      "source": [
        "# Sử lý bộ dataset after clean_data thành 2 bộ subset: 10% & 90%"
      ],
      "metadata": {
        "id": "fzB9UVfQyEeH"
      }
    },
    {
      "cell_type": "code",
      "source": [
        "import pandas as pd\n",
        "\n",
        "# Đọc dữ liệu từ tệp CSV\n",
        "data = pd.read_csv('cleaned_data_origin_372.csv')\n",
        "\n",
        "# Xáo trộn dữ liệu ngẫu nhiên\n",
        "data = data.sample(frac=1, random_state=42).reset_index(drop=True)  # frac=1 để xáo trộn toàn bộ, random_state để tái hiện kết quả\n",
        "\n",
        "# Tính số phần tử cho mỗi subset\n",
        "split_index = int(len(data) * 0.1)  # 10% của tổng số phần tử\n",
        "\n",
        "# Tạo 2 subset\n",
        "subset_10 = data.iloc[:split_index]  # 10% đầu\n",
        "subset_90 = data.iloc[split_index:]  # 90% còn lại\n",
        "\n",
        "# In ra thông tin\n",
        "print(\"Bộ dữ liệu 10%:\")\n",
        "print(subset_10)\n",
        "print(\"\\nBộ dữ liệu 90%:\")\n",
        "print(subset_90)\n",
        "\n",
        "# Kiểm tra số phần tử\n",
        "print(\"\\nSố phần tử trong bộ 10%:\", len(subset_10))\n",
        "print(\"Số phần tử trong bộ 90%:\", len(subset_90))\n",
        "\n",
        "# Ghi ra file nếu cần\n",
        "subset_10.to_csv('subset_10.csv', index=False)\n",
        "subset_90.to_csv('subset_90.csv', index=False)\n"
      ],
      "metadata": {
        "colab": {
          "base_uri": "https://localhost:8080/"
        },
        "id": "oixG6xloyPqP",
        "outputId": "ca4f2a49-8af7-4777-c20d-eec5c220d263"
      },
      "execution_count": null,
      "outputs": [
        {
          "output_type": "stream",
          "name": "stdout",
          "text": [
            "Bộ dữ liệu 10%:\n",
            "    horsepower  weight  model_year         origin     mpg\n",
            "0          135    3830          79  NorthAmerican     Low\n",
            "1          110    2720          77           Asia     Low\n",
            "2           52    1649          74           Asia  Medium\n",
            "3           70    2200          79  NorthAmerican    High\n",
            "4          132    2910          80           Asia    High\n",
            "5           90    3211          75  NorthAmerican     Low\n",
            "6           75    2205          82           Asia    High\n",
            "7           78    1940          77         Europe  Medium\n",
            "8          100    3430          78  NorthAmerican     Low\n",
            "9          125    3140          78         Europe     Low\n",
            "10          83    2639          75  NorthAmerican  Medium\n",
            "11          97    2300          78           Asia  Medium\n",
            "12         198    4341          70  NorthAmerican     Low\n",
            "13          75    2542          80           Asia  Medium\n",
            "14         193    4732          70  NorthAmerican     Low\n",
            "15         105    3425          77  NorthAmerican     Low\n",
            "16          88    2130          70           Asia  Medium\n",
            "17         150    4699          74  NorthAmerican     Low\n",
            "18          90    2678          80  NorthAmerican  Medium\n",
            "19          75    2108          74         Europe  Medium\n",
            "20          97    2330          72           Asia     Low\n",
            "21         150    3672          72  NorthAmerican     Low\n",
            "22          68    1970          82           Asia  Medium\n",
            "23          72    3158          75  NorthAmerican     Low\n",
            "24          81    3012          76  NorthAmerican  Medium\n",
            "25          67    3250          80         Europe  Medium\n",
            "26         110    3632          74  NorthAmerican     Low\n",
            "27         107    2472          73  NorthAmerican     Low\n",
            "28          72    2401          73  NorthAmerican     Low\n",
            "29          92    2865          82  NorthAmerican  Medium\n",
            "30          53    1795          76           Asia    High\n",
            "31          95    2694          75         Europe  Medium\n",
            "32          95    2560          78           Asia  Medium\n",
            "33          85    2575          82  NorthAmerican  Medium\n",
            "34         190    4325          77  NorthAmerican     Low\n",
            "35          81    2220          76         Europe  Medium\n",
            "36          67    2065          81           Asia    High\n",
            "\n",
            "Bộ dữ liệu 90%:\n",
            "     horsepower  weight  model_year         origin     mpg\n",
            "37           75    2171          75           Asia  Medium\n",
            "38          150    3761          70  NorthAmerican     Low\n",
            "39           80    2164          72  NorthAmerican  Medium\n",
            "40          150    4498          75  NorthAmerican     Low\n",
            "41           85    3070          78  NorthAmerican     Low\n",
            "..          ...     ...         ...            ...     ...\n",
            "367          67    1965          82           Asia    High\n",
            "368          71    2223          75         Europe  Medium\n",
            "369         152    4215          76  NorthAmerican     Low\n",
            "370         110    2725          81  NorthAmerican  Medium\n",
            "371          83    2219          74         Europe  Medium\n",
            "\n",
            "[335 rows x 5 columns]\n",
            "\n",
            "Số phần tử trong bộ 10%: 37\n",
            "Số phần tử trong bộ 90%: 335\n"
          ]
        }
      ]
    },
    {
      "cell_type": "code",
      "source": [
        "import pandas as pd\n",
        "\n",
        "# Đọc dữ liệu từ tệp CSV\n",
        "data = pd.read_csv('subset_90.csv')\n",
        "\n",
        "# # Xáo trộn dữ liệu ngẫu nhiên\n",
        "# data = data.sample(frac=1, random_state=42).reset_index(drop=True)\n",
        "\n",
        "# # Tách dữ liệu ban đầu thành 10% và 90%\n",
        "# split_index = int(len(data) * 0.1)\n",
        "# subset_10 = data.iloc[:split_index]\n",
        "# subset_90 = data.iloc[split_index:]\n",
        "\n",
        "# Tách subset_90 thành 80% và 20%\n",
        "split_index_80_20 = int(len(subset_90) * 0.8)  # Tính 80% của subset_90\n",
        "subset_90_80 = subset_90.iloc[:split_index_80_20]  # 80%\n",
        "subset_90_20 = subset_90.iloc[split_index_80_20:]  # 20%\n",
        "\n",
        "# # In ra thông tin\n",
        "# print(\"Bộ dữ liệu 10%:\")\n",
        "# print(subset_10)\n",
        "# print(\"\\nBộ dữ liệu 90%:\")\n",
        "# print(subset_90)\n",
        "print(\"\\nBộ dữ liệu 90 (80%):\")\n",
        "print(subset_90_80)\n",
        "print(\"\\nBộ dữ liệu 90 (20%):\")\n",
        "print(subset_90_20)\n",
        "\n",
        "# Kiểm tra số phần tử\n",
        "# print(\"\\nSố phần tử trong bộ 10%:\", len(subset_10))\n",
        "# print(\"Số phần tử trong bộ 90%:\", len(subset_90))\n",
        "print(\"Số phần tử trong bộ 90 (80%):\", len(subset_90_80))\n",
        "print(\"Số phần tử trong bộ 90 (20%):\", len(subset_90_20))\n",
        "\n",
        "# Ghi ra file nếu cần\n",
        "# subset_10.to_csv('subset_10.csv', index=False)\n",
        "subset_90_80.to_csv('subset_90_80.csv', index=False)\n",
        "subset_90_20.to_csv('subset_90_20.csv', index=False)\n"
      ],
      "metadata": {
        "colab": {
          "base_uri": "https://localhost:8080/"
        },
        "id": "Pj77UDdvzL5E",
        "outputId": "bb430be9-7429-499b-b4a3-85bec646525d"
      },
      "execution_count": null,
      "outputs": [
        {
          "output_type": "stream",
          "name": "stdout",
          "text": [
            "\n",
            "Bộ dữ liệu 90 (80%):\n",
            "     horsepower  weight  model_year         origin     mpg\n",
            "37           75    2171          75           Asia  Medium\n",
            "38          150    3761          70  NorthAmerican     Low\n",
            "39           80    2164          72  NorthAmerican  Medium\n",
            "40          150    4498          75  NorthAmerican     Low\n",
            "41           85    3070          78  NorthAmerican     Low\n",
            "..          ...     ...         ...            ...     ...\n",
            "300         170    4668          75  NorthAmerican     Low\n",
            "301          79    2625          82  NorthAmerican  Medium\n",
            "302          90    3381          80  NorthAmerican     Low\n",
            "303         140    4215          76  NorthAmerican     Low\n",
            "304         150    3399          73  NorthAmerican     Low\n",
            "\n",
            "[268 rows x 5 columns]\n",
            "\n",
            "Bộ dữ liệu 90 (20%):\n",
            "     horsepower  weight  model_year         origin     mpg\n",
            "305         110    2962          71  NorthAmerican     Low\n",
            "306          65    1975          79           Asia    High\n",
            "307         150    4997          73  NorthAmerican     Low\n",
            "308         160    4456          72  NorthAmerican     Low\n",
            "309         110    3620          78  NorthAmerican     Low\n",
            "..          ...     ...         ...            ...     ...\n",
            "367          67    1965          82           Asia    High\n",
            "368          71    2223          75         Europe  Medium\n",
            "369         152    4215          76  NorthAmerican     Low\n",
            "370         110    2725          81  NorthAmerican  Medium\n",
            "371          83    2219          74         Europe  Medium\n",
            "\n",
            "[67 rows x 5 columns]\n",
            "Số phần tử trong bộ 90 (80%): 268\n",
            "Số phần tử trong bộ 90 (20%): 67\n"
          ]
        }
      ]
    },
    {
      "cell_type": "code",
      "source": [
        "import pandas as pd\n",
        "import arff\n",
        "\n",
        "# Đọc dữ liệu từ file CSV\n",
        "data = pd.read_csv('cleaned_data.csv')\n",
        "\n",
        "# Chuẩn bị dữ liệu cho file ARFF\n",
        "arff_data = {\n",
        "    'description': '',\n",
        "    'relation': 'dataset',\n",
        "    'attributes': [(col, 'NUMERIC') for col in data.columns],  # Giả sử tất cả cột là kiểu số\n",
        "    'data': data.values.tolist()  # Chuyển DataFrame thành danh sách để tương thích với ARFF\n",
        "}\n",
        "\n",
        "# Ghi file ARFF\n",
        "with open('cleaned_data.arff', 'w') as f:\n",
        "    arff.dump(arff_data, f)\n"
      ],
      "metadata": {
        "id": "xIK983XlzxsO"
      },
      "execution_count": null,
      "outputs": []
    },
    {
      "cell_type": "code",
      "source": [
        "from scipy.io import arff\n",
        "import pandas as pd\n",
        "\n",
        "# Giả sử df là DataFrame đã làm sạch\n",
        "df = pd.read_csv('subset_90_80.csv')  # Đọc dữ liệu từ CSV (hoặc sử dụng df của bạn)\n",
        "\n",
        "# Lấy tên cột và các giá trị trong DataFrame\n",
        "attributes = [(col, 'Numeric') if df[col].dtype in ['float64', 'int64'] else (col, 'String') for col in df.columns]\n",
        "\n",
        "# Chuyển dữ liệu của DataFrame thành một list\n",
        "data = df.values.tolist()\n",
        "\n",
        "# Ghi dữ liệu vào file ARFF\n",
        "with open('subset_90_80.arff', 'w') as f:\n",
        "    # Định nghĩa header ARFF\n",
        "    f.write('@RELATION auto-mpg\\n')\n",
        "    for attribute in attributes:\n",
        "        f.write(f'@ATTRIBUTE {attribute[0]} {attribute[1]}\\n')\n",
        "\n",
        "    f.write('@DATA\\n')\n",
        "    for row in data:\n",
        "        f.write(','.join(map(str, row)) + '\\n')\n",
        "\n",
        "print(\"ARFF file saved successfully!\")\n"
      ],
      "metadata": {
        "colab": {
          "base_uri": "https://localhost:8080/"
        },
        "id": "nKASk-1Pz4Gg",
        "outputId": "8f23eed8-789b-465f-91cc-4d05e0c7519b"
      },
      "execution_count": null,
      "outputs": [
        {
          "output_type": "stream",
          "name": "stdout",
          "text": [
            "ARFF file saved successfully!\n"
          ]
        }
      ]
    },
    {
      "cell_type": "markdown",
      "source": [
        "# Sử lý bộ dữ liệu chuẩn đã được clean -> tách bộ dữ liệu"
      ],
      "metadata": {
        "id": "6MwsCCFlfwJP"
      }
    },
    {
      "cell_type": "markdown",
      "source": [
        "Tách bộ data -> 2 phần: 10% và 90%"
      ],
      "metadata": {
        "id": "wyP-HzuTigLZ"
      }
    },
    {
      "cell_type": "code",
      "source": [
        "import pandas as pd\n",
        "from sklearn.model_selection import train_test_split\n",
        "\n",
        "# Đọc file dữ liệu\n",
        "file_path = 'subset_90.csv'  # Thay đường dẫn nếu cần\n",
        "data = pd.read_csv(file_path)\n",
        "\n",
        "# Chia dữ liệu thành 20% và 80% của tập 90%\n",
        "data_20_90, data_80_90 = train_test_split(data, test_size=0.8, random_state=42)\n",
        "\n",
        "# Lưu các tập dữ liệu vào file CSV\n",
        "data_20_90.to_csv('data_20_of_90.csv', index=False)\n",
        "data_80_90.to_csv('data_80_of_90.csv', index=False)\n",
        "\n",
        "print(\"Tách dữ liệu thành công!\")\n",
        "print(f\"Số dòng trong tập 20% của 90%: {len(data_20_90)}\")\n",
        "print(f\"Số dòng trong tập 80% của 90%: {len(data_80_90)}\")\n"
      ],
      "metadata": {
        "colab": {
          "base_uri": "https://localhost:8080/"
        },
        "id": "KqgI8Kx5gArJ",
        "outputId": "0cc4d9c5-b979-4fe9-9f06-ca0871155616"
      },
      "execution_count": null,
      "outputs": [
        {
          "output_type": "stream",
          "name": "stdout",
          "text": [
            "Tách dữ liệu thành công!\n",
            "Số dòng trong tập 20% của 90%: 67\n",
            "Số dòng trong tập 80% của 90%: 268\n"
          ]
        }
      ]
    },
    {
      "cell_type": "code",
      "source": [
        "from scipy.io import arff\n",
        "import pandas as pd\n",
        "\n",
        "# Giả sử df là DataFrame đã làm sạch\n",
        "df = pd.read_csv('cleaned_data_Num.csv')  # Đọc dữ liệu từ CSV (hoặc sử dụng df của bạn)\n",
        "\n",
        "# Lấy tên cột và các giá trị trong DataFrame\n",
        "attributes = [(col, 'Numeric') if df[col].dtype in ['float64', 'int64'] else (col, 'String') for col in df.columns]\n",
        "\n",
        "# Chuyển dữ liệu của DataFrame thành một list\n",
        "data = df.values.tolist()\n",
        "\n",
        "# Ghi dữ liệu vào file ARFF\n",
        "with open('cleaned_data_Num.arff', 'w') as f:\n",
        "    # Định nghĩa header ARFF\n",
        "    f.write('@RELATION auto-mpg\\n')\n",
        "    for attribute in attributes:\n",
        "        f.write(f'@ATTRIBUTE {attribute[0]} {attribute[1]}\\n')\n",
        "\n",
        "    f.write('@DATA\\n')\n",
        "    for row in data:\n",
        "        f.write(','.join(map(str, row)) + '\\n')\n",
        "\n",
        "print(\"ARFF file saved successfully!\")\n"
      ],
      "metadata": {
        "colab": {
          "base_uri": "https://localhost:8080/"
        },
        "id": "pCqd6hZOuB5W",
        "outputId": "d40d8998-c8c1-4012-f4e7-7975bc2de689"
      },
      "execution_count": null,
      "outputs": [
        {
          "output_type": "stream",
          "name": "stdout",
          "text": [
            "ARFF file saved successfully!\n"
          ]
        }
      ]
    },
    {
      "cell_type": "code",
      "source": [
        "df = pd.read_csv('cleaned_data_Num.csv')  # Đọc dữ liệu từ CSV (hoặc sử dụng df của bạn)\n",
        "\n",
        "df.corr()"
      ],
      "metadata": {
        "colab": {
          "base_uri": "https://localhost:8080/",
          "height": 206
        },
        "id": "74Kq6Av331C6",
        "outputId": "58de7aa5-2bfd-473b-c73c-553c04553fdb"
      },
      "execution_count": null,
      "outputs": [
        {
          "output_type": "execute_result",
          "data": {
            "text/plain": [
              "            horsepower    weight  model_year    origin       mpg\n",
              "horsepower    1.000000  0.882085   -0.354527 -0.464135 -0.791483\n",
              "weight        0.882085  1.000000   -0.268218 -0.586258 -0.832137\n",
              "model_year   -0.354527 -0.268218    1.000000  0.156953  0.552155\n",
              "origin       -0.464135 -0.586258    0.156953  1.000000  0.563733\n",
              "mpg          -0.791483 -0.832137    0.552155  0.563733  1.000000"
            ],
            "text/html": [
              "\n",
              "  <div id=\"df-4a23a96e-6d0b-4d97-ab1c-41ded3c8a67a\" class=\"colab-df-container\">\n",
              "    <div>\n",
              "<style scoped>\n",
              "    .dataframe tbody tr th:only-of-type {\n",
              "        vertical-align: middle;\n",
              "    }\n",
              "\n",
              "    .dataframe tbody tr th {\n",
              "        vertical-align: top;\n",
              "    }\n",
              "\n",
              "    .dataframe thead th {\n",
              "        text-align: right;\n",
              "    }\n",
              "</style>\n",
              "<table border=\"1\" class=\"dataframe\">\n",
              "  <thead>\n",
              "    <tr style=\"text-align: right;\">\n",
              "      <th></th>\n",
              "      <th>horsepower</th>\n",
              "      <th>weight</th>\n",
              "      <th>model_year</th>\n",
              "      <th>origin</th>\n",
              "      <th>mpg</th>\n",
              "    </tr>\n",
              "  </thead>\n",
              "  <tbody>\n",
              "    <tr>\n",
              "      <th>horsepower</th>\n",
              "      <td>1.000000</td>\n",
              "      <td>0.882085</td>\n",
              "      <td>-0.354527</td>\n",
              "      <td>-0.464135</td>\n",
              "      <td>-0.791483</td>\n",
              "    </tr>\n",
              "    <tr>\n",
              "      <th>weight</th>\n",
              "      <td>0.882085</td>\n",
              "      <td>1.000000</td>\n",
              "      <td>-0.268218</td>\n",
              "      <td>-0.586258</td>\n",
              "      <td>-0.832137</td>\n",
              "    </tr>\n",
              "    <tr>\n",
              "      <th>model_year</th>\n",
              "      <td>-0.354527</td>\n",
              "      <td>-0.268218</td>\n",
              "      <td>1.000000</td>\n",
              "      <td>0.156953</td>\n",
              "      <td>0.552155</td>\n",
              "    </tr>\n",
              "    <tr>\n",
              "      <th>origin</th>\n",
              "      <td>-0.464135</td>\n",
              "      <td>-0.586258</td>\n",
              "      <td>0.156953</td>\n",
              "      <td>1.000000</td>\n",
              "      <td>0.563733</td>\n",
              "    </tr>\n",
              "    <tr>\n",
              "      <th>mpg</th>\n",
              "      <td>-0.791483</td>\n",
              "      <td>-0.832137</td>\n",
              "      <td>0.552155</td>\n",
              "      <td>0.563733</td>\n",
              "      <td>1.000000</td>\n",
              "    </tr>\n",
              "  </tbody>\n",
              "</table>\n",
              "</div>\n",
              "    <div class=\"colab-df-buttons\">\n",
              "\n",
              "  <div class=\"colab-df-container\">\n",
              "    <button class=\"colab-df-convert\" onclick=\"convertToInteractive('df-4a23a96e-6d0b-4d97-ab1c-41ded3c8a67a')\"\n",
              "            title=\"Convert this dataframe to an interactive table.\"\n",
              "            style=\"display:none;\">\n",
              "\n",
              "  <svg xmlns=\"http://www.w3.org/2000/svg\" height=\"24px\" viewBox=\"0 -960 960 960\">\n",
              "    <path d=\"M120-120v-720h720v720H120Zm60-500h600v-160H180v160Zm220 220h160v-160H400v160Zm0 220h160v-160H400v160ZM180-400h160v-160H180v160Zm440 0h160v-160H620v160ZM180-180h160v-160H180v160Zm440 0h160v-160H620v160Z\"/>\n",
              "  </svg>\n",
              "    </button>\n",
              "\n",
              "  <style>\n",
              "    .colab-df-container {\n",
              "      display:flex;\n",
              "      gap: 12px;\n",
              "    }\n",
              "\n",
              "    .colab-df-convert {\n",
              "      background-color: #E8F0FE;\n",
              "      border: none;\n",
              "      border-radius: 50%;\n",
              "      cursor: pointer;\n",
              "      display: none;\n",
              "      fill: #1967D2;\n",
              "      height: 32px;\n",
              "      padding: 0 0 0 0;\n",
              "      width: 32px;\n",
              "    }\n",
              "\n",
              "    .colab-df-convert:hover {\n",
              "      background-color: #E2EBFA;\n",
              "      box-shadow: 0px 1px 2px rgba(60, 64, 67, 0.3), 0px 1px 3px 1px rgba(60, 64, 67, 0.15);\n",
              "      fill: #174EA6;\n",
              "    }\n",
              "\n",
              "    .colab-df-buttons div {\n",
              "      margin-bottom: 4px;\n",
              "    }\n",
              "\n",
              "    [theme=dark] .colab-df-convert {\n",
              "      background-color: #3B4455;\n",
              "      fill: #D2E3FC;\n",
              "    }\n",
              "\n",
              "    [theme=dark] .colab-df-convert:hover {\n",
              "      background-color: #434B5C;\n",
              "      box-shadow: 0px 1px 3px 1px rgba(0, 0, 0, 0.15);\n",
              "      filter: drop-shadow(0px 1px 2px rgba(0, 0, 0, 0.3));\n",
              "      fill: #FFFFFF;\n",
              "    }\n",
              "  </style>\n",
              "\n",
              "    <script>\n",
              "      const buttonEl =\n",
              "        document.querySelector('#df-4a23a96e-6d0b-4d97-ab1c-41ded3c8a67a button.colab-df-convert');\n",
              "      buttonEl.style.display =\n",
              "        google.colab.kernel.accessAllowed ? 'block' : 'none';\n",
              "\n",
              "      async function convertToInteractive(key) {\n",
              "        const element = document.querySelector('#df-4a23a96e-6d0b-4d97-ab1c-41ded3c8a67a');\n",
              "        const dataTable =\n",
              "          await google.colab.kernel.invokeFunction('convertToInteractive',\n",
              "                                                    [key], {});\n",
              "        if (!dataTable) return;\n",
              "\n",
              "        const docLinkHtml = 'Like what you see? Visit the ' +\n",
              "          '<a target=\"_blank\" href=https://colab.research.google.com/notebooks/data_table.ipynb>data table notebook</a>'\n",
              "          + ' to learn more about interactive tables.';\n",
              "        element.innerHTML = '';\n",
              "        dataTable['output_type'] = 'display_data';\n",
              "        await google.colab.output.renderOutput(dataTable, element);\n",
              "        const docLink = document.createElement('div');\n",
              "        docLink.innerHTML = docLinkHtml;\n",
              "        element.appendChild(docLink);\n",
              "      }\n",
              "    </script>\n",
              "  </div>\n",
              "\n",
              "\n",
              "<div id=\"df-e726cbd1-63d3-4b82-9509-49174289cdf4\">\n",
              "  <button class=\"colab-df-quickchart\" onclick=\"quickchart('df-e726cbd1-63d3-4b82-9509-49174289cdf4')\"\n",
              "            title=\"Suggest charts\"\n",
              "            style=\"display:none;\">\n",
              "\n",
              "<svg xmlns=\"http://www.w3.org/2000/svg\" height=\"24px\"viewBox=\"0 0 24 24\"\n",
              "     width=\"24px\">\n",
              "    <g>\n",
              "        <path d=\"M19 3H5c-1.1 0-2 .9-2 2v14c0 1.1.9 2 2 2h14c1.1 0 2-.9 2-2V5c0-1.1-.9-2-2-2zM9 17H7v-7h2v7zm4 0h-2V7h2v10zm4 0h-2v-4h2v4z\"/>\n",
              "    </g>\n",
              "</svg>\n",
              "  </button>\n",
              "\n",
              "<style>\n",
              "  .colab-df-quickchart {\n",
              "      --bg-color: #E8F0FE;\n",
              "      --fill-color: #1967D2;\n",
              "      --hover-bg-color: #E2EBFA;\n",
              "      --hover-fill-color: #174EA6;\n",
              "      --disabled-fill-color: #AAA;\n",
              "      --disabled-bg-color: #DDD;\n",
              "  }\n",
              "\n",
              "  [theme=dark] .colab-df-quickchart {\n",
              "      --bg-color: #3B4455;\n",
              "      --fill-color: #D2E3FC;\n",
              "      --hover-bg-color: #434B5C;\n",
              "      --hover-fill-color: #FFFFFF;\n",
              "      --disabled-bg-color: #3B4455;\n",
              "      --disabled-fill-color: #666;\n",
              "  }\n",
              "\n",
              "  .colab-df-quickchart {\n",
              "    background-color: var(--bg-color);\n",
              "    border: none;\n",
              "    border-radius: 50%;\n",
              "    cursor: pointer;\n",
              "    display: none;\n",
              "    fill: var(--fill-color);\n",
              "    height: 32px;\n",
              "    padding: 0;\n",
              "    width: 32px;\n",
              "  }\n",
              "\n",
              "  .colab-df-quickchart:hover {\n",
              "    background-color: var(--hover-bg-color);\n",
              "    box-shadow: 0 1px 2px rgba(60, 64, 67, 0.3), 0 1px 3px 1px rgba(60, 64, 67, 0.15);\n",
              "    fill: var(--button-hover-fill-color);\n",
              "  }\n",
              "\n",
              "  .colab-df-quickchart-complete:disabled,\n",
              "  .colab-df-quickchart-complete:disabled:hover {\n",
              "    background-color: var(--disabled-bg-color);\n",
              "    fill: var(--disabled-fill-color);\n",
              "    box-shadow: none;\n",
              "  }\n",
              "\n",
              "  .colab-df-spinner {\n",
              "    border: 2px solid var(--fill-color);\n",
              "    border-color: transparent;\n",
              "    border-bottom-color: var(--fill-color);\n",
              "    animation:\n",
              "      spin 1s steps(1) infinite;\n",
              "  }\n",
              "\n",
              "  @keyframes spin {\n",
              "    0% {\n",
              "      border-color: transparent;\n",
              "      border-bottom-color: var(--fill-color);\n",
              "      border-left-color: var(--fill-color);\n",
              "    }\n",
              "    20% {\n",
              "      border-color: transparent;\n",
              "      border-left-color: var(--fill-color);\n",
              "      border-top-color: var(--fill-color);\n",
              "    }\n",
              "    30% {\n",
              "      border-color: transparent;\n",
              "      border-left-color: var(--fill-color);\n",
              "      border-top-color: var(--fill-color);\n",
              "      border-right-color: var(--fill-color);\n",
              "    }\n",
              "    40% {\n",
              "      border-color: transparent;\n",
              "      border-right-color: var(--fill-color);\n",
              "      border-top-color: var(--fill-color);\n",
              "    }\n",
              "    60% {\n",
              "      border-color: transparent;\n",
              "      border-right-color: var(--fill-color);\n",
              "    }\n",
              "    80% {\n",
              "      border-color: transparent;\n",
              "      border-right-color: var(--fill-color);\n",
              "      border-bottom-color: var(--fill-color);\n",
              "    }\n",
              "    90% {\n",
              "      border-color: transparent;\n",
              "      border-bottom-color: var(--fill-color);\n",
              "    }\n",
              "  }\n",
              "</style>\n",
              "\n",
              "  <script>\n",
              "    async function quickchart(key) {\n",
              "      const quickchartButtonEl =\n",
              "        document.querySelector('#' + key + ' button');\n",
              "      quickchartButtonEl.disabled = true;  // To prevent multiple clicks.\n",
              "      quickchartButtonEl.classList.add('colab-df-spinner');\n",
              "      try {\n",
              "        const charts = await google.colab.kernel.invokeFunction(\n",
              "            'suggestCharts', [key], {});\n",
              "      } catch (error) {\n",
              "        console.error('Error during call to suggestCharts:', error);\n",
              "      }\n",
              "      quickchartButtonEl.classList.remove('colab-df-spinner');\n",
              "      quickchartButtonEl.classList.add('colab-df-quickchart-complete');\n",
              "    }\n",
              "    (() => {\n",
              "      let quickchartButtonEl =\n",
              "        document.querySelector('#df-e726cbd1-63d3-4b82-9509-49174289cdf4 button');\n",
              "      quickchartButtonEl.style.display =\n",
              "        google.colab.kernel.accessAllowed ? 'block' : 'none';\n",
              "    })();\n",
              "  </script>\n",
              "</div>\n",
              "\n",
              "    </div>\n",
              "  </div>\n"
            ],
            "application/vnd.google.colaboratory.intrinsic+json": {
              "type": "dataframe",
              "summary": "{\n  \"name\": \"df\",\n  \"rows\": 5,\n  \"fields\": [\n    {\n      \"column\": \"horsepower\",\n      \"properties\": {\n        \"dtype\": \"number\",\n        \"std\": 0.8262625364810652,\n        \"min\": -0.7914828780511686,\n        \"max\": 1.0,\n        \"num_unique_values\": 5,\n        \"samples\": [\n          0.8820847401894348,\n          -0.7914828780511686,\n          -0.3545273459835139\n        ],\n        \"semantic_type\": \"\",\n        \"description\": \"\"\n      }\n    },\n    {\n      \"column\": \"weight\",\n      \"properties\": {\n        \"dtype\": \"number\",\n        \"std\": 0.8483104748729132,\n        \"min\": -0.8321368493928379,\n        \"max\": 1.0,\n        \"num_unique_values\": 5,\n        \"samples\": [\n          1.0,\n          -0.8321368493928379,\n          -0.2682184658187421\n        ],\n        \"semantic_type\": \"\",\n        \"description\": \"\"\n      }\n    },\n    {\n      \"column\": \"model_year\",\n      \"properties\": {\n        \"dtype\": \"number\",\n        \"std\": 0.568133643625478,\n        \"min\": -0.3545273459835139,\n        \"max\": 1.0,\n        \"num_unique_values\": 5,\n        \"samples\": [\n          -0.2682184658187421,\n          0.5521545850476032,\n          1.0\n        ],\n        \"semantic_type\": \"\",\n        \"description\": \"\"\n      }\n    },\n    {\n      \"column\": \"origin\",\n      \"properties\": {\n        \"dtype\": \"number\",\n        \"std\": 0.6729950953265567,\n        \"min\": -0.5862577199580722,\n        \"max\": 1.0,\n        \"num_unique_values\": 5,\n        \"samples\": [\n          -0.5862577199580722,\n          0.5637329240543609,\n          0.1569528831550324\n        ],\n        \"semantic_type\": \"\",\n        \"description\": \"\"\n      }\n    },\n    {\n      \"column\": \"mpg\",\n      \"properties\": {\n        \"dtype\": \"number\",\n        \"std\": 0.8504558871637438,\n        \"min\": -0.8321368493928379,\n        \"max\": 1.0,\n        \"num_unique_values\": 5,\n        \"samples\": [\n          -0.8321368493928379,\n          1.0,\n          0.5521545850476032\n        ],\n        \"semantic_type\": \"\",\n        \"description\": \"\"\n      }\n    }\n  ]\n}"
            }
          },
          "metadata": {},
          "execution_count": 2
        }
      ]
    }
  ]
}