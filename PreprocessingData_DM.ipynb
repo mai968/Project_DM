{
  "nbformat": 4,
  "nbformat_minor": 0,
  "metadata": {
    "colab": {
      "provenance": [],
      "include_colab_link": true
    },
    "kernelspec": {
      "name": "python3",
      "display_name": "Python 3"
    },
    "language_info": {
      "name": "python"
    }
  },
  "cells": [
    {
      "cell_type": "markdown",
      "metadata": {
        "id": "view-in-github",
        "colab_type": "text"
      },
      "source": [
        "<a href=\"https://colab.research.google.com/github/mai968/Project_DM/blob/master/PreprocessingData_DM.ipynb\" target=\"_parent\"><img src=\"https://colab.research.google.com/assets/colab-badge.svg\" alt=\"Open In Colab\"/></a>"
      ]
    },
    {
      "cell_type": "markdown",
      "source": [
        "# Convert csv -> arff"
      ],
      "metadata": {
        "id": "_sHJ9ZyT81e6"
      }
    },
    {
      "cell_type": "code",
      "source": [
        "!pip install liac-arff"
      ],
      "metadata": {
        "colab": {
          "base_uri": "https://localhost:8080/"
        },
        "id": "nK8P4R3-fpXq",
        "outputId": "49b87fa4-0661-4b65-90f2-37c93577e2ef"
      },
      "execution_count": 1,
      "outputs": [
        {
          "output_type": "stream",
          "name": "stdout",
          "text": [
            "Collecting liac-arff\n",
            "  Downloading liac-arff-2.5.0.tar.gz (13 kB)\n",
            "  Preparing metadata (setup.py) ... \u001b[?25l\u001b[?25hdone\n",
            "Building wheels for collected packages: liac-arff\n",
            "  Building wheel for liac-arff (setup.py) ... \u001b[?25l\u001b[?25hdone\n",
            "  Created wheel for liac-arff: filename=liac_arff-2.5.0-py3-none-any.whl size=11716 sha256=bd36ce9cea9949eaa8b9b8684d9ddcc836beb29bcc2d2fce47389d73be91bcc4\n",
            "  Stored in directory: /root/.cache/pip/wheels/5d/2a/9c/3895d9617f8f49a0883ba686326d598e78a1c2f54fe3cae86d\n",
            "Successfully built liac-arff\n",
            "Installing collected packages: liac-arff\n",
            "Successfully installed liac-arff-2.5.0\n"
          ]
        }
      ]
    },
    {
      "cell_type": "code",
      "source": [
        "!pip install pandas liac-arff\n"
      ],
      "metadata": {
        "colab": {
          "base_uri": "https://localhost:8080/"
        },
        "id": "FMtlMEyrgEWl",
        "outputId": "92d823e5-fabb-4a3d-ddaf-bec8a6b3abe9"
      },
      "execution_count": 2,
      "outputs": [
        {
          "output_type": "stream",
          "name": "stdout",
          "text": [
            "Requirement already satisfied: pandas in /usr/local/lib/python3.10/dist-packages (2.2.2)\n",
            "Requirement already satisfied: liac-arff in /usr/local/lib/python3.10/dist-packages (2.5.0)\n",
            "Requirement already satisfied: numpy>=1.22.4 in /usr/local/lib/python3.10/dist-packages (from pandas) (1.26.4)\n",
            "Requirement already satisfied: python-dateutil>=2.8.2 in /usr/local/lib/python3.10/dist-packages (from pandas) (2.8.2)\n",
            "Requirement already satisfied: pytz>=2020.1 in /usr/local/lib/python3.10/dist-packages (from pandas) (2024.2)\n",
            "Requirement already satisfied: tzdata>=2022.7 in /usr/local/lib/python3.10/dist-packages (from pandas) (2024.2)\n",
            "Requirement already satisfied: six>=1.5 in /usr/local/lib/python3.10/dist-packages (from python-dateutil>=2.8.2->pandas) (1.16.0)\n"
          ]
        }
      ]
    },
    {
      "cell_type": "code",
      "execution_count": 4,
      "metadata": {
        "id": "Go4UxXRSeCLe"
      },
      "outputs": [],
      "source": [
        "import pandas as pd\n",
        "import arff\n",
        "\n",
        "# Đọc dữ liệu từ file CSV\n",
        "data = pd.read_csv('cleaned_data_Num.csv')\n",
        "\n",
        "# Chuẩn bị dữ liệu cho file ARFF\n",
        "arff_data = {\n",
        "    'description': '',\n",
        "    'relation': 'dataset',\n",
        "    'attributes': [(col, 'NUMERIC') for col in data.columns],  # Giả sử tất cả cột là kiểu số\n",
        "    'data': data.values.tolist()  # Chuyển DataFrame thành danh sách để tương thích với ARFF\n",
        "}\n",
        "\n",
        "# Ghi file ARFF\n",
        "with open('cleaned_data.arff', 'w') as f:\n",
        "    arff.dump(arff_data, f)\n"
      ]
    },
    {
      "cell_type": "markdown",
      "source": [
        "# Preprocessing dataset"
      ],
      "metadata": {
        "id": "l9Zm0Q2_aPsz"
      }
    },
    {
      "cell_type": "code",
      "source": [
        "import pandas as pd\n",
        "import numpy as np\n",
        "# import arff\n",
        "\n",
        "# Load the dataset to inspect its structure\n",
        "file_path = 'auto-mpg.csv'\n",
        "data = pd.read_csv(file_path)\n",
        "\n",
        "# Display the first few rows and some basic info about the dataset\n",
        "data_info = data.info()\n",
        "data_head = data.head()\n",
        "\n",
        "data_info, data_head\n"
      ],
      "metadata": {
        "colab": {
          "base_uri": "https://localhost:8080/"
        },
        "id": "uInyEY93aTcb",
        "outputId": "5c0bf931-5a42-48ce-a962-c0d7aa91dae4"
      },
      "execution_count": null,
      "outputs": [
        {
          "output_type": "stream",
          "name": "stdout",
          "text": [
            "<class 'pandas.core.frame.DataFrame'>\n",
            "RangeIndex: 398 entries, 0 to 397\n",
            "Data columns (total 9 columns):\n",
            " #   Column        Non-Null Count  Dtype  \n",
            "---  ------        --------------  -----  \n",
            " 0   mpg           398 non-null    float64\n",
            " 1   cylinders     398 non-null    int64  \n",
            " 2   displacement  398 non-null    float64\n",
            " 3   horsepower    398 non-null    object \n",
            " 4   weight        398 non-null    float64\n",
            " 5   acceleration  398 non-null    float64\n",
            " 6   model_year    398 non-null    int64  \n",
            " 7   origin        398 non-null    int64  \n",
            " 8   car_name      398 non-null    object \n",
            "dtypes: float64(4), int64(3), object(2)\n",
            "memory usage: 28.1+ KB\n"
          ]
        },
        {
          "output_type": "execute_result",
          "data": {
            "text/plain": [
              "(None,\n",
              "     mpg  cylinders  displacement horsepower  weight  acceleration  model_year  \\\n",
              " 0  18.0          8         307.0      130.0  3504.0          12.0          70   \n",
              " 1  15.0          8         350.0      165.0  3693.0          11.5          70   \n",
              " 2  18.0          8         318.0      150.0  3436.0          11.0          70   \n",
              " 3  16.0          8         304.0      150.0  3433.0          12.0          70   \n",
              " 4  17.0          8         302.0      140.0  3449.0          10.5          70   \n",
              " \n",
              "    origin                   car_name  \n",
              " 0       1  chevrolet chevelle malibu  \n",
              " 1       1          buick skylark 320  \n",
              " 2       1         plymouth satellite  \n",
              " 3       1              amc rebel sst  \n",
              " 4       1                ford torino  )"
            ]
          },
          "metadata": {},
          "execution_count": 5
        }
      ]
    },
    {
      "cell_type": "markdown",
      "source": [
        "## **Data Cleaning**\n"
      ],
      "metadata": {
        "id": "Q1Fi6DcQai41"
      }
    },
    {
      "cell_type": "code",
      "source": [
        "df = data.copy()\n",
        "df.info()"
      ],
      "metadata": {
        "colab": {
          "base_uri": "https://localhost:8080/"
        },
        "id": "xFP_KaTxbBgE",
        "outputId": "e94edbb7-9443-45e7-ffa8-2a20fda1ba62"
      },
      "execution_count": null,
      "outputs": [
        {
          "output_type": "stream",
          "name": "stdout",
          "text": [
            "<class 'pandas.core.frame.DataFrame'>\n",
            "RangeIndex: 398 entries, 0 to 397\n",
            "Data columns (total 9 columns):\n",
            " #   Column        Non-Null Count  Dtype  \n",
            "---  ------        --------------  -----  \n",
            " 0   mpg           398 non-null    float64\n",
            " 1   cylinders     398 non-null    int64  \n",
            " 2   displacement  398 non-null    float64\n",
            " 3   horsepower    398 non-null    object \n",
            " 4   weight        398 non-null    float64\n",
            " 5   acceleration  398 non-null    float64\n",
            " 6   model_year    398 non-null    int64  \n",
            " 7   origin        398 non-null    int64  \n",
            " 8   car_name      398 non-null    object \n",
            "dtypes: float64(4), int64(3), object(2)\n",
            "memory usage: 28.1+ KB\n"
          ]
        }
      ]
    },
    {
      "cell_type": "markdown",
      "source": [
        "**Correct Inconsistencies:**\n",
        "Check for inconsistent data entries and correct them (e.g., standardizing text formats)."
      ],
      "metadata": {
        "id": "vvkuuzFXbTTB"
      }
    },
    {
      "cell_type": "code",
      "source": [
        "# Step 1: Data Cleaning\n",
        "# Convert 'horsepower' to numeric, coerce errors, and check for missing values\n",
        "df['horsepower'] = pd.to_numeric(df['horsepower'], errors='coerce')\n",
        "df.info()"
      ],
      "metadata": {
        "colab": {
          "base_uri": "https://localhost:8080/"
        },
        "id": "jK5Ur8pYayO1",
        "outputId": "662bcff5-9108-4964-bf3f-5192e76c7810"
      },
      "execution_count": null,
      "outputs": [
        {
          "output_type": "stream",
          "name": "stdout",
          "text": [
            "<class 'pandas.core.frame.DataFrame'>\n",
            "RangeIndex: 398 entries, 0 to 397\n",
            "Data columns (total 9 columns):\n",
            " #   Column        Non-Null Count  Dtype  \n",
            "---  ------        --------------  -----  \n",
            " 0   mpg           398 non-null    float64\n",
            " 1   cylinders     398 non-null    int64  \n",
            " 2   displacement  398 non-null    float64\n",
            " 3   horsepower    392 non-null    float64\n",
            " 4   weight        398 non-null    float64\n",
            " 5   acceleration  398 non-null    float64\n",
            " 6   model_year    398 non-null    int64  \n",
            " 7   origin        398 non-null    int64  \n",
            " 8   car_name      398 non-null    object \n",
            "dtypes: float64(5), int64(3), object(1)\n",
            "memory usage: 28.1+ KB\n"
          ]
        }
      ]
    },
    {
      "cell_type": "markdown",
      "source": [
        "**Handle Missing Values:**\n",
        "Decide on appropriate methods to handle missing data (e.g., removal, mean/mode/median imputation, forward/backward fill)."
      ],
      "metadata": {
        "id": "wV7Z3GaparYN"
      }
    },
    {
      "cell_type": "code",
      "source": [
        "# Display the positions of missing values\n",
        "missing_positions = df[df.isnull().any(axis=1)].isnull()\n",
        "\n",
        "# Show the row and column indices with missing values\n",
        "missing_positions = missing_positions[missing_positions.any(axis=1)]\n",
        "missing_indices = missing_positions[missing_positions == True].stack().index.tolist()\n",
        "\n",
        "print(\"Positions of missing values (row, column):\")\n",
        "for index in missing_indices:\n",
        "    print(index)"
      ],
      "metadata": {
        "colab": {
          "base_uri": "https://localhost:8080/"
        },
        "id": "DqEG7Itbb4u8",
        "outputId": "a2041e77-8f41-4ad7-e68a-80519408e746"
      },
      "execution_count": null,
      "outputs": [
        {
          "output_type": "stream",
          "name": "stdout",
          "text": [
            "Positions of missing values (row, column):\n",
            "(32, 'horsepower')\n",
            "(126, 'horsepower')\n",
            "(330, 'horsepower')\n",
            "(336, 'horsepower')\n",
            "(354, 'horsepower')\n",
            "(374, 'horsepower')\n"
          ]
        }
      ]
    },
    {
      "cell_type": "code",
      "source": [
        "# Calculate the total number of missing values\n",
        "total_missing = len(missing_indices)\n",
        "\n",
        "# Calculate the total number of entries (rows) in the dataset\n",
        "total_entries = 398\n",
        "\n",
        "# Calculate the percentage of missing values\n",
        "missing_percentage = (total_missing / total_entries) * 100\n",
        "\n",
        "print(f\"Percentage of missing values: {missing_percentage}%\")\n"
      ],
      "metadata": {
        "colab": {
          "base_uri": "https://localhost:8080/"
        },
        "id": "sXO-ehyJcReq",
        "outputId": "74fbb515-23c7-4eee-d042-2f00bf6081c7"
      },
      "execution_count": null,
      "outputs": [
        {
          "output_type": "stream",
          "name": "stdout",
          "text": [
            "Percentage of missing values: 1.507537688442211%\n"
          ]
        }
      ]
    },
    {
      "cell_type": "markdown",
      "source": [
        "Nếu dữ liệu của bạn không có ngoại lệ lớn và là biến số liên tục, hãy xem xét sử dụng mean.\n",
        "\n",
        "Nếu dữ liệu có ngoại lệ hoặc không phân phối chuẩn, hãy chọn median.\n",
        "\n",
        "Nếu bạn đang làm việc với biến phân loại, hãy sử dụng mode.\n",
        "\n",
        "mean ~ median => phân phối chuẩn\n",
        "\n",
        "mean =! median => ko chuẩn"
      ],
      "metadata": {
        "id": "ol53K4Greex6"
      }
    },
    {
      "cell_type": "code",
      "source": [
        "print(df.describe())"
      ],
      "metadata": {
        "colab": {
          "base_uri": "https://localhost:8080/"
        },
        "id": "92QmUpEdeRGv",
        "outputId": "32c5362f-08ae-4ca7-e38a-333c348a8c96"
      },
      "execution_count": null,
      "outputs": [
        {
          "output_type": "stream",
          "name": "stdout",
          "text": [
            "              mpg   cylinders  displacement  horsepower       weight  \\\n",
            "count  398.000000  398.000000    398.000000  392.000000   398.000000   \n",
            "mean    23.514573    5.454774    193.425879  104.469388  2970.424623   \n",
            "std      7.815984    1.701004    104.269838   38.491160   846.841774   \n",
            "min      9.000000    3.000000     68.000000   46.000000  1613.000000   \n",
            "25%     17.500000    4.000000    104.250000   75.000000  2223.750000   \n",
            "50%     23.000000    4.000000    148.500000   93.500000  2803.500000   \n",
            "75%     29.000000    8.000000    262.000000  126.000000  3608.000000   \n",
            "max     46.600000    8.000000    455.000000  230.000000  5140.000000   \n",
            "\n",
            "       acceleration  model_year      origin  \n",
            "count    398.000000  398.000000  398.000000  \n",
            "mean      15.568090   76.010050    1.572864  \n",
            "std        2.757689    3.697627    0.802055  \n",
            "min        8.000000   70.000000    1.000000  \n",
            "25%       13.825000   73.000000    1.000000  \n",
            "50%       15.500000   76.000000    1.000000  \n",
            "75%       17.175000   79.000000    2.000000  \n",
            "max       24.800000   82.000000    3.000000  \n"
          ]
        }
      ]
    },
    {
      "cell_type": "code",
      "source": [
        "# Step 2: Handle Missing Values by Dropping Rows with Missing Data\n",
        "# Drop rows with any missing values\n",
        "df_cleaned = df.dropna()\n",
        "\n",
        "# Verify that there are no more missing values\n",
        "df_cleaned.info()\n",
        "\n",
        "print(\"Preprocessing complete.\")\n"
      ],
      "metadata": {
        "colab": {
          "base_uri": "https://localhost:8080/"
        },
        "id": "oNygLOuYbbAe",
        "outputId": "f92c37ca-6423-4d5b-d38b-6b4fc091cb33"
      },
      "execution_count": null,
      "outputs": [
        {
          "output_type": "stream",
          "name": "stdout",
          "text": [
            "<class 'pandas.core.frame.DataFrame'>\n",
            "Index: 392 entries, 0 to 397\n",
            "Data columns (total 9 columns):\n",
            " #   Column        Non-Null Count  Dtype  \n",
            "---  ------        --------------  -----  \n",
            " 0   mpg           392 non-null    float64\n",
            " 1   cylinders     392 non-null    int64  \n",
            " 2   displacement  392 non-null    float64\n",
            " 3   horsepower    392 non-null    float64\n",
            " 4   weight        392 non-null    float64\n",
            " 5   acceleration  392 non-null    float64\n",
            " 6   model_year    392 non-null    int64  \n",
            " 7   origin        392 non-null    int64  \n",
            " 8   car_name      392 non-null    object \n",
            "dtypes: float64(5), int64(3), object(1)\n",
            "memory usage: 30.6+ KB\n",
            "Preprocessing complete.\n"
          ]
        }
      ]
    },
    {
      "cell_type": "code",
      "source": [
        "print(df_cleaned)"
      ],
      "metadata": {
        "colab": {
          "base_uri": "https://localhost:8080/"
        },
        "id": "31TGNV_ZswNi",
        "outputId": "1e63c6d1-3325-4c8b-c3df-d6315f8431a5"
      },
      "execution_count": null,
      "outputs": [
        {
          "output_type": "stream",
          "name": "stdout",
          "text": [
            "      mpg  cylinders  displacement  horsepower  weight  acceleration  \\\n",
            "0    18.0          8         307.0       130.0  3504.0          12.0   \n",
            "1    15.0          8         350.0       165.0  3693.0          11.5   \n",
            "2    18.0          8         318.0       150.0  3436.0          11.0   \n",
            "3    16.0          8         304.0       150.0  3433.0          12.0   \n",
            "4    17.0          8         302.0       140.0  3449.0          10.5   \n",
            "..    ...        ...           ...         ...     ...           ...   \n",
            "393  27.0          4         140.0        86.0  2790.0          15.6   \n",
            "394  44.0          4          97.0        52.0  2130.0          24.6   \n",
            "395  32.0          4         135.0        84.0  2295.0          11.6   \n",
            "396  28.0          4         120.0        79.0  2625.0          18.6   \n",
            "397  31.0          4         119.0        82.0  2720.0          19.4   \n",
            "\n",
            "     model_year  origin                   car_name  \n",
            "0            70       1  chevrolet chevelle malibu  \n",
            "1            70       1          buick skylark 320  \n",
            "2            70       1         plymouth satellite  \n",
            "3            70       1              amc rebel sst  \n",
            "4            70       1                ford torino  \n",
            "..          ...     ...                        ...  \n",
            "393          82       1            ford mustang gl  \n",
            "394          82       2                  vw pickup  \n",
            "395          82       1              dodge rampage  \n",
            "396          82       1                ford ranger  \n",
            "397          82       1                 chevy s-10  \n",
            "\n",
            "[392 rows x 9 columns]\n"
          ]
        }
      ]
    },
    {
      "cell_type": "code",
      "source": [
        "df1 = df_cleaned.copy()\n",
        "# df1"
      ],
      "metadata": {
        "id": "elJy2KTiiMRl"
      },
      "execution_count": null,
      "outputs": []
    },
    {
      "cell_type": "markdown",
      "source": [
        "Check Duplicate"
      ],
      "metadata": {
        "id": "H32Cfx1-fsih"
      }
    },
    {
      "cell_type": "code",
      "source": [
        "import pandas as pd\n",
        "\n",
        "# Check for duplicates\n",
        "duplicates = df1[df1.duplicated()]\n",
        "\n",
        "# Output the duplicates\n",
        "if not duplicates.empty:\n",
        "    print(\"Found duplicates:\")\n",
        "    print(duplicates)\n",
        "else:\n",
        "    print(\"No duplicates found.\")"
      ],
      "metadata": {
        "colab": {
          "base_uri": "https://localhost:8080/"
        },
        "id": "UoVR32TBfsGE",
        "outputId": "a2493675-f84a-4089-ce22-3811e8ab5393"
      },
      "execution_count": null,
      "outputs": [
        {
          "output_type": "stream",
          "name": "stdout",
          "text": [
            "No duplicates found.\n"
          ]
        }
      ]
    },
    {
      "cell_type": "markdown",
      "source": [
        "**Outlier Detection and Treatment:**\n",
        "Identify outliers that might impact analysis, and either remove or transform them as needed."
      ],
      "metadata": {
        "id": "abNiGPnDiTN3"
      }
    },
    {
      "cell_type": "markdown",
      "source": [
        "Step 1: Outlier Detection using IQR\n",
        "The Interquartile Range (IQR) method is commonly used to detect outliers. For each numeric column, data points that fall below Q1 - 1.5 * IQR or above Q3 + 1.5 * IQR are considered outliers."
      ],
      "metadata": {
        "id": "QmlfYSvjjXIX"
      }
    },
    {
      "cell_type": "code",
      "source": [
        "import pandas as pd\n",
        "import numpy as np\n",
        "\n",
        "# Step 1: Identify Outliers using the IQR method\n",
        "def detect_outliers_iqr(df):\n",
        "    outliers = {}\n",
        "    outlier_percentages = {}\n",
        "    for col in df.select_dtypes(include=[np.number]).columns:  # Select numeric columns only\n",
        "        Q1 = df[col].quantile(0.25)\n",
        "        Q3 = df[col].quantile(0.75)\n",
        "        IQR = Q3 - Q1\n",
        "        lower_bound = Q1 - 1.5 * IQR\n",
        "        upper_bound = Q3 + 1.5 * IQR\n",
        "        outlier_rows = df[(df[col] < lower_bound) | (df[col] > upper_bound)]\n",
        "\n",
        "        # Add index list of outliers to dictionary\n",
        "        outliers[col] = outlier_rows.index.tolist()\n",
        "\n",
        "        # Calculate the percentage of outliers compared to the total number of rows\n",
        "        outlier_percentage = (len(outlier_rows) / len(df)) * 100\n",
        "        outlier_percentages[col] = outlier_percentage\n",
        "\n",
        "    return outliers, outlier_percentages\n",
        "\n",
        "outliers, outlier_percentages = detect_outliers_iqr(df1)\n",
        "\n",
        "# Display outlier positions by column\n",
        "print(\"Outliers detected by column:\")\n",
        "for col, indices in outliers.items():\n",
        "    print(f\"{col}: {indices}\")"
      ],
      "metadata": {
        "colab": {
          "base_uri": "https://localhost:8080/"
        },
        "id": "GGDBwPpwiRle",
        "outputId": "429bfca1-083c-40a0-9552-fb7f11e22db3"
      },
      "execution_count": null,
      "outputs": [
        {
          "output_type": "stream",
          "name": "stdout",
          "text": [
            "Outliers detected by column:\n",
            "mpg: []\n",
            "cylinders: []\n",
            "displacement: []\n",
            "horsepower: [6, 7, 8, 13, 25, 27, 67, 94, 95, 116]\n",
            "weight: []\n",
            "acceleration: [7, 9, 11, 59, 195, 196, 209, 299, 300, 326, 394]\n",
            "model_year: []\n",
            "origin: []\n"
          ]
        }
      ]
    },
    {
      "cell_type": "code",
      "source": [
        "# Showing results for 'horsepower'\n",
        "column = 'horsepower'\n",
        "num_outliers_horsepower = len(outliers.get(column, []))\n",
        "outlier_percentage_horsepower = outlier_percentages.get(column, 0)\n",
        "\n",
        "print(f\"Number of outliers in {column}: {num_outliers_horsepower}\")\n",
        "print(f\"Percentage of outliers in {column}: {outlier_percentage_horsepower:.2f}%\")\n"
      ],
      "metadata": {
        "colab": {
          "base_uri": "https://localhost:8080/"
        },
        "id": "ILRk6xfHohmp",
        "outputId": "c8bbc3fe-b85e-4d85-e928-d8140a8eb781"
      },
      "execution_count": null,
      "outputs": [
        {
          "output_type": "stream",
          "name": "stdout",
          "text": [
            "Number of outliers in horsepower: 10\n",
            "Percentage of outliers in horsepower: 2.55%\n"
          ]
        }
      ]
    },
    {
      "cell_type": "code",
      "source": [
        "# Showing results for 'acceleration'\n",
        "column = 'acceleration'\n",
        "num_outliers_acceleration = len(outliers.get(column, []))\n",
        "outlier_percentage_acceleration = outlier_percentages.get(column, 0)\n",
        "\n",
        "print(f\"Number of outliers in {column}: {num_outliers_acceleration}\")\n",
        "print(f\"Percentage of outliers in {column}: {outlier_percentage_acceleration:.2f}%\")\n"
      ],
      "metadata": {
        "colab": {
          "base_uri": "https://localhost:8080/"
        },
        "id": "RL2q66z0qP54",
        "outputId": "cf20cbcc-080e-4c4e-9dde-4358aafae157"
      },
      "execution_count": null,
      "outputs": [
        {
          "output_type": "stream",
          "name": "stdout",
          "text": [
            "Number of outliers in acceleration: 11\n",
            "Percentage of outliers in acceleration: 2.81%\n"
          ]
        }
      ]
    },
    {
      "cell_type": "code",
      "source": [
        "import pandas as pd\n",
        "import numpy as np\n",
        "\n",
        "\n",
        "# Identify and remove outliers in all columns using IQR method\n",
        "def remove_outliers_iqr(df):\n",
        "    # Create an initial mask that is True for all rows\n",
        "    mask = np.ones(len(df), dtype=bool)\n",
        "\n",
        "    for col in df.select_dtypes(include=[np.number]).columns:\n",
        "        Q1 = df[col].quantile(0.25)\n",
        "        Q3 = df[col].quantile(0.75)\n",
        "        IQR = Q3 - Q1\n",
        "        lower_bound = Q1 - 1.5 * IQR\n",
        "        upper_bound = Q3 + 1.5 * IQR\n",
        "\n",
        "        # Update mask for lines containing outliers (outliers = False)\n",
        "        mask = mask & (df[col] >= lower_bound) & (df[col] <= upper_bound)\n",
        "\n",
        "    # Filter non-outlier rows based on mask\n",
        "    df_clean = df[mask]\n",
        "    return df_clean\n",
        "\n",
        "# Remove outliers from df1\n",
        "df1_clean1 = remove_outliers_iqr(df1)\n",
        "\n",
        "print(df1_clean1)\n"
      ],
      "metadata": {
        "colab": {
          "base_uri": "https://localhost:8080/"
        },
        "id": "f3v1rDlhtbe_",
        "outputId": "bd5fec18-ab7e-4bb5-f7ec-16e8d0f96ab3"
      },
      "execution_count": null,
      "outputs": [
        {
          "output_type": "stream",
          "name": "stdout",
          "text": [
            "      mpg  cylinders  displacement  horsepower  weight  acceleration  \\\n",
            "0    18.0          8         307.0       130.0  3504.0          12.0   \n",
            "1    15.0          8         350.0       165.0  3693.0          11.5   \n",
            "2    18.0          8         318.0       150.0  3436.0          11.0   \n",
            "3    16.0          8         304.0       150.0  3433.0          12.0   \n",
            "4    17.0          8         302.0       140.0  3449.0          10.5   \n",
            "..    ...        ...           ...         ...     ...           ...   \n",
            "392  27.0          4         151.0        90.0  2950.0          17.3   \n",
            "393  27.0          4         140.0        86.0  2790.0          15.6   \n",
            "395  32.0          4         135.0        84.0  2295.0          11.6   \n",
            "396  28.0          4         120.0        79.0  2625.0          18.6   \n",
            "397  31.0          4         119.0        82.0  2720.0          19.4   \n",
            "\n",
            "     model_year  origin                   car_name  \n",
            "0            70       1  chevrolet chevelle malibu  \n",
            "1            70       1          buick skylark 320  \n",
            "2            70       1         plymouth satellite  \n",
            "3            70       1              amc rebel sst  \n",
            "4            70       1                ford torino  \n",
            "..          ...     ...                        ...  \n",
            "392          82       1           chevrolet camaro  \n",
            "393          82       1            ford mustang gl  \n",
            "395          82       1              dodge rampage  \n",
            "396          82       1                ford ranger  \n",
            "397          82       1                 chevy s-10  \n",
            "\n",
            "[372 rows x 9 columns]\n"
          ]
        }
      ]
    },
    {
      "cell_type": "code",
      "source": [
        "df_after_handle_outlier = df1_clean1.copy()\n",
        "df2 = df_after_handle_outlier.copy()\n",
        "print(df2)"
      ],
      "metadata": {
        "id": "9Nt383LBwV9S",
        "colab": {
          "base_uri": "https://localhost:8080/"
        },
        "outputId": "7107813b-4539-48a3-b66a-f5e7421f5415"
      },
      "execution_count": null,
      "outputs": [
        {
          "output_type": "stream",
          "name": "stdout",
          "text": [
            "      mpg  cylinders  displacement  horsepower  weight  acceleration  \\\n",
            "0    18.0          8         307.0       130.0  3504.0          12.0   \n",
            "1    15.0          8         350.0       165.0  3693.0          11.5   \n",
            "2    18.0          8         318.0       150.0  3436.0          11.0   \n",
            "3    16.0          8         304.0       150.0  3433.0          12.0   \n",
            "4    17.0          8         302.0       140.0  3449.0          10.5   \n",
            "..    ...        ...           ...         ...     ...           ...   \n",
            "392  27.0          4         151.0        90.0  2950.0          17.3   \n",
            "393  27.0          4         140.0        86.0  2790.0          15.6   \n",
            "395  32.0          4         135.0        84.0  2295.0          11.6   \n",
            "396  28.0          4         120.0        79.0  2625.0          18.6   \n",
            "397  31.0          4         119.0        82.0  2720.0          19.4   \n",
            "\n",
            "     model_year  origin                   car_name  \n",
            "0            70       1  chevrolet chevelle malibu  \n",
            "1            70       1          buick skylark 320  \n",
            "2            70       1         plymouth satellite  \n",
            "3            70       1              amc rebel sst  \n",
            "4            70       1                ford torino  \n",
            "..          ...     ...                        ...  \n",
            "392          82       1           chevrolet camaro  \n",
            "393          82       1            ford mustang gl  \n",
            "395          82       1              dodge rampage  \n",
            "396          82       1                ford ranger  \n",
            "397          82       1                 chevy s-10  \n",
            "\n",
            "[372 rows x 9 columns]\n"
          ]
        }
      ]
    },
    {
      "cell_type": "markdown",
      "source": [
        "**Feature Engineering**"
      ],
      "metadata": {
        "id": "yfw7wPAzutcF"
      }
    },
    {
      "cell_type": "markdown",
      "source": [
        "**Feature Selection:**\n",
        "Feature selection is the process of identifying and choosing the most important features that significantly contribute to predicting the target variable. The goal is to reduce the number of features by eliminating irrelevant or redundant ones, which can lead to more efficient models with better generalization, faster training times, and reduced risk of overfitting.\n"
      ],
      "metadata": {
        "id": "ig7MIz3iwKCv"
      }
    },
    {
      "cell_type": "code",
      "source": [
        "# Step 2: Feature Engineering\n",
        "# Drop 'car_name' as it may not contribute directly to the analysis\n",
        "df2 = df2.drop(columns=['car_name'])\n",
        "df2.info()"
      ],
      "metadata": {
        "colab": {
          "base_uri": "https://localhost:8080/"
        },
        "id": "Gv3NPdpAxiwA",
        "outputId": "08338ac4-84a3-440b-c4d9-ea45be51c94c"
      },
      "execution_count": null,
      "outputs": [
        {
          "output_type": "stream",
          "name": "stdout",
          "text": [
            "<class 'pandas.core.frame.DataFrame'>\n",
            "Index: 372 entries, 0 to 397\n",
            "Data columns (total 8 columns):\n",
            " #   Column        Non-Null Count  Dtype  \n",
            "---  ------        --------------  -----  \n",
            " 0   mpg           372 non-null    float64\n",
            " 1   cylinders     372 non-null    int64  \n",
            " 2   displacement  372 non-null    float64\n",
            " 3   horsepower    372 non-null    float64\n",
            " 4   weight        372 non-null    float64\n",
            " 5   acceleration  372 non-null    float64\n",
            " 6   model_year    372 non-null    int64  \n",
            " 7   origin        372 non-null    int64  \n",
            "dtypes: float64(5), int64(3)\n",
            "memory usage: 26.2 KB\n"
          ]
        }
      ]
    },
    {
      "cell_type": "code",
      "source": [
        "correlation_matrix = df2.corr()\n",
        "print(correlation_matrix)"
      ],
      "metadata": {
        "colab": {
          "base_uri": "https://localhost:8080/"
        },
        "id": "zdwuE6nRx_ki",
        "outputId": "ae52c8e8-d116-49a2-b7ff-fcd87ed41a59"
      },
      "execution_count": null,
      "outputs": [
        {
          "output_type": "stream",
          "name": "stdout",
          "text": [
            "                   mpg  cylinders  displacement  horsepower    weight  \\\n",
            "mpg           1.000000  -0.773752     -0.807124   -0.791483 -0.832137   \n",
            "cylinders    -0.773752   1.000000      0.955883    0.857902  0.898313   \n",
            "displacement -0.807124   0.955883      1.000000    0.888231  0.940350   \n",
            "horsepower   -0.791483   0.857902      0.888231    1.000000  0.882085   \n",
            "weight       -0.832137   0.898313      0.940350    0.882085  1.000000   \n",
            "acceleration  0.375479  -0.474818     -0.489523   -0.652216 -0.382518   \n",
            "model_year    0.552155  -0.305033     -0.315537   -0.354527 -0.268218   \n",
            "origin        0.563733  -0.561826     -0.622121   -0.464135 -0.586258   \n",
            "\n",
            "              acceleration  model_year    origin  \n",
            "mpg               0.375479    0.552155  0.563733  \n",
            "cylinders        -0.474818   -0.305033 -0.561826  \n",
            "displacement     -0.489523   -0.315537 -0.622121  \n",
            "horsepower       -0.652216   -0.354527 -0.464135  \n",
            "weight           -0.382518   -0.268218 -0.586258  \n",
            "acceleration      1.000000    0.225736  0.196334  \n",
            "model_year        0.225736    1.000000  0.156953  \n",
            "origin            0.196334    0.156953  1.000000  \n"
          ]
        }
      ]
    },
    {
      "cell_type": "markdown",
      "source": [
        "## Choose mpg for predict"
      ],
      "metadata": {
        "id": "BAdCr4TgF3si"
      }
    },
    {
      "cell_type": "code",
      "source": [
        "import statsmodels.api as sm\n",
        "\n",
        "# Select dependent variable (y) and independent variable (X)\n",
        "y = df2['mpg']  # Example select mpg as dependent variable\n",
        "X = df2.drop('mpg', axis=1) # The remaining variables are independent variables\n",
        "\n",
        "# Add a column 1 to X to calculate the intercept\n",
        "X = sm.add_constant(X)\n",
        "\n",
        "# Run OLS regression\n",
        "model = sm.OLS(y, X).fit()\n",
        "\n",
        "# Print summary results\n",
        "print(model.summary())"
      ],
      "metadata": {
        "colab": {
          "base_uri": "https://localhost:8080/"
        },
        "id": "PG4zEVnYyJ4T",
        "outputId": "58b77bdd-08bf-44a5-8abc-33d6a10af88c"
      },
      "execution_count": null,
      "outputs": [
        {
          "output_type": "stream",
          "name": "stdout",
          "text": [
            "                            OLS Regression Results                            \n",
            "==============================================================================\n",
            "Dep. Variable:                    mpg   R-squared:                       0.822\n",
            "Model:                            OLS   Adj. R-squared:                  0.819\n",
            "Method:                 Least Squares   F-statistic:                     240.7\n",
            "Date:                Tue, 19 Nov 2024   Prob (F-statistic):          2.23e-132\n",
            "Time:                        09:06:16   Log-Likelihood:                -962.00\n",
            "No. Observations:                 372   AIC:                             1940.\n",
            "Df Residuals:                     364   BIC:                             1971.\n",
            "Df Model:                           7                                         \n",
            "Covariance Type:            nonrobust                                         \n",
            "================================================================================\n",
            "                   coef    std err          t      P>|t|      [0.025      0.975]\n",
            "--------------------------------------------------------------------------------\n",
            "const          -12.5317      4.731     -2.649      0.008     -21.834      -3.229\n",
            "cylinders       -0.2533      0.347     -0.730      0.466      -0.936       0.429\n",
            "displacement     0.0139      0.008      1.685      0.093      -0.002       0.030\n",
            "horsepower      -0.0400      0.016     -2.466      0.014      -0.072      -0.008\n",
            "weight          -0.0058      0.001     -7.666      0.000      -0.007      -0.004\n",
            "acceleration    -0.0764      0.114     -0.672      0.502      -0.300       0.147\n",
            "model_year       0.7231      0.051     14.312      0.000       0.624       0.822\n",
            "origin           1.3590      0.275      4.937      0.000       0.818       1.900\n",
            "==============================================================================\n",
            "Omnibus:                       28.579   Durbin-Watson:                   1.364\n",
            "Prob(Omnibus):                  0.000   Jarque-Bera (JB):               48.337\n",
            "Skew:                           0.493   Prob(JB):                     3.19e-11\n",
            "Kurtosis:                       4.465   Cond. No.                     8.62e+04\n",
            "==============================================================================\n",
            "\n",
            "Notes:\n",
            "[1] Standard Errors assume that the covariance matrix of the errors is correctly specified.\n",
            "[2] The condition number is large, 8.62e+04. This might indicate that there are\n",
            "strong multicollinearity or other numerical problems.\n"
          ]
        }
      ]
    },
    {
      "cell_type": "markdown",
      "source": [
        "Drop acceleration    "
      ],
      "metadata": {
        "id": "v0t4OeePzwzg"
      }
    },
    {
      "cell_type": "code",
      "source": [
        "import statsmodels.api as sm\n",
        "\n",
        "# Remove column 'acceleration' because p-value > 0.05\n",
        "df2 = df2.drop('acceleration', axis=1)\n",
        "print(df2)\n",
        "\n",
        "# Select dependent variable (y) and independent variable (X)\n",
        "y = df2['mpg']  # Example select mpg as dependent variable\n",
        "X = df2.drop('mpg', axis=1)   # The remaining variables are independent variables\n",
        "\n",
        "# Add a column 1 to X to calculate the intercept\n",
        "X = sm.add_constant(X)\n",
        "\n",
        "# Run OLS regression again after removing the 'acceleration' column\n",
        "model = sm.OLS(y, X).fit()\n",
        "\n",
        "print(model.summary())\n"
      ],
      "metadata": {
        "colab": {
          "base_uri": "https://localhost:8080/"
        },
        "id": "cGJEoV5Pzy5p",
        "outputId": "2ea716be-9023-41f7-add1-b91700be9b07"
      },
      "execution_count": null,
      "outputs": [
        {
          "output_type": "stream",
          "name": "stdout",
          "text": [
            "      mpg  cylinders  displacement  horsepower  weight  model_year  origin\n",
            "0    18.0          8         307.0       130.0  3504.0          70       1\n",
            "1    15.0          8         350.0       165.0  3693.0          70       1\n",
            "2    18.0          8         318.0       150.0  3436.0          70       1\n",
            "3    16.0          8         304.0       150.0  3433.0          70       1\n",
            "4    17.0          8         302.0       140.0  3449.0          70       1\n",
            "..    ...        ...           ...         ...     ...         ...     ...\n",
            "392  27.0          4         151.0        90.0  2950.0          82       1\n",
            "393  27.0          4         140.0        86.0  2790.0          82       1\n",
            "395  32.0          4         135.0        84.0  2295.0          82       1\n",
            "396  28.0          4         120.0        79.0  2625.0          82       1\n",
            "397  31.0          4         119.0        82.0  2720.0          82       1\n",
            "\n",
            "[372 rows x 7 columns]\n",
            "                            OLS Regression Results                            \n",
            "==============================================================================\n",
            "Dep. Variable:                    mpg   R-squared:                       0.822\n",
            "Model:                            OLS   Adj. R-squared:                  0.819\n",
            "Method:                 Least Squares   F-statistic:                     281.2\n",
            "Date:                Tue, 19 Nov 2024   Prob (F-statistic):          1.59e-133\n",
            "Time:                        09:15:35   Log-Likelihood:                -962.23\n",
            "No. Observations:                 372   AIC:                             1938.\n",
            "Df Residuals:                     365   BIC:                             1966.\n",
            "Df Model:                           6                                         \n",
            "Covariance Type:            nonrobust                                         \n",
            "================================================================================\n",
            "                   coef    std err          t      P>|t|      [0.025      0.975]\n",
            "--------------------------------------------------------------------------------\n",
            "const          -14.0739      4.134     -3.405      0.001     -22.203      -5.945\n",
            "cylinders       -0.2597      0.347     -0.749      0.454      -0.941       0.422\n",
            "displacement     0.0149      0.008      1.835      0.067      -0.001       0.031\n",
            "horsepower      -0.0327      0.012     -2.711      0.007      -0.056      -0.009\n",
            "weight          -0.0061      0.001     -9.524      0.000      -0.007      -0.005\n",
            "model_year       0.7265      0.050     14.469      0.000       0.628       0.825\n",
            "origin           1.3565      0.275      4.933      0.000       0.816       1.897\n",
            "==============================================================================\n",
            "Omnibus:                       26.969   Durbin-Watson:                   1.361\n",
            "Prob(Omnibus):                  0.000   Jarque-Bera (JB):               44.045\n",
            "Skew:                           0.480   Prob(JB):                     2.73e-10\n",
            "Kurtosis:                       4.385   Cond. No.                     7.54e+04\n",
            "==============================================================================\n",
            "\n",
            "Notes:\n",
            "[1] Standard Errors assume that the covariance matrix of the errors is correctly specified.\n",
            "[2] The condition number is large, 7.54e+04. This might indicate that there are\n",
            "strong multicollinearity or other numerical problems.\n"
          ]
        }
      ]
    },
    {
      "cell_type": "markdown",
      "source": [
        "Drop cylinders"
      ],
      "metadata": {
        "id": "roI3liO7z_bK"
      }
    },
    {
      "cell_type": "code",
      "source": [
        "import statsmodels.api as sm\n",
        "\n",
        "# Remove column 'cylinders' because p-value > 0.05\n",
        "df2 = df2.drop('cylinders', axis=1)\n",
        "\n",
        "# Select dependent variable (y) and independent variable (X)\n",
        "y = df2['mpg']  # Example select mpg as dependent variable\n",
        "X = df2.drop('mpg', axis=1) # The remaining variables are independent variables\n",
        "\n",
        "# Add a column 1 to X to calculate the intercept\n",
        "X = sm.add_constant(X)\n",
        "\n",
        "# Run OLS regression again after removing the 'cylinders' column\n",
        "model = sm.OLS(y, X).fit()\n",
        "\n",
        "print(model.summary())"
      ],
      "metadata": {
        "colab": {
          "base_uri": "https://localhost:8080/"
        },
        "id": "UWpTKGS60B47",
        "outputId": "1cf70154-dd4b-44a0-d9f0-39e9f8620db8"
      },
      "execution_count": null,
      "outputs": [
        {
          "output_type": "stream",
          "name": "stdout",
          "text": [
            "                            OLS Regression Results                            \n",
            "==============================================================================\n",
            "Dep. Variable:                    mpg   R-squared:                       0.822\n",
            "Model:                            OLS   Adj. R-squared:                  0.819\n",
            "Method:                 Least Squares   F-statistic:                     337.7\n",
            "Date:                Tue, 19 Nov 2024   Prob (F-statistic):          1.09e-134\n",
            "Time:                        09:23:24   Log-Likelihood:                -962.52\n",
            "No. Observations:                 372   AIC:                             1937.\n",
            "Df Residuals:                     366   BIC:                             1961.\n",
            "Df Model:                           5                                         \n",
            "Covariance Type:            nonrobust                                         \n",
            "================================================================================\n",
            "                   coef    std err          t      P>|t|      [0.025      0.975]\n",
            "--------------------------------------------------------------------------------\n",
            "const          -14.6047      4.070     -3.588      0.000     -22.608      -6.601\n",
            "displacement     0.0106      0.006      1.847      0.066      -0.001       0.022\n",
            "horsepower      -0.0331      0.012     -2.740      0.006      -0.057      -0.009\n",
            "weight          -0.0060      0.001     -9.519      0.000      -0.007      -0.005\n",
            "model_year       0.7264      0.050     14.475      0.000       0.628       0.825\n",
            "origin           1.3299      0.273      4.880      0.000       0.794       1.866\n",
            "==============================================================================\n",
            "Omnibus:                       26.440   Durbin-Watson:                   1.356\n",
            "Prob(Omnibus):                  0.000   Jarque-Bera (JB):               42.547\n",
            "Skew:                           0.477   Prob(JB):                     5.77e-10\n",
            "Kurtosis:                       4.354   Cond. No.                     7.43e+04\n",
            "==============================================================================\n",
            "\n",
            "Notes:\n",
            "[1] Standard Errors assume that the covariance matrix of the errors is correctly specified.\n",
            "[2] The condition number is large, 7.43e+04. This might indicate that there are\n",
            "strong multicollinearity or other numerical problems.\n"
          ]
        }
      ]
    },
    {
      "cell_type": "markdown",
      "source": [
        "Drop displacement     "
      ],
      "metadata": {
        "id": "C8CM5UHB0Ipj"
      }
    },
    {
      "cell_type": "code",
      "source": [
        "import statsmodels.api as sm\n",
        "\n",
        "# Remove column 'displacement' because p-value > 0.05\n",
        "df2 = df2.drop('displacement', axis=1)\n",
        "\n",
        "# Select dependent variable (y) and independent variable (X)\n",
        "y = df2['mpg']  # Example select mpg as dependent variable\n",
        "X = df2.drop('mpg', axis=1)  # The remaining variables are independent variables\n",
        "\n",
        "# Add a column 1 to X to calculate the intercept\n",
        "X = sm.add_constant(X)\n",
        "\n",
        "# Run OLS regression again after removing the 'displacement' column\n",
        "model = sm.OLS(y, X).fit()\n",
        "\n",
        "print(model.summary())"
      ],
      "metadata": {
        "colab": {
          "base_uri": "https://localhost:8080/"
        },
        "id": "26FQDEB50MGu",
        "outputId": "db101765-3be3-459b-9508-1a90b7ce225a"
      },
      "execution_count": null,
      "outputs": [
        {
          "output_type": "stream",
          "name": "stdout",
          "text": [
            "                            OLS Regression Results                            \n",
            "==============================================================================\n",
            "Dep. Variable:                    mpg   R-squared:                       0.820\n",
            "Model:                            OLS   Adj. R-squared:                  0.818\n",
            "Method:                 Least Squares   F-statistic:                     418.5\n",
            "Date:                Tue, 19 Nov 2024   Prob (F-statistic):          2.73e-135\n",
            "Time:                        09:31:00   Log-Likelihood:                -964.25\n",
            "No. Observations:                 372   AIC:                             1938.\n",
            "Df Residuals:                     367   BIC:                             1958.\n",
            "Df Model:                           4                                         \n",
            "Covariance Type:            nonrobust                                         \n",
            "==============================================================================\n",
            "                 coef    std err          t      P>|t|      [0.025      0.975]\n",
            "------------------------------------------------------------------------------\n",
            "const        -14.7600      4.082     -3.615      0.000     -22.788      -6.732\n",
            "horsepower    -0.0244      0.011     -2.187      0.029      -0.046      -0.002\n",
            "weight        -0.0053      0.000    -10.980      0.000      -0.006      -0.004\n",
            "model_year     0.7169      0.050     14.315      0.000       0.618       0.815\n",
            "origin         1.1626      0.258      4.508      0.000       0.655       1.670\n",
            "==============================================================================\n",
            "Omnibus:                       29.552   Durbin-Watson:                   1.337\n",
            "Prob(Omnibus):                  0.000   Jarque-Bera (JB):               50.492\n",
            "Skew:                           0.504   Prob(JB):                     1.09e-11\n",
            "Kurtosis:                       4.497   Cond. No.                     7.41e+04\n",
            "==============================================================================\n",
            "\n",
            "Notes:\n",
            "[1] Standard Errors assume that the covariance matrix of the errors is correctly specified.\n",
            "[2] The condition number is large, 7.41e+04. This might indicate that there are\n",
            "strong multicollinearity or other numerical problems.\n"
          ]
        }
      ]
    },
    {
      "cell_type": "code",
      "source": [
        "df3 = df2.copy()\n",
        "df3.info()"
      ],
      "metadata": {
        "colab": {
          "base_uri": "https://localhost:8080/"
        },
        "id": "HOtCZpOG0XI2",
        "outputId": "4fd7cc9d-1dcd-492a-cd3f-0b67aa61e111"
      },
      "execution_count": null,
      "outputs": [
        {
          "output_type": "stream",
          "name": "stdout",
          "text": [
            "<class 'pandas.core.frame.DataFrame'>\n",
            "Index: 372 entries, 0 to 397\n",
            "Data columns (total 5 columns):\n",
            " #   Column      Non-Null Count  Dtype  \n",
            "---  ------      --------------  -----  \n",
            " 0   mpg         372 non-null    float64\n",
            " 1   horsepower  372 non-null    float64\n",
            " 2   weight      372 non-null    float64\n",
            " 3   model_year  372 non-null    int64  \n",
            " 4   origin      372 non-null    int64  \n",
            "dtypes: float64(3), int64(2)\n",
            "memory usage: 17.4 KB\n"
          ]
        }
      ]
    },
    {
      "cell_type": "markdown",
      "source": [
        "**Convert data from continuous to discrete form**"
      ],
      "metadata": {
        "id": "wZJiuDLi6hzA"
      }
    },
    {
      "cell_type": "code",
      "source": [
        "df3"
      ],
      "metadata": {
        "colab": {
          "base_uri": "https://localhost:8080/",
          "height": 424
        },
        "id": "W1rZ4N0_2NlC",
        "outputId": "608068f0-598d-4b05-de2e-fb2b339889b7"
      },
      "execution_count": null,
      "outputs": [
        {
          "output_type": "execute_result",
          "data": {
            "text/plain": [
              "      mpg  horsepower  weight  model_year  origin\n",
              "0    18.0       130.0  3504.0          70       1\n",
              "1    15.0       165.0  3693.0          70       1\n",
              "2    18.0       150.0  3436.0          70       1\n",
              "3    16.0       150.0  3433.0          70       1\n",
              "4    17.0       140.0  3449.0          70       1\n",
              "..    ...         ...     ...         ...     ...\n",
              "392  27.0        90.0  2950.0          82       1\n",
              "393  27.0        86.0  2790.0          82       1\n",
              "395  32.0        84.0  2295.0          82       1\n",
              "396  28.0        79.0  2625.0          82       1\n",
              "397  31.0        82.0  2720.0          82       1\n",
              "\n",
              "[372 rows x 5 columns]"
            ],
            "text/html": [
              "\n",
              "  <div id=\"df-b81361e2-ea05-4331-9529-937cac4d88db\" class=\"colab-df-container\">\n",
              "    <div>\n",
              "<style scoped>\n",
              "    .dataframe tbody tr th:only-of-type {\n",
              "        vertical-align: middle;\n",
              "    }\n",
              "\n",
              "    .dataframe tbody tr th {\n",
              "        vertical-align: top;\n",
              "    }\n",
              "\n",
              "    .dataframe thead th {\n",
              "        text-align: right;\n",
              "    }\n",
              "</style>\n",
              "<table border=\"1\" class=\"dataframe\">\n",
              "  <thead>\n",
              "    <tr style=\"text-align: right;\">\n",
              "      <th></th>\n",
              "      <th>mpg</th>\n",
              "      <th>horsepower</th>\n",
              "      <th>weight</th>\n",
              "      <th>model_year</th>\n",
              "      <th>origin</th>\n",
              "    </tr>\n",
              "  </thead>\n",
              "  <tbody>\n",
              "    <tr>\n",
              "      <th>0</th>\n",
              "      <td>18.0</td>\n",
              "      <td>130.0</td>\n",
              "      <td>3504.0</td>\n",
              "      <td>70</td>\n",
              "      <td>1</td>\n",
              "    </tr>\n",
              "    <tr>\n",
              "      <th>1</th>\n",
              "      <td>15.0</td>\n",
              "      <td>165.0</td>\n",
              "      <td>3693.0</td>\n",
              "      <td>70</td>\n",
              "      <td>1</td>\n",
              "    </tr>\n",
              "    <tr>\n",
              "      <th>2</th>\n",
              "      <td>18.0</td>\n",
              "      <td>150.0</td>\n",
              "      <td>3436.0</td>\n",
              "      <td>70</td>\n",
              "      <td>1</td>\n",
              "    </tr>\n",
              "    <tr>\n",
              "      <th>3</th>\n",
              "      <td>16.0</td>\n",
              "      <td>150.0</td>\n",
              "      <td>3433.0</td>\n",
              "      <td>70</td>\n",
              "      <td>1</td>\n",
              "    </tr>\n",
              "    <tr>\n",
              "      <th>4</th>\n",
              "      <td>17.0</td>\n",
              "      <td>140.0</td>\n",
              "      <td>3449.0</td>\n",
              "      <td>70</td>\n",
              "      <td>1</td>\n",
              "    </tr>\n",
              "    <tr>\n",
              "      <th>...</th>\n",
              "      <td>...</td>\n",
              "      <td>...</td>\n",
              "      <td>...</td>\n",
              "      <td>...</td>\n",
              "      <td>...</td>\n",
              "    </tr>\n",
              "    <tr>\n",
              "      <th>392</th>\n",
              "      <td>27.0</td>\n",
              "      <td>90.0</td>\n",
              "      <td>2950.0</td>\n",
              "      <td>82</td>\n",
              "      <td>1</td>\n",
              "    </tr>\n",
              "    <tr>\n",
              "      <th>393</th>\n",
              "      <td>27.0</td>\n",
              "      <td>86.0</td>\n",
              "      <td>2790.0</td>\n",
              "      <td>82</td>\n",
              "      <td>1</td>\n",
              "    </tr>\n",
              "    <tr>\n",
              "      <th>395</th>\n",
              "      <td>32.0</td>\n",
              "      <td>84.0</td>\n",
              "      <td>2295.0</td>\n",
              "      <td>82</td>\n",
              "      <td>1</td>\n",
              "    </tr>\n",
              "    <tr>\n",
              "      <th>396</th>\n",
              "      <td>28.0</td>\n",
              "      <td>79.0</td>\n",
              "      <td>2625.0</td>\n",
              "      <td>82</td>\n",
              "      <td>1</td>\n",
              "    </tr>\n",
              "    <tr>\n",
              "      <th>397</th>\n",
              "      <td>31.0</td>\n",
              "      <td>82.0</td>\n",
              "      <td>2720.0</td>\n",
              "      <td>82</td>\n",
              "      <td>1</td>\n",
              "    </tr>\n",
              "  </tbody>\n",
              "</table>\n",
              "<p>372 rows × 5 columns</p>\n",
              "</div>\n",
              "    <div class=\"colab-df-buttons\">\n",
              "\n",
              "  <div class=\"colab-df-container\">\n",
              "    <button class=\"colab-df-convert\" onclick=\"convertToInteractive('df-b81361e2-ea05-4331-9529-937cac4d88db')\"\n",
              "            title=\"Convert this dataframe to an interactive table.\"\n",
              "            style=\"display:none;\">\n",
              "\n",
              "  <svg xmlns=\"http://www.w3.org/2000/svg\" height=\"24px\" viewBox=\"0 -960 960 960\">\n",
              "    <path d=\"M120-120v-720h720v720H120Zm60-500h600v-160H180v160Zm220 220h160v-160H400v160Zm0 220h160v-160H400v160ZM180-400h160v-160H180v160Zm440 0h160v-160H620v160ZM180-180h160v-160H180v160Zm440 0h160v-160H620v160Z\"/>\n",
              "  </svg>\n",
              "    </button>\n",
              "\n",
              "  <style>\n",
              "    .colab-df-container {\n",
              "      display:flex;\n",
              "      gap: 12px;\n",
              "    }\n",
              "\n",
              "    .colab-df-convert {\n",
              "      background-color: #E8F0FE;\n",
              "      border: none;\n",
              "      border-radius: 50%;\n",
              "      cursor: pointer;\n",
              "      display: none;\n",
              "      fill: #1967D2;\n",
              "      height: 32px;\n",
              "      padding: 0 0 0 0;\n",
              "      width: 32px;\n",
              "    }\n",
              "\n",
              "    .colab-df-convert:hover {\n",
              "      background-color: #E2EBFA;\n",
              "      box-shadow: 0px 1px 2px rgba(60, 64, 67, 0.3), 0px 1px 3px 1px rgba(60, 64, 67, 0.15);\n",
              "      fill: #174EA6;\n",
              "    }\n",
              "\n",
              "    .colab-df-buttons div {\n",
              "      margin-bottom: 4px;\n",
              "    }\n",
              "\n",
              "    [theme=dark] .colab-df-convert {\n",
              "      background-color: #3B4455;\n",
              "      fill: #D2E3FC;\n",
              "    }\n",
              "\n",
              "    [theme=dark] .colab-df-convert:hover {\n",
              "      background-color: #434B5C;\n",
              "      box-shadow: 0px 1px 3px 1px rgba(0, 0, 0, 0.15);\n",
              "      filter: drop-shadow(0px 1px 2px rgba(0, 0, 0, 0.3));\n",
              "      fill: #FFFFFF;\n",
              "    }\n",
              "  </style>\n",
              "\n",
              "    <script>\n",
              "      const buttonEl =\n",
              "        document.querySelector('#df-b81361e2-ea05-4331-9529-937cac4d88db button.colab-df-convert');\n",
              "      buttonEl.style.display =\n",
              "        google.colab.kernel.accessAllowed ? 'block' : 'none';\n",
              "\n",
              "      async function convertToInteractive(key) {\n",
              "        const element = document.querySelector('#df-b81361e2-ea05-4331-9529-937cac4d88db');\n",
              "        const dataTable =\n",
              "          await google.colab.kernel.invokeFunction('convertToInteractive',\n",
              "                                                    [key], {});\n",
              "        if (!dataTable) return;\n",
              "\n",
              "        const docLinkHtml = 'Like what you see? Visit the ' +\n",
              "          '<a target=\"_blank\" href=https://colab.research.google.com/notebooks/data_table.ipynb>data table notebook</a>'\n",
              "          + ' to learn more about interactive tables.';\n",
              "        element.innerHTML = '';\n",
              "        dataTable['output_type'] = 'display_data';\n",
              "        await google.colab.output.renderOutput(dataTable, element);\n",
              "        const docLink = document.createElement('div');\n",
              "        docLink.innerHTML = docLinkHtml;\n",
              "        element.appendChild(docLink);\n",
              "      }\n",
              "    </script>\n",
              "  </div>\n",
              "\n",
              "\n",
              "<div id=\"df-c95d4729-122c-48b0-8216-bee363139e63\">\n",
              "  <button class=\"colab-df-quickchart\" onclick=\"quickchart('df-c95d4729-122c-48b0-8216-bee363139e63')\"\n",
              "            title=\"Suggest charts\"\n",
              "            style=\"display:none;\">\n",
              "\n",
              "<svg xmlns=\"http://www.w3.org/2000/svg\" height=\"24px\"viewBox=\"0 0 24 24\"\n",
              "     width=\"24px\">\n",
              "    <g>\n",
              "        <path d=\"M19 3H5c-1.1 0-2 .9-2 2v14c0 1.1.9 2 2 2h14c1.1 0 2-.9 2-2V5c0-1.1-.9-2-2-2zM9 17H7v-7h2v7zm4 0h-2V7h2v10zm4 0h-2v-4h2v4z\"/>\n",
              "    </g>\n",
              "</svg>\n",
              "  </button>\n",
              "\n",
              "<style>\n",
              "  .colab-df-quickchart {\n",
              "      --bg-color: #E8F0FE;\n",
              "      --fill-color: #1967D2;\n",
              "      --hover-bg-color: #E2EBFA;\n",
              "      --hover-fill-color: #174EA6;\n",
              "      --disabled-fill-color: #AAA;\n",
              "      --disabled-bg-color: #DDD;\n",
              "  }\n",
              "\n",
              "  [theme=dark] .colab-df-quickchart {\n",
              "      --bg-color: #3B4455;\n",
              "      --fill-color: #D2E3FC;\n",
              "      --hover-bg-color: #434B5C;\n",
              "      --hover-fill-color: #FFFFFF;\n",
              "      --disabled-bg-color: #3B4455;\n",
              "      --disabled-fill-color: #666;\n",
              "  }\n",
              "\n",
              "  .colab-df-quickchart {\n",
              "    background-color: var(--bg-color);\n",
              "    border: none;\n",
              "    border-radius: 50%;\n",
              "    cursor: pointer;\n",
              "    display: none;\n",
              "    fill: var(--fill-color);\n",
              "    height: 32px;\n",
              "    padding: 0;\n",
              "    width: 32px;\n",
              "  }\n",
              "\n",
              "  .colab-df-quickchart:hover {\n",
              "    background-color: var(--hover-bg-color);\n",
              "    box-shadow: 0 1px 2px rgba(60, 64, 67, 0.3), 0 1px 3px 1px rgba(60, 64, 67, 0.15);\n",
              "    fill: var(--button-hover-fill-color);\n",
              "  }\n",
              "\n",
              "  .colab-df-quickchart-complete:disabled,\n",
              "  .colab-df-quickchart-complete:disabled:hover {\n",
              "    background-color: var(--disabled-bg-color);\n",
              "    fill: var(--disabled-fill-color);\n",
              "    box-shadow: none;\n",
              "  }\n",
              "\n",
              "  .colab-df-spinner {\n",
              "    border: 2px solid var(--fill-color);\n",
              "    border-color: transparent;\n",
              "    border-bottom-color: var(--fill-color);\n",
              "    animation:\n",
              "      spin 1s steps(1) infinite;\n",
              "  }\n",
              "\n",
              "  @keyframes spin {\n",
              "    0% {\n",
              "      border-color: transparent;\n",
              "      border-bottom-color: var(--fill-color);\n",
              "      border-left-color: var(--fill-color);\n",
              "    }\n",
              "    20% {\n",
              "      border-color: transparent;\n",
              "      border-left-color: var(--fill-color);\n",
              "      border-top-color: var(--fill-color);\n",
              "    }\n",
              "    30% {\n",
              "      border-color: transparent;\n",
              "      border-left-color: var(--fill-color);\n",
              "      border-top-color: var(--fill-color);\n",
              "      border-right-color: var(--fill-color);\n",
              "    }\n",
              "    40% {\n",
              "      border-color: transparent;\n",
              "      border-right-color: var(--fill-color);\n",
              "      border-top-color: var(--fill-color);\n",
              "    }\n",
              "    60% {\n",
              "      border-color: transparent;\n",
              "      border-right-color: var(--fill-color);\n",
              "    }\n",
              "    80% {\n",
              "      border-color: transparent;\n",
              "      border-right-color: var(--fill-color);\n",
              "      border-bottom-color: var(--fill-color);\n",
              "    }\n",
              "    90% {\n",
              "      border-color: transparent;\n",
              "      border-bottom-color: var(--fill-color);\n",
              "    }\n",
              "  }\n",
              "</style>\n",
              "\n",
              "  <script>\n",
              "    async function quickchart(key) {\n",
              "      const quickchartButtonEl =\n",
              "        document.querySelector('#' + key + ' button');\n",
              "      quickchartButtonEl.disabled = true;  // To prevent multiple clicks.\n",
              "      quickchartButtonEl.classList.add('colab-df-spinner');\n",
              "      try {\n",
              "        const charts = await google.colab.kernel.invokeFunction(\n",
              "            'suggestCharts', [key], {});\n",
              "      } catch (error) {\n",
              "        console.error('Error during call to suggestCharts:', error);\n",
              "      }\n",
              "      quickchartButtonEl.classList.remove('colab-df-spinner');\n",
              "      quickchartButtonEl.classList.add('colab-df-quickchart-complete');\n",
              "    }\n",
              "    (() => {\n",
              "      let quickchartButtonEl =\n",
              "        document.querySelector('#df-c95d4729-122c-48b0-8216-bee363139e63 button');\n",
              "      quickchartButtonEl.style.display =\n",
              "        google.colab.kernel.accessAllowed ? 'block' : 'none';\n",
              "    })();\n",
              "  </script>\n",
              "</div>\n",
              "\n",
              "  <div id=\"id_44046d78-c1f6-4ccd-9487-3a9105ffade2\">\n",
              "    <style>\n",
              "      .colab-df-generate {\n",
              "        background-color: #E8F0FE;\n",
              "        border: none;\n",
              "        border-radius: 50%;\n",
              "        cursor: pointer;\n",
              "        display: none;\n",
              "        fill: #1967D2;\n",
              "        height: 32px;\n",
              "        padding: 0 0 0 0;\n",
              "        width: 32px;\n",
              "      }\n",
              "\n",
              "      .colab-df-generate:hover {\n",
              "        background-color: #E2EBFA;\n",
              "        box-shadow: 0px 1px 2px rgba(60, 64, 67, 0.3), 0px 1px 3px 1px rgba(60, 64, 67, 0.15);\n",
              "        fill: #174EA6;\n",
              "      }\n",
              "\n",
              "      [theme=dark] .colab-df-generate {\n",
              "        background-color: #3B4455;\n",
              "        fill: #D2E3FC;\n",
              "      }\n",
              "\n",
              "      [theme=dark] .colab-df-generate:hover {\n",
              "        background-color: #434B5C;\n",
              "        box-shadow: 0px 1px 3px 1px rgba(0, 0, 0, 0.15);\n",
              "        filter: drop-shadow(0px 1px 2px rgba(0, 0, 0, 0.3));\n",
              "        fill: #FFFFFF;\n",
              "      }\n",
              "    </style>\n",
              "    <button class=\"colab-df-generate\" onclick=\"generateWithVariable('df3')\"\n",
              "            title=\"Generate code using this dataframe.\"\n",
              "            style=\"display:none;\">\n",
              "\n",
              "  <svg xmlns=\"http://www.w3.org/2000/svg\" height=\"24px\"viewBox=\"0 0 24 24\"\n",
              "       width=\"24px\">\n",
              "    <path d=\"M7,19H8.4L18.45,9,17,7.55,7,17.6ZM5,21V16.75L18.45,3.32a2,2,0,0,1,2.83,0l1.4,1.43a1.91,1.91,0,0,1,.58,1.4,1.91,1.91,0,0,1-.58,1.4L9.25,21ZM18.45,9,17,7.55Zm-12,3A5.31,5.31,0,0,0,4.9,8.1,5.31,5.31,0,0,0,1,6.5,5.31,5.31,0,0,0,4.9,4.9,5.31,5.31,0,0,0,6.5,1,5.31,5.31,0,0,0,8.1,4.9,5.31,5.31,0,0,0,12,6.5,5.46,5.46,0,0,0,6.5,12Z\"/>\n",
              "  </svg>\n",
              "    </button>\n",
              "    <script>\n",
              "      (() => {\n",
              "      const buttonEl =\n",
              "        document.querySelector('#id_44046d78-c1f6-4ccd-9487-3a9105ffade2 button.colab-df-generate');\n",
              "      buttonEl.style.display =\n",
              "        google.colab.kernel.accessAllowed ? 'block' : 'none';\n",
              "\n",
              "      buttonEl.onclick = () => {\n",
              "        google.colab.notebook.generateWithVariable('df3');\n",
              "      }\n",
              "      })();\n",
              "    </script>\n",
              "  </div>\n",
              "\n",
              "    </div>\n",
              "  </div>\n"
            ],
            "application/vnd.google.colaboratory.intrinsic+json": {
              "type": "dataframe",
              "variable_name": "df3",
              "summary": "{\n  \"name\": \"df3\",\n  \"rows\": 372,\n  \"fields\": [\n    {\n      \"column\": \"mpg\",\n      \"properties\": {\n        \"dtype\": \"number\",\n        \"std\": 7.632496723310284,\n        \"min\": 9.0,\n        \"max\": 46.6,\n        \"num_unique_values\": 125,\n        \"samples\": [\n          30.0,\n          43.1,\n          25.5\n        ],\n        \"semantic_type\": \"\",\n        \"description\": \"\"\n      }\n    },\n    {\n      \"column\": \"horsepower\",\n      \"properties\": {\n        \"dtype\": \"number\",\n        \"std\": 33.66168915222715,\n        \"min\": 46.0,\n        \"max\": 200.0,\n        \"num_unique_values\": 86,\n        \"samples\": [\n          138.0,\n          130.0,\n          66.0\n        ],\n        \"semantic_type\": \"\",\n        \"description\": \"\"\n      }\n    },\n    {\n      \"column\": \"weight\",\n      \"properties\": {\n        \"dtype\": \"number\",\n        \"std\": 829.283502359738,\n        \"min\": 1613.0,\n        \"max\": 5140.0,\n        \"num_unique_values\": 328,\n        \"samples\": [\n          2515.0,\n          2451.0,\n          3605.0\n        ],\n        \"semantic_type\": \"\",\n        \"description\": \"\"\n      }\n    },\n    {\n      \"column\": \"model_year\",\n      \"properties\": {\n        \"dtype\": \"number\",\n        \"std\": 3,\n        \"min\": 70,\n        \"max\": 82,\n        \"num_unique_values\": 13,\n        \"samples\": [\n          81,\n          79,\n          70\n        ],\n        \"semantic_type\": \"\",\n        \"description\": \"\"\n      }\n    },\n    {\n      \"column\": \"origin\",\n      \"properties\": {\n        \"dtype\": \"number\",\n        \"std\": 0,\n        \"min\": 1,\n        \"max\": 3,\n        \"num_unique_values\": 3,\n        \"samples\": [\n          1,\n          3,\n          2\n        ],\n        \"semantic_type\": \"\",\n        \"description\": \"\"\n      }\n    }\n  ]\n}"
            }
          },
          "metadata": {},
          "execution_count": 27
        }
      ]
    },
    {
      "cell_type": "markdown",
      "source": [
        "\n",
        "## Process the dataset after clean data into 2 subsets: 10% & 90%"
      ],
      "metadata": {
        "id": "fzB9UVfQyEeH"
      }
    },
    {
      "cell_type": "code",
      "source": [
        "import pandas as pd\n",
        "\n",
        "data = pd.read_csv('cleaned_data_Num.csv')\n",
        "\n",
        "# Random data shuffling\n",
        "data = data.sample(frac=1, random_state=42).reset_index(drop=True)  # frac=1 to shuffle everything, random_state to reproduce the result\n",
        "\n",
        "# Calculate the number of elements for each subset\n",
        "split_index = int(len(data) * 0.1)  # 10% of total elements\n",
        "\n",
        "# Tạo 2 subset\n",
        "subset_10 = data.iloc[:split_index]  # Top 10%\n",
        "subset_90 = data.iloc[split_index:]  # The remaining 90%\n",
        "\n",
        "print(\"Bộ dữ liệu 10%:\")\n",
        "print(subset_10)\n",
        "print(\"\\n Bộ dữ liệu 90%:\")\n",
        "print(subset_90)\n",
        "\n",
        "# Check number of elements\n",
        "print(\"\\nSố phần tử trong bộ 10%:\", len(subset_10))\n",
        "print(\"Số phần tử trong bộ 90%:\", len(subset_90))\n",
        "\n",
        "subset_10.to_csv('Num10.csv', index=False)\n",
        "subset_90.to_csv('Num90.csv', index=False)\n"
      ],
      "metadata": {
        "colab": {
          "base_uri": "https://localhost:8080/"
        },
        "id": "oixG6xloyPqP",
        "outputId": "4c8cfb5b-8b70-4299-91b0-d6a845ea8548"
      },
      "execution_count": null,
      "outputs": [
        {
          "output_type": "stream",
          "name": "stdout",
          "text": [
            "Bộ dữ liệu 10%:\n",
            "    horsepower  weight  model_year  origin   mpg\n",
            "0           90    2556          79       1  33.5\n",
            "1          153    4129          72       1  14.0\n",
            "2          140    4294          72       1  13.0\n",
            "3           70    2120          80       1  32.1\n",
            "4          130    4295          77       1  15.0\n",
            "5           92    2585          82       1  26.0\n",
            "6          120    3820          76       2  16.5\n",
            "7          100    2634          71       1  19.0\n",
            "8           74    2635          81       3  31.6\n",
            "9           95    3264          75       1  19.0\n",
            "10          67    1963          74       2  26.0\n",
            "11         140    4638          74       1  14.0\n",
            "12          95    3155          78       1  20.5\n",
            "13         145    4440          75       1  15.0\n",
            "14         105    3380          78       1  20.6\n",
            "15          84    2525          82       1  29.0\n",
            "16         193    4732          70       1   9.0\n",
            "17          90    2265          73       2  26.0\n",
            "18          78    2188          80       2  34.3\n",
            "19         112    2933          72       2  18.0\n",
            "20         170    4746          71       1  13.0\n",
            "21          88    2890          79       1  22.3\n",
            "22         150    4190          76       1  16.0\n",
            "23          79    2255          76       1  26.0\n",
            "24          84    2490          81       1  27.2\n",
            "25         110    3365          78       1  19.9\n",
            "26          92    2620          81       1  25.8\n",
            "27          85    2855          78       1  23.8\n",
            "28         100    2420          80       3  23.7\n",
            "29          48    1985          78       2  43.1\n",
            "30         145    4055          76       1  13.0\n",
            "31         105    3459          75       1  18.0\n",
            "32         152    4215          76       1  14.5\n",
            "33          67    1965          82       3  38.0\n",
            "34          68    2155          78       1  30.0\n",
            "35         135    3830          79       1  18.2\n",
            "36         150    3433          70       1  16.0\n",
            "\n",
            "Bộ dữ liệu 90%:\n",
            "     horsepower  weight  model_year  origin   mpg\n",
            "37          150    4699          74       1  13.0\n",
            "38          105    3425          77       1  20.5\n",
            "39          100    3233          76       1  22.0\n",
            "40           83    2202          76       2  27.0\n",
            "41           52    1649          74       3  31.0\n",
            "..          ...     ...         ...     ...   ...\n",
            "367         105    3897          75       1  16.0\n",
            "368          90    2124          73       3  18.0\n",
            "369          90    2670          79       1  28.4\n",
            "370          84    2370          82       1  36.0\n",
            "371         105    3121          73       1  18.0\n",
            "\n",
            "[335 rows x 5 columns]\n",
            "\n",
            "Số phần tử trong bộ 10%: 37\n",
            "Số phần tử trong bộ 90%: 335\n"
          ]
        }
      ]
    },
    {
      "cell_type": "code",
      "source": [],
      "metadata": {
        "id": "tnGxOStwflTG"
      },
      "execution_count": null,
      "outputs": []
    },
    {
      "cell_type": "markdown",
      "source": [
        "Tách bộ data Num90 -> 2 phần: 20% và 80%"
      ],
      "metadata": {
        "id": "wyP-HzuTigLZ"
      }
    },
    {
      "cell_type": "code",
      "source": [
        "import pandas as pd\n",
        "from sklearn.model_selection import train_test_split\n",
        "\n",
        "file_path = 'Num90.csv'\n",
        "data = pd.read_csv(file_path)\n",
        "\n",
        "# Split the data into 20% and 80% of the 90% set\n",
        "data_20_90, data_80_90 = train_test_split(data, test_size=0.8, random_state=42)\n",
        "\n",
        "# Save the data sets to CSV file\n",
        "data_20_90.to_csv('data_20_of_90.csv', index=False)\n",
        "data_80_90.to_csv('data_80_of_90.csv', index=False)\n",
        "\n",
        "print(\"Tách dữ liệu thành công!\")\n",
        "print(f\"Số dòng trong tập 20% của 90%: {len(data_20_90)}\")\n",
        "print(f\"Số dòng trong tập 80% của 90%: {len(data_80_90)}\")\n"
      ],
      "metadata": {
        "colab": {
          "base_uri": "https://localhost:8080/"
        },
        "id": "KqgI8Kx5gArJ",
        "outputId": "0cc4d9c5-b979-4fe9-9f06-ca0871155616"
      },
      "execution_count": null,
      "outputs": [
        {
          "output_type": "stream",
          "name": "stdout",
          "text": [
            "Tách dữ liệu thành công!\n",
            "Số dòng trong tập 20% của 90%: 67\n",
            "Số dòng trong tập 80% của 90%: 268\n"
          ]
        }
      ]
    },
    {
      "cell_type": "code",
      "source": [
        "from scipy.io import arff\n",
        "import pandas as pd\n",
        "\n",
        "# Giả sử df là DataFrame đã làm sạch\n",
        "df = pd.read_csv('.csv')  # Đọc dữ liệu từ CSV (hoặc sử dụng df của bạn)\n",
        "\n",
        "# Lấy tên cột và các giá trị trong DataFrame\n",
        "attributes = [(col, 'Numeric') if df[col].dtype in ['float64', 'int64'] else (col, 'String') for col in df.columns]\n",
        "\n",
        "# Chuyển dữ liệu của DataFrame thành một list\n",
        "data = df.values.tolist()\n",
        "\n",
        "# Ghi dữ liệu vào file ARFF\n",
        "with open('.arff', 'w') as f:\n",
        "    # Định nghĩa header ARFF\n",
        "    f.write('@RELATION auto-mpg\\n')\n",
        "    for attribute in attributes:\n",
        "        f.write(f'@ATTRIBUTE {attribute[0]} {attribute[1]}\\n')\n",
        "\n",
        "    f.write('@DATA\\n')\n",
        "    for row in data:\n",
        "        f.write(','.join(map(str, row)) + '\\n')\n",
        "\n",
        "print(\"ARFF file saved successfully!\")\n"
      ],
      "metadata": {
        "colab": {
          "base_uri": "https://localhost:8080/"
        },
        "id": "nKASk-1Pz4Gg",
        "outputId": "8f23eed8-789b-465f-91cc-4d05e0c7519b"
      },
      "execution_count": null,
      "outputs": [
        {
          "output_type": "stream",
          "name": "stdout",
          "text": [
            "ARFF file saved successfully!\n"
          ]
        }
      ]
    },
    {
      "cell_type": "code",
      "source": [
        "df = pd.read_csv('cleaned_data_Num.csv')  # Đọc dữ liệu từ CSV (hoặc sử dụng df của bạn)\n",
        "\n",
        "df.corr()"
      ],
      "metadata": {
        "colab": {
          "base_uri": "https://localhost:8080/",
          "height": 206
        },
        "id": "74Kq6Av331C6",
        "outputId": "58de7aa5-2bfd-473b-c73c-553c04553fdb"
      },
      "execution_count": null,
      "outputs": [
        {
          "output_type": "execute_result",
          "data": {
            "text/plain": [
              "            horsepower    weight  model_year    origin       mpg\n",
              "horsepower    1.000000  0.882085   -0.354527 -0.464135 -0.791483\n",
              "weight        0.882085  1.000000   -0.268218 -0.586258 -0.832137\n",
              "model_year   -0.354527 -0.268218    1.000000  0.156953  0.552155\n",
              "origin       -0.464135 -0.586258    0.156953  1.000000  0.563733\n",
              "mpg          -0.791483 -0.832137    0.552155  0.563733  1.000000"
            ],
            "text/html": [
              "\n",
              "  <div id=\"df-4a23a96e-6d0b-4d97-ab1c-41ded3c8a67a\" class=\"colab-df-container\">\n",
              "    <div>\n",
              "<style scoped>\n",
              "    .dataframe tbody tr th:only-of-type {\n",
              "        vertical-align: middle;\n",
              "    }\n",
              "\n",
              "    .dataframe tbody tr th {\n",
              "        vertical-align: top;\n",
              "    }\n",
              "\n",
              "    .dataframe thead th {\n",
              "        text-align: right;\n",
              "    }\n",
              "</style>\n",
              "<table border=\"1\" class=\"dataframe\">\n",
              "  <thead>\n",
              "    <tr style=\"text-align: right;\">\n",
              "      <th></th>\n",
              "      <th>horsepower</th>\n",
              "      <th>weight</th>\n",
              "      <th>model_year</th>\n",
              "      <th>origin</th>\n",
              "      <th>mpg</th>\n",
              "    </tr>\n",
              "  </thead>\n",
              "  <tbody>\n",
              "    <tr>\n",
              "      <th>horsepower</th>\n",
              "      <td>1.000000</td>\n",
              "      <td>0.882085</td>\n",
              "      <td>-0.354527</td>\n",
              "      <td>-0.464135</td>\n",
              "      <td>-0.791483</td>\n",
              "    </tr>\n",
              "    <tr>\n",
              "      <th>weight</th>\n",
              "      <td>0.882085</td>\n",
              "      <td>1.000000</td>\n",
              "      <td>-0.268218</td>\n",
              "      <td>-0.586258</td>\n",
              "      <td>-0.832137</td>\n",
              "    </tr>\n",
              "    <tr>\n",
              "      <th>model_year</th>\n",
              "      <td>-0.354527</td>\n",
              "      <td>-0.268218</td>\n",
              "      <td>1.000000</td>\n",
              "      <td>0.156953</td>\n",
              "      <td>0.552155</td>\n",
              "    </tr>\n",
              "    <tr>\n",
              "      <th>origin</th>\n",
              "      <td>-0.464135</td>\n",
              "      <td>-0.586258</td>\n",
              "      <td>0.156953</td>\n",
              "      <td>1.000000</td>\n",
              "      <td>0.563733</td>\n",
              "    </tr>\n",
              "    <tr>\n",
              "      <th>mpg</th>\n",
              "      <td>-0.791483</td>\n",
              "      <td>-0.832137</td>\n",
              "      <td>0.552155</td>\n",
              "      <td>0.563733</td>\n",
              "      <td>1.000000</td>\n",
              "    </tr>\n",
              "  </tbody>\n",
              "</table>\n",
              "</div>\n",
              "    <div class=\"colab-df-buttons\">\n",
              "\n",
              "  <div class=\"colab-df-container\">\n",
              "    <button class=\"colab-df-convert\" onclick=\"convertToInteractive('df-4a23a96e-6d0b-4d97-ab1c-41ded3c8a67a')\"\n",
              "            title=\"Convert this dataframe to an interactive table.\"\n",
              "            style=\"display:none;\">\n",
              "\n",
              "  <svg xmlns=\"http://www.w3.org/2000/svg\" height=\"24px\" viewBox=\"0 -960 960 960\">\n",
              "    <path d=\"M120-120v-720h720v720H120Zm60-500h600v-160H180v160Zm220 220h160v-160H400v160Zm0 220h160v-160H400v160ZM180-400h160v-160H180v160Zm440 0h160v-160H620v160ZM180-180h160v-160H180v160Zm440 0h160v-160H620v160Z\"/>\n",
              "  </svg>\n",
              "    </button>\n",
              "\n",
              "  <style>\n",
              "    .colab-df-container {\n",
              "      display:flex;\n",
              "      gap: 12px;\n",
              "    }\n",
              "\n",
              "    .colab-df-convert {\n",
              "      background-color: #E8F0FE;\n",
              "      border: none;\n",
              "      border-radius: 50%;\n",
              "      cursor: pointer;\n",
              "      display: none;\n",
              "      fill: #1967D2;\n",
              "      height: 32px;\n",
              "      padding: 0 0 0 0;\n",
              "      width: 32px;\n",
              "    }\n",
              "\n",
              "    .colab-df-convert:hover {\n",
              "      background-color: #E2EBFA;\n",
              "      box-shadow: 0px 1px 2px rgba(60, 64, 67, 0.3), 0px 1px 3px 1px rgba(60, 64, 67, 0.15);\n",
              "      fill: #174EA6;\n",
              "    }\n",
              "\n",
              "    .colab-df-buttons div {\n",
              "      margin-bottom: 4px;\n",
              "    }\n",
              "\n",
              "    [theme=dark] .colab-df-convert {\n",
              "      background-color: #3B4455;\n",
              "      fill: #D2E3FC;\n",
              "    }\n",
              "\n",
              "    [theme=dark] .colab-df-convert:hover {\n",
              "      background-color: #434B5C;\n",
              "      box-shadow: 0px 1px 3px 1px rgba(0, 0, 0, 0.15);\n",
              "      filter: drop-shadow(0px 1px 2px rgba(0, 0, 0, 0.3));\n",
              "      fill: #FFFFFF;\n",
              "    }\n",
              "  </style>\n",
              "\n",
              "    <script>\n",
              "      const buttonEl =\n",
              "        document.querySelector('#df-4a23a96e-6d0b-4d97-ab1c-41ded3c8a67a button.colab-df-convert');\n",
              "      buttonEl.style.display =\n",
              "        google.colab.kernel.accessAllowed ? 'block' : 'none';\n",
              "\n",
              "      async function convertToInteractive(key) {\n",
              "        const element = document.querySelector('#df-4a23a96e-6d0b-4d97-ab1c-41ded3c8a67a');\n",
              "        const dataTable =\n",
              "          await google.colab.kernel.invokeFunction('convertToInteractive',\n",
              "                                                    [key], {});\n",
              "        if (!dataTable) return;\n",
              "\n",
              "        const docLinkHtml = 'Like what you see? Visit the ' +\n",
              "          '<a target=\"_blank\" href=https://colab.research.google.com/notebooks/data_table.ipynb>data table notebook</a>'\n",
              "          + ' to learn more about interactive tables.';\n",
              "        element.innerHTML = '';\n",
              "        dataTable['output_type'] = 'display_data';\n",
              "        await google.colab.output.renderOutput(dataTable, element);\n",
              "        const docLink = document.createElement('div');\n",
              "        docLink.innerHTML = docLinkHtml;\n",
              "        element.appendChild(docLink);\n",
              "      }\n",
              "    </script>\n",
              "  </div>\n",
              "\n",
              "\n",
              "<div id=\"df-e726cbd1-63d3-4b82-9509-49174289cdf4\">\n",
              "  <button class=\"colab-df-quickchart\" onclick=\"quickchart('df-e726cbd1-63d3-4b82-9509-49174289cdf4')\"\n",
              "            title=\"Suggest charts\"\n",
              "            style=\"display:none;\">\n",
              "\n",
              "<svg xmlns=\"http://www.w3.org/2000/svg\" height=\"24px\"viewBox=\"0 0 24 24\"\n",
              "     width=\"24px\">\n",
              "    <g>\n",
              "        <path d=\"M19 3H5c-1.1 0-2 .9-2 2v14c0 1.1.9 2 2 2h14c1.1 0 2-.9 2-2V5c0-1.1-.9-2-2-2zM9 17H7v-7h2v7zm4 0h-2V7h2v10zm4 0h-2v-4h2v4z\"/>\n",
              "    </g>\n",
              "</svg>\n",
              "  </button>\n",
              "\n",
              "<style>\n",
              "  .colab-df-quickchart {\n",
              "      --bg-color: #E8F0FE;\n",
              "      --fill-color: #1967D2;\n",
              "      --hover-bg-color: #E2EBFA;\n",
              "      --hover-fill-color: #174EA6;\n",
              "      --disabled-fill-color: #AAA;\n",
              "      --disabled-bg-color: #DDD;\n",
              "  }\n",
              "\n",
              "  [theme=dark] .colab-df-quickchart {\n",
              "      --bg-color: #3B4455;\n",
              "      --fill-color: #D2E3FC;\n",
              "      --hover-bg-color: #434B5C;\n",
              "      --hover-fill-color: #FFFFFF;\n",
              "      --disabled-bg-color: #3B4455;\n",
              "      --disabled-fill-color: #666;\n",
              "  }\n",
              "\n",
              "  .colab-df-quickchart {\n",
              "    background-color: var(--bg-color);\n",
              "    border: none;\n",
              "    border-radius: 50%;\n",
              "    cursor: pointer;\n",
              "    display: none;\n",
              "    fill: var(--fill-color);\n",
              "    height: 32px;\n",
              "    padding: 0;\n",
              "    width: 32px;\n",
              "  }\n",
              "\n",
              "  .colab-df-quickchart:hover {\n",
              "    background-color: var(--hover-bg-color);\n",
              "    box-shadow: 0 1px 2px rgba(60, 64, 67, 0.3), 0 1px 3px 1px rgba(60, 64, 67, 0.15);\n",
              "    fill: var(--button-hover-fill-color);\n",
              "  }\n",
              "\n",
              "  .colab-df-quickchart-complete:disabled,\n",
              "  .colab-df-quickchart-complete:disabled:hover {\n",
              "    background-color: var(--disabled-bg-color);\n",
              "    fill: var(--disabled-fill-color);\n",
              "    box-shadow: none;\n",
              "  }\n",
              "\n",
              "  .colab-df-spinner {\n",
              "    border: 2px solid var(--fill-color);\n",
              "    border-color: transparent;\n",
              "    border-bottom-color: var(--fill-color);\n",
              "    animation:\n",
              "      spin 1s steps(1) infinite;\n",
              "  }\n",
              "\n",
              "  @keyframes spin {\n",
              "    0% {\n",
              "      border-color: transparent;\n",
              "      border-bottom-color: var(--fill-color);\n",
              "      border-left-color: var(--fill-color);\n",
              "    }\n",
              "    20% {\n",
              "      border-color: transparent;\n",
              "      border-left-color: var(--fill-color);\n",
              "      border-top-color: var(--fill-color);\n",
              "    }\n",
              "    30% {\n",
              "      border-color: transparent;\n",
              "      border-left-color: var(--fill-color);\n",
              "      border-top-color: var(--fill-color);\n",
              "      border-right-color: var(--fill-color);\n",
              "    }\n",
              "    40% {\n",
              "      border-color: transparent;\n",
              "      border-right-color: var(--fill-color);\n",
              "      border-top-color: var(--fill-color);\n",
              "    }\n",
              "    60% {\n",
              "      border-color: transparent;\n",
              "      border-right-color: var(--fill-color);\n",
              "    }\n",
              "    80% {\n",
              "      border-color: transparent;\n",
              "      border-right-color: var(--fill-color);\n",
              "      border-bottom-color: var(--fill-color);\n",
              "    }\n",
              "    90% {\n",
              "      border-color: transparent;\n",
              "      border-bottom-color: var(--fill-color);\n",
              "    }\n",
              "  }\n",
              "</style>\n",
              "\n",
              "  <script>\n",
              "    async function quickchart(key) {\n",
              "      const quickchartButtonEl =\n",
              "        document.querySelector('#' + key + ' button');\n",
              "      quickchartButtonEl.disabled = true;  // To prevent multiple clicks.\n",
              "      quickchartButtonEl.classList.add('colab-df-spinner');\n",
              "      try {\n",
              "        const charts = await google.colab.kernel.invokeFunction(\n",
              "            'suggestCharts', [key], {});\n",
              "      } catch (error) {\n",
              "        console.error('Error during call to suggestCharts:', error);\n",
              "      }\n",
              "      quickchartButtonEl.classList.remove('colab-df-spinner');\n",
              "      quickchartButtonEl.classList.add('colab-df-quickchart-complete');\n",
              "    }\n",
              "    (() => {\n",
              "      let quickchartButtonEl =\n",
              "        document.querySelector('#df-e726cbd1-63d3-4b82-9509-49174289cdf4 button');\n",
              "      quickchartButtonEl.style.display =\n",
              "        google.colab.kernel.accessAllowed ? 'block' : 'none';\n",
              "    })();\n",
              "  </script>\n",
              "</div>\n",
              "\n",
              "    </div>\n",
              "  </div>\n"
            ],
            "application/vnd.google.colaboratory.intrinsic+json": {
              "type": "dataframe",
              "summary": "{\n  \"name\": \"df\",\n  \"rows\": 5,\n  \"fields\": [\n    {\n      \"column\": \"horsepower\",\n      \"properties\": {\n        \"dtype\": \"number\",\n        \"std\": 0.8262625364810652,\n        \"min\": -0.7914828780511686,\n        \"max\": 1.0,\n        \"num_unique_values\": 5,\n        \"samples\": [\n          0.8820847401894348,\n          -0.7914828780511686,\n          -0.3545273459835139\n        ],\n        \"semantic_type\": \"\",\n        \"description\": \"\"\n      }\n    },\n    {\n      \"column\": \"weight\",\n      \"properties\": {\n        \"dtype\": \"number\",\n        \"std\": 0.8483104748729132,\n        \"min\": -0.8321368493928379,\n        \"max\": 1.0,\n        \"num_unique_values\": 5,\n        \"samples\": [\n          1.0,\n          -0.8321368493928379,\n          -0.2682184658187421\n        ],\n        \"semantic_type\": \"\",\n        \"description\": \"\"\n      }\n    },\n    {\n      \"column\": \"model_year\",\n      \"properties\": {\n        \"dtype\": \"number\",\n        \"std\": 0.568133643625478,\n        \"min\": -0.3545273459835139,\n        \"max\": 1.0,\n        \"num_unique_values\": 5,\n        \"samples\": [\n          -0.2682184658187421,\n          0.5521545850476032,\n          1.0\n        ],\n        \"semantic_type\": \"\",\n        \"description\": \"\"\n      }\n    },\n    {\n      \"column\": \"origin\",\n      \"properties\": {\n        \"dtype\": \"number\",\n        \"std\": 0.6729950953265567,\n        \"min\": -0.5862577199580722,\n        \"max\": 1.0,\n        \"num_unique_values\": 5,\n        \"samples\": [\n          -0.5862577199580722,\n          0.5637329240543609,\n          0.1569528831550324\n        ],\n        \"semantic_type\": \"\",\n        \"description\": \"\"\n      }\n    },\n    {\n      \"column\": \"mpg\",\n      \"properties\": {\n        \"dtype\": \"number\",\n        \"std\": 0.8504558871637438,\n        \"min\": -0.8321368493928379,\n        \"max\": 1.0,\n        \"num_unique_values\": 5,\n        \"samples\": [\n          -0.8321368493928379,\n          1.0,\n          0.5521545850476032\n        ],\n        \"semantic_type\": \"\",\n        \"description\": \"\"\n      }\n    }\n  ]\n}"
            }
          },
          "metadata": {},
          "execution_count": 2
        }
      ]
    },
    {
      "cell_type": "markdown",
      "source": [
        "## Data Analysis\n",
        "\n",
        "\n",
        "\n",
        "*   Histogram Distribution\n",
        "*   Boxplot Distribution\n",
        "\n"
      ],
      "metadata": {
        "id": "SFaFTRKYQI3J"
      }
    },
    {
      "cell_type": "code",
      "source": [
        "import numpy as np\n",
        "import pandas as pd\n",
        "\n",
        "df = pd.read_csv('cleaned_data_Num.csv')\n",
        "df"
      ],
      "metadata": {
        "id": "MHYvqn3oh1MC",
        "colab": {
          "base_uri": "https://localhost:8080/",
          "height": 424
        },
        "outputId": "966684d3-695a-4915-c512-cfc4b1e55722"
      },
      "execution_count": null,
      "outputs": [
        {
          "output_type": "execute_result",
          "data": {
            "text/plain": [
              "     horsepower  weight  model_year  origin   mpg\n",
              "0           193    4732          70       1   9.0\n",
              "1           200    4376          70       1  10.0\n",
              "2           150    4997          73       1  11.0\n",
              "3           180    3664          73       1  11.0\n",
              "4           180    4955          71       1  12.0\n",
              "..          ...     ...         ...     ...   ...\n",
              "367          76    2144          80       2  41.5\n",
              "368          48    1985          78       2  43.1\n",
              "369          48    2085          80       2  44.3\n",
              "370          67    1850          80       3  44.6\n",
              "371          65    2110          80       3  46.6\n",
              "\n",
              "[372 rows x 5 columns]"
            ],
            "text/html": [
              "\n",
              "  <div id=\"df-2c38dedf-1bd8-4ee7-9f8a-d10620e01475\" class=\"colab-df-container\">\n",
              "    <div>\n",
              "<style scoped>\n",
              "    .dataframe tbody tr th:only-of-type {\n",
              "        vertical-align: middle;\n",
              "    }\n",
              "\n",
              "    .dataframe tbody tr th {\n",
              "        vertical-align: top;\n",
              "    }\n",
              "\n",
              "    .dataframe thead th {\n",
              "        text-align: right;\n",
              "    }\n",
              "</style>\n",
              "<table border=\"1\" class=\"dataframe\">\n",
              "  <thead>\n",
              "    <tr style=\"text-align: right;\">\n",
              "      <th></th>\n",
              "      <th>horsepower</th>\n",
              "      <th>weight</th>\n",
              "      <th>model_year</th>\n",
              "      <th>origin</th>\n",
              "      <th>mpg</th>\n",
              "    </tr>\n",
              "  </thead>\n",
              "  <tbody>\n",
              "    <tr>\n",
              "      <th>0</th>\n",
              "      <td>193</td>\n",
              "      <td>4732</td>\n",
              "      <td>70</td>\n",
              "      <td>1</td>\n",
              "      <td>9.0</td>\n",
              "    </tr>\n",
              "    <tr>\n",
              "      <th>1</th>\n",
              "      <td>200</td>\n",
              "      <td>4376</td>\n",
              "      <td>70</td>\n",
              "      <td>1</td>\n",
              "      <td>10.0</td>\n",
              "    </tr>\n",
              "    <tr>\n",
              "      <th>2</th>\n",
              "      <td>150</td>\n",
              "      <td>4997</td>\n",
              "      <td>73</td>\n",
              "      <td>1</td>\n",
              "      <td>11.0</td>\n",
              "    </tr>\n",
              "    <tr>\n",
              "      <th>3</th>\n",
              "      <td>180</td>\n",
              "      <td>3664</td>\n",
              "      <td>73</td>\n",
              "      <td>1</td>\n",
              "      <td>11.0</td>\n",
              "    </tr>\n",
              "    <tr>\n",
              "      <th>4</th>\n",
              "      <td>180</td>\n",
              "      <td>4955</td>\n",
              "      <td>71</td>\n",
              "      <td>1</td>\n",
              "      <td>12.0</td>\n",
              "    </tr>\n",
              "    <tr>\n",
              "      <th>...</th>\n",
              "      <td>...</td>\n",
              "      <td>...</td>\n",
              "      <td>...</td>\n",
              "      <td>...</td>\n",
              "      <td>...</td>\n",
              "    </tr>\n",
              "    <tr>\n",
              "      <th>367</th>\n",
              "      <td>76</td>\n",
              "      <td>2144</td>\n",
              "      <td>80</td>\n",
              "      <td>2</td>\n",
              "      <td>41.5</td>\n",
              "    </tr>\n",
              "    <tr>\n",
              "      <th>368</th>\n",
              "      <td>48</td>\n",
              "      <td>1985</td>\n",
              "      <td>78</td>\n",
              "      <td>2</td>\n",
              "      <td>43.1</td>\n",
              "    </tr>\n",
              "    <tr>\n",
              "      <th>369</th>\n",
              "      <td>48</td>\n",
              "      <td>2085</td>\n",
              "      <td>80</td>\n",
              "      <td>2</td>\n",
              "      <td>44.3</td>\n",
              "    </tr>\n",
              "    <tr>\n",
              "      <th>370</th>\n",
              "      <td>67</td>\n",
              "      <td>1850</td>\n",
              "      <td>80</td>\n",
              "      <td>3</td>\n",
              "      <td>44.6</td>\n",
              "    </tr>\n",
              "    <tr>\n",
              "      <th>371</th>\n",
              "      <td>65</td>\n",
              "      <td>2110</td>\n",
              "      <td>80</td>\n",
              "      <td>3</td>\n",
              "      <td>46.6</td>\n",
              "    </tr>\n",
              "  </tbody>\n",
              "</table>\n",
              "<p>372 rows × 5 columns</p>\n",
              "</div>\n",
              "    <div class=\"colab-df-buttons\">\n",
              "\n",
              "  <div class=\"colab-df-container\">\n",
              "    <button class=\"colab-df-convert\" onclick=\"convertToInteractive('df-2c38dedf-1bd8-4ee7-9f8a-d10620e01475')\"\n",
              "            title=\"Convert this dataframe to an interactive table.\"\n",
              "            style=\"display:none;\">\n",
              "\n",
              "  <svg xmlns=\"http://www.w3.org/2000/svg\" height=\"24px\" viewBox=\"0 -960 960 960\">\n",
              "    <path d=\"M120-120v-720h720v720H120Zm60-500h600v-160H180v160Zm220 220h160v-160H400v160Zm0 220h160v-160H400v160ZM180-400h160v-160H180v160Zm440 0h160v-160H620v160ZM180-180h160v-160H180v160Zm440 0h160v-160H620v160Z\"/>\n",
              "  </svg>\n",
              "    </button>\n",
              "\n",
              "  <style>\n",
              "    .colab-df-container {\n",
              "      display:flex;\n",
              "      gap: 12px;\n",
              "    }\n",
              "\n",
              "    .colab-df-convert {\n",
              "      background-color: #E8F0FE;\n",
              "      border: none;\n",
              "      border-radius: 50%;\n",
              "      cursor: pointer;\n",
              "      display: none;\n",
              "      fill: #1967D2;\n",
              "      height: 32px;\n",
              "      padding: 0 0 0 0;\n",
              "      width: 32px;\n",
              "    }\n",
              "\n",
              "    .colab-df-convert:hover {\n",
              "      background-color: #E2EBFA;\n",
              "      box-shadow: 0px 1px 2px rgba(60, 64, 67, 0.3), 0px 1px 3px 1px rgba(60, 64, 67, 0.15);\n",
              "      fill: #174EA6;\n",
              "    }\n",
              "\n",
              "    .colab-df-buttons div {\n",
              "      margin-bottom: 4px;\n",
              "    }\n",
              "\n",
              "    [theme=dark] .colab-df-convert {\n",
              "      background-color: #3B4455;\n",
              "      fill: #D2E3FC;\n",
              "    }\n",
              "\n",
              "    [theme=dark] .colab-df-convert:hover {\n",
              "      background-color: #434B5C;\n",
              "      box-shadow: 0px 1px 3px 1px rgba(0, 0, 0, 0.15);\n",
              "      filter: drop-shadow(0px 1px 2px rgba(0, 0, 0, 0.3));\n",
              "      fill: #FFFFFF;\n",
              "    }\n",
              "  </style>\n",
              "\n",
              "    <script>\n",
              "      const buttonEl =\n",
              "        document.querySelector('#df-2c38dedf-1bd8-4ee7-9f8a-d10620e01475 button.colab-df-convert');\n",
              "      buttonEl.style.display =\n",
              "        google.colab.kernel.accessAllowed ? 'block' : 'none';\n",
              "\n",
              "      async function convertToInteractive(key) {\n",
              "        const element = document.querySelector('#df-2c38dedf-1bd8-4ee7-9f8a-d10620e01475');\n",
              "        const dataTable =\n",
              "          await google.colab.kernel.invokeFunction('convertToInteractive',\n",
              "                                                    [key], {});\n",
              "        if (!dataTable) return;\n",
              "\n",
              "        const docLinkHtml = 'Like what you see? Visit the ' +\n",
              "          '<a target=\"_blank\" href=https://colab.research.google.com/notebooks/data_table.ipynb>data table notebook</a>'\n",
              "          + ' to learn more about interactive tables.';\n",
              "        element.innerHTML = '';\n",
              "        dataTable['output_type'] = 'display_data';\n",
              "        await google.colab.output.renderOutput(dataTable, element);\n",
              "        const docLink = document.createElement('div');\n",
              "        docLink.innerHTML = docLinkHtml;\n",
              "        element.appendChild(docLink);\n",
              "      }\n",
              "    </script>\n",
              "  </div>\n",
              "\n",
              "\n",
              "<div id=\"df-07eb4f80-dfaa-492c-b114-6239ad12006a\">\n",
              "  <button class=\"colab-df-quickchart\" onclick=\"quickchart('df-07eb4f80-dfaa-492c-b114-6239ad12006a')\"\n",
              "            title=\"Suggest charts\"\n",
              "            style=\"display:none;\">\n",
              "\n",
              "<svg xmlns=\"http://www.w3.org/2000/svg\" height=\"24px\"viewBox=\"0 0 24 24\"\n",
              "     width=\"24px\">\n",
              "    <g>\n",
              "        <path d=\"M19 3H5c-1.1 0-2 .9-2 2v14c0 1.1.9 2 2 2h14c1.1 0 2-.9 2-2V5c0-1.1-.9-2-2-2zM9 17H7v-7h2v7zm4 0h-2V7h2v10zm4 0h-2v-4h2v4z\"/>\n",
              "    </g>\n",
              "</svg>\n",
              "  </button>\n",
              "\n",
              "<style>\n",
              "  .colab-df-quickchart {\n",
              "      --bg-color: #E8F0FE;\n",
              "      --fill-color: #1967D2;\n",
              "      --hover-bg-color: #E2EBFA;\n",
              "      --hover-fill-color: #174EA6;\n",
              "      --disabled-fill-color: #AAA;\n",
              "      --disabled-bg-color: #DDD;\n",
              "  }\n",
              "\n",
              "  [theme=dark] .colab-df-quickchart {\n",
              "      --bg-color: #3B4455;\n",
              "      --fill-color: #D2E3FC;\n",
              "      --hover-bg-color: #434B5C;\n",
              "      --hover-fill-color: #FFFFFF;\n",
              "      --disabled-bg-color: #3B4455;\n",
              "      --disabled-fill-color: #666;\n",
              "  }\n",
              "\n",
              "  .colab-df-quickchart {\n",
              "    background-color: var(--bg-color);\n",
              "    border: none;\n",
              "    border-radius: 50%;\n",
              "    cursor: pointer;\n",
              "    display: none;\n",
              "    fill: var(--fill-color);\n",
              "    height: 32px;\n",
              "    padding: 0;\n",
              "    width: 32px;\n",
              "  }\n",
              "\n",
              "  .colab-df-quickchart:hover {\n",
              "    background-color: var(--hover-bg-color);\n",
              "    box-shadow: 0 1px 2px rgba(60, 64, 67, 0.3), 0 1px 3px 1px rgba(60, 64, 67, 0.15);\n",
              "    fill: var(--button-hover-fill-color);\n",
              "  }\n",
              "\n",
              "  .colab-df-quickchart-complete:disabled,\n",
              "  .colab-df-quickchart-complete:disabled:hover {\n",
              "    background-color: var(--disabled-bg-color);\n",
              "    fill: var(--disabled-fill-color);\n",
              "    box-shadow: none;\n",
              "  }\n",
              "\n",
              "  .colab-df-spinner {\n",
              "    border: 2px solid var(--fill-color);\n",
              "    border-color: transparent;\n",
              "    border-bottom-color: var(--fill-color);\n",
              "    animation:\n",
              "      spin 1s steps(1) infinite;\n",
              "  }\n",
              "\n",
              "  @keyframes spin {\n",
              "    0% {\n",
              "      border-color: transparent;\n",
              "      border-bottom-color: var(--fill-color);\n",
              "      border-left-color: var(--fill-color);\n",
              "    }\n",
              "    20% {\n",
              "      border-color: transparent;\n",
              "      border-left-color: var(--fill-color);\n",
              "      border-top-color: var(--fill-color);\n",
              "    }\n",
              "    30% {\n",
              "      border-color: transparent;\n",
              "      border-left-color: var(--fill-color);\n",
              "      border-top-color: var(--fill-color);\n",
              "      border-right-color: var(--fill-color);\n",
              "    }\n",
              "    40% {\n",
              "      border-color: transparent;\n",
              "      border-right-color: var(--fill-color);\n",
              "      border-top-color: var(--fill-color);\n",
              "    }\n",
              "    60% {\n",
              "      border-color: transparent;\n",
              "      border-right-color: var(--fill-color);\n",
              "    }\n",
              "    80% {\n",
              "      border-color: transparent;\n",
              "      border-right-color: var(--fill-color);\n",
              "      border-bottom-color: var(--fill-color);\n",
              "    }\n",
              "    90% {\n",
              "      border-color: transparent;\n",
              "      border-bottom-color: var(--fill-color);\n",
              "    }\n",
              "  }\n",
              "</style>\n",
              "\n",
              "  <script>\n",
              "    async function quickchart(key) {\n",
              "      const quickchartButtonEl =\n",
              "        document.querySelector('#' + key + ' button');\n",
              "      quickchartButtonEl.disabled = true;  // To prevent multiple clicks.\n",
              "      quickchartButtonEl.classList.add('colab-df-spinner');\n",
              "      try {\n",
              "        const charts = await google.colab.kernel.invokeFunction(\n",
              "            'suggestCharts', [key], {});\n",
              "      } catch (error) {\n",
              "        console.error('Error during call to suggestCharts:', error);\n",
              "      }\n",
              "      quickchartButtonEl.classList.remove('colab-df-spinner');\n",
              "      quickchartButtonEl.classList.add('colab-df-quickchart-complete');\n",
              "    }\n",
              "    (() => {\n",
              "      let quickchartButtonEl =\n",
              "        document.querySelector('#df-07eb4f80-dfaa-492c-b114-6239ad12006a button');\n",
              "      quickchartButtonEl.style.display =\n",
              "        google.colab.kernel.accessAllowed ? 'block' : 'none';\n",
              "    })();\n",
              "  </script>\n",
              "</div>\n",
              "\n",
              "  <div id=\"id_efe97d31-dd7a-4a45-a2d4-5bb9b40c0167\">\n",
              "    <style>\n",
              "      .colab-df-generate {\n",
              "        background-color: #E8F0FE;\n",
              "        border: none;\n",
              "        border-radius: 50%;\n",
              "        cursor: pointer;\n",
              "        display: none;\n",
              "        fill: #1967D2;\n",
              "        height: 32px;\n",
              "        padding: 0 0 0 0;\n",
              "        width: 32px;\n",
              "      }\n",
              "\n",
              "      .colab-df-generate:hover {\n",
              "        background-color: #E2EBFA;\n",
              "        box-shadow: 0px 1px 2px rgba(60, 64, 67, 0.3), 0px 1px 3px 1px rgba(60, 64, 67, 0.15);\n",
              "        fill: #174EA6;\n",
              "      }\n",
              "\n",
              "      [theme=dark] .colab-df-generate {\n",
              "        background-color: #3B4455;\n",
              "        fill: #D2E3FC;\n",
              "      }\n",
              "\n",
              "      [theme=dark] .colab-df-generate:hover {\n",
              "        background-color: #434B5C;\n",
              "        box-shadow: 0px 1px 3px 1px rgba(0, 0, 0, 0.15);\n",
              "        filter: drop-shadow(0px 1px 2px rgba(0, 0, 0, 0.3));\n",
              "        fill: #FFFFFF;\n",
              "      }\n",
              "    </style>\n",
              "    <button class=\"colab-df-generate\" onclick=\"generateWithVariable('df')\"\n",
              "            title=\"Generate code using this dataframe.\"\n",
              "            style=\"display:none;\">\n",
              "\n",
              "  <svg xmlns=\"http://www.w3.org/2000/svg\" height=\"24px\"viewBox=\"0 0 24 24\"\n",
              "       width=\"24px\">\n",
              "    <path d=\"M7,19H8.4L18.45,9,17,7.55,7,17.6ZM5,21V16.75L18.45,3.32a2,2,0,0,1,2.83,0l1.4,1.43a1.91,1.91,0,0,1,.58,1.4,1.91,1.91,0,0,1-.58,1.4L9.25,21ZM18.45,9,17,7.55Zm-12,3A5.31,5.31,0,0,0,4.9,8.1,5.31,5.31,0,0,0,1,6.5,5.31,5.31,0,0,0,4.9,4.9,5.31,5.31,0,0,0,6.5,1,5.31,5.31,0,0,0,8.1,4.9,5.31,5.31,0,0,0,12,6.5,5.46,5.46,0,0,0,6.5,12Z\"/>\n",
              "  </svg>\n",
              "    </button>\n",
              "    <script>\n",
              "      (() => {\n",
              "      const buttonEl =\n",
              "        document.querySelector('#id_efe97d31-dd7a-4a45-a2d4-5bb9b40c0167 button.colab-df-generate');\n",
              "      buttonEl.style.display =\n",
              "        google.colab.kernel.accessAllowed ? 'block' : 'none';\n",
              "\n",
              "      buttonEl.onclick = () => {\n",
              "        google.colab.notebook.generateWithVariable('df');\n",
              "      }\n",
              "      })();\n",
              "    </script>\n",
              "  </div>\n",
              "\n",
              "    </div>\n",
              "  </div>\n"
            ],
            "application/vnd.google.colaboratory.intrinsic+json": {
              "type": "dataframe",
              "variable_name": "df",
              "summary": "{\n  \"name\": \"df\",\n  \"rows\": 372,\n  \"fields\": [\n    {\n      \"column\": \"horsepower\",\n      \"properties\": {\n        \"dtype\": \"number\",\n        \"std\": 33,\n        \"min\": 46,\n        \"max\": 200,\n        \"num_unique_values\": 86,\n        \"samples\": [\n          63,\n          193,\n          60\n        ],\n        \"semantic_type\": \"\",\n        \"description\": \"\"\n      }\n    },\n    {\n      \"column\": \"weight\",\n      \"properties\": {\n        \"dtype\": \"number\",\n        \"std\": 829,\n        \"min\": 1613,\n        \"max\": 5140,\n        \"num_unique_values\": 328,\n        \"samples\": [\n          1834,\n          3830,\n          2605\n        ],\n        \"semantic_type\": \"\",\n        \"description\": \"\"\n      }\n    },\n    {\n      \"column\": \"model_year\",\n      \"properties\": {\n        \"dtype\": \"number\",\n        \"std\": 3,\n        \"min\": 70,\n        \"max\": 82,\n        \"num_unique_values\": 13,\n        \"samples\": [\n          80,\n          78,\n          70\n        ],\n        \"semantic_type\": \"\",\n        \"description\": \"\"\n      }\n    },\n    {\n      \"column\": \"origin\",\n      \"properties\": {\n        \"dtype\": \"number\",\n        \"std\": 0,\n        \"min\": 1,\n        \"max\": 3,\n        \"num_unique_values\": 3,\n        \"samples\": [\n          1,\n          2,\n          3\n        ],\n        \"semantic_type\": \"\",\n        \"description\": \"\"\n      }\n    },\n    {\n      \"column\": \"mpg\",\n      \"properties\": {\n        \"dtype\": \"number\",\n        \"std\": 7.632496723310284,\n        \"min\": 9.0,\n        \"max\": 46.6,\n        \"num_unique_values\": 125,\n        \"samples\": [\n          18.1,\n          23.0,\n          21.5\n        ],\n        \"semantic_type\": \"\",\n        \"description\": \"\"\n      }\n    }\n  ]\n}"
            }
          },
          "metadata": {},
          "execution_count": 32
        }
      ]
    },
    {
      "cell_type": "code",
      "source": [
        "import matplotlib.pyplot as plt\n",
        "\n",
        "plt.hist(df['mpg'], bins=10, color=\"paleturquoise\", edgecolor=\"black\", label=\"Frequency\")\n",
        "\n",
        "plt.xlabel(\"mpg\")\n",
        "plt.ylabel(\"Frequency\")\n",
        "plt.title(\"Histogram of mpg\")\n",
        "plt.ylim(0, 100)\n",
        "plt.legend()\n",
        "plt.show()"
      ],
      "metadata": {
        "id": "hONfI7N1kgvM",
        "colab": {
          "base_uri": "https://localhost:8080/",
          "height": 472
        },
        "outputId": "4a42881f-a81d-437d-b874-a3ea6f42773d"
      },
      "execution_count": null,
      "outputs": [
        {
          "output_type": "display_data",
          "data": {
            "text/plain": [
              "<Figure size 640x480 with 1 Axes>"
            ],
            "image/png": "[encoded data removed]"
          },
          "metadata": {}
        }
      ]
    },
    {
      "cell_type": "code",
      "source": [
        "import seaborn as sns\n",
        "import matplotlib.pyplot as plt\n",
        "import pandas as pd\n",
        "\n",
        "palette = sns.color_palette([\"lightcoral\", \"lightgreen\", \"lightblue\", \"paleturquoise\", \"plum\"])\n",
        "sns.boxplot(x=\"model_year\", y=\"mpg\", data=df, palette=palette)\n",
        "plt.xlabel(\"Model Year\")\n",
        "plt.ylabel(\"MPG\")\n",
        "plt.title(\"Boxplot of MPG for Model Year\")\n",
        "plt.show()"
      ],
      "metadata": {
        "colab": {
          "base_uri": "https://localhost:8080/",
          "height": 631
        },
        "id": "0zMLDaCBZw2_",
        "outputId": "e4b86aba-0227-49a9-8ca9-b5ead46a7c43"
      },
      "execution_count": null,
      "outputs": [
        {
          "output_type": "stream",
          "name": "stderr",
          "text": [
            "<ipython-input-14-9954ba04d480>:9: FutureWarning: \n",
            "\n",
            "Passing `palette` without assigning `hue` is deprecated and will be removed in v0.14.0. Assign the `x` variable to `hue` and set `legend=False` for the same effect.\n",
            "\n",
            "  sns.boxplot(x=\"model_year\", y=\"mpg\", data=df, palette=palette)\n",
            "<ipython-input-14-9954ba04d480>:9: UserWarning: \n",
            "The palette list has fewer values (5) than needed (13) and will cycle, which may produce an uninterpretable plot.\n",
            "  sns.boxplot(x=\"model_year\", y=\"mpg\", data=df, palette=palette)\n"
          ]
        },
        {
          "output_type": "display_data",
          "data": {
            "text/plain": [
              "<Figure size 640x480 with 1 Axes>"
            ],
            "image/png": "[encoded data removed]"
          },
          "metadata": {}
        }
      ]
    },
    {
      "cell_type": "code",
      "source": [
        "import seaborn as sns\n",
        "import matplotlib.pyplot as plt\n",
        "import pandas as pd\n",
        "\n",
        "sns.boxplot(x=\"origin\", y=\"mpg\", data=df, palette=[\"lightcoral\", \"lightgreen\", \"lightblue\"])\n",
        "plt.xlabel(\"Model Year\")\n",
        "plt.ylabel(\"MPG\")\n",
        "plt.title(\"Boxplot of MPG for Origin\")\n",
        "plt.show()"
      ],
      "metadata": {
        "colab": {
          "base_uri": "https://localhost:8080/",
          "height": 559
        },
        "id": "1owHhNQPabAw",
        "outputId": "f55af1dd-2373-4572-b47e-8a1fb230a6d8"
      },
      "execution_count": null,
      "outputs": [
        {
          "output_type": "stream",
          "name": "stderr",
          "text": [
            "<ipython-input-21-ac88b23a5788>:5: FutureWarning: \n",
            "\n",
            "Passing `palette` without assigning `hue` is deprecated and will be removed in v0.14.0. Assign the `x` variable to `hue` and set `legend=False` for the same effect.\n",
            "\n",
            "  sns.boxplot(x=\"origin\", y=\"mpg\", data=df, palette=[\"lightcoral\", \"lightgreen\", \"lightblue\"])\n"
          ]
        },
        {
          "output_type": "display_data",
          "data": {
            "text/plain": [
              "<Figure size 640x480 with 1 Axes>"
            ],
            "image/png": "[encoded data removed]"
          },
          "metadata": {}
        }
      ]
    },
    {
      "cell_type": "code",
      "source": [
        "import pandas as pd\n",
        "import matplotlib.pyplot as plt\n",
        "import seaborn as sns\n",
        "\n",
        "independent_vars = ['horsepower', 'weight']\n",
        "colors = [\"lightgreen\", \"plum\"]\n",
        "plt.figure(figsize=(10, 5))\n",
        "for i, var in enumerate(independent_vars):\n",
        "    plt.subplot(1, 2, i + 1)\n",
        "    sns.scatterplot(x=df[var], y=df['mpg'], color=colors[i])\n",
        "    plt.title(f'Scatter Plot between mpg and {var}')\n",
        "    plt.xlabel(var)\n",
        "    plt.ylabel('Miles per Gallon (mpg)')\n",
        "plt.tight_layout()\n",
        "plt.show()"
      ],
      "metadata": {
        "colab": {
          "base_uri": "https://localhost:8080/",
          "height": 507
        },
        "id": "8VqapGuPa4fw",
        "outputId": "66e5b204-e6e7-466d-efad-00cb36131783"
      },
      "execution_count": null,
      "outputs": [
        {
          "output_type": "display_data",
          "data": {
            "text/plain": [
              "<Figure size 1000x500 with 2 Axes>"
            ],
            "image/png": "[encoded data removed]"
          },
          "metadata": {}
        }
      ]
    },
    {
      "cell_type": "code",
      "source": [
        "import pandas as pd\n",
        "import matplotlib.pyplot as plt\n",
        "import seaborn as sns\n",
        "\n",
        "# Assuming you have loaded the data into a DataFrame\n",
        "# data = pd.read_csv('clean_data.csv')\n",
        "\n",
        "# List of independent variables to plot\n",
        "independent_vars = ['horsepower', 'weight', 'model_year', 'origin']\n",
        "\n",
        "colors = [\"lightgreen\", \"plum\", \"lightblue\", \"lightcoral\"]\n",
        "\n",
        "# Create scatter plots for each independent variable\n",
        "plt.figure(figsize=(15, 5))\n",
        "for i, var in enumerate(independent_vars):\n",
        "    plt.subplot(1, 4, i + 1)\n",
        "    sns.scatterplot(x=df[var], y=df['mpg'], color=colors[i])\n",
        "    plt.title(f'Scatter Plot between mpg and {var}')\n",
        "    plt.xlabel(var)\n",
        "    plt.ylabel('Miles per Gallon (mpg)')\n",
        "plt.tight_layout()\n",
        "plt.show()"
      ],
      "metadata": {
        "colab": {
          "base_uri": "https://localhost:8080/",
          "height": 507
        },
        "id": "5XMBjq-zkMew",
        "outputId": "0f537296-4329-417f-9f0a-ae0e888d5750"
      },
      "execution_count": null,
      "outputs": [
        {
          "output_type": "display_data",
          "data": {
            "text/plain": [
              "<Figure size 1500x500 with 4 Axes>"
            ],
            "image/png": "[encoded data removed]"
          },
          "metadata": {}
        }
      ]
    },
    {
      "cell_type": "code",
      "source": [
        "import pandas as pd\n",
        "import numpy as np\n",
        "from sklearn.model_selection import train_test_split\n",
        "from sklearn.tree import DecisionTreeClassifier, export_text\n",
        "from sklearn.metrics import accuracy_score\n",
        "from scipy.stats import chi2_contingency\n",
        "\n",
        "df = pd.read_csv(\"cleaned_data_Num.csv\")\n",
        "\n",
        "# Chi-Squared Test\n",
        "contingency_table = pd.crosstab(df['mpg'], df['origin'])\n",
        "chi2, p, dof, expected = chi2_contingency(contingency_table)\n",
        "\n",
        "print(\"Chi-Squared Test Results:\")\n",
        "print(f\"Chi2 Value: {chi2}\")\n",
        "print(f\"P-value: {p}\")\n",
        "if p < 0.05:\n",
        "    print(\"There is a significant dependency between mpg and origin.\\n\")\n",
        "else:\n",
        "    print(\"There is no significant dependency between mpg and origin.\\n\")\n",
        "\n"
      ],
      "metadata": {
        "colab": {
          "base_uri": "https://localhost:8080/"
        },
        "id": "4qNFxG9zQJhx",
        "outputId": "10e16a15-c284-4b68-bc64-b7cd49cc34b3"
      },
      "execution_count": null,
      "outputs": [
        {
          "output_type": "stream",
          "name": "stdout",
          "text": [
            "Chi-Squared Test Results:\n",
            "Chi2 Value: 376.89544984661086\n",
            "P-value: 2.3449744477569078e-07\n",
            "There is a significant dependency between mpg and origin.\n",
            "\n"
          ]
        }
      ]
    },
    {
      "cell_type": "code",
      "source": [
        "from scipy.stats import chi2_contingency\n",
        "\n",
        "df = pd.read_csv(\"cleaned_data.csv\")\n",
        "\n",
        "# Create contingency table\n",
        "contingency_table = pd.crosstab(df['mpg'], df['origin'])\n",
        "print(contingency_table)\n",
        "\n",
        "# Chi-squared test\n",
        "chi2, p, dof, expected = chi2_contingency(contingency_table)\n",
        "\n",
        "print(f\"Chi-squared: {chi2}, p-value: {p}\")\n"
      ],
      "metadata": {
        "colab": {
          "base_uri": "https://localhost:8080/"
        },
        "id": "OTW0wto6n2QD",
        "outputId": "5827f6ea-0920-40dc-f3a0-98c50d8b527e"
      },
      "execution_count": null,
      "outputs": [
        {
          "output_type": "stream",
          "name": "stdout",
          "text": [
            "origin  Asia  Europe  NorthAmerican\n",
            "mpg                                \n",
            "High      40      11             16\n",
            "Low        9      13            159\n",
            "Medium    30      39             55\n",
            "Chi-squared: 136.88455435104234, p-value: 1.3107523581492288e-28\n"
          ]
        }
      ]
    }
  ]
}